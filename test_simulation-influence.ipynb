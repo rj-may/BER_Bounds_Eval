{
 "cells": [
  {
   "cell_type": "code",
   "execution_count": 1,
   "id": "09cad3b7",
   "metadata": {},
   "outputs": [],
   "source": [
    "import numpy as np\n",
    "import pandas as pd\n",
    "import matplotlib.pyplot as plt\n",
    "import math\n"
   ]
  },
  {
   "cell_type": "code",
   "execution_count": 2,
   "id": "9a944aa0",
   "metadata": {},
   "outputs": [
    {
     "name": "stderr",
     "output_type": "stream",
     "text": [
      "/usr/lib/python3/dist-packages/scipy/__init__.py:146: UserWarning: A NumPy version >=1.17.3 and <1.25.0 is required for this version of SciPy (detected version 1.26.3\n",
      "  warnings.warn(f\"A NumPy version >={np_minversion} and <{np_maxversion}\"\n"
     ]
    }
   ],
   "source": [
    "# from modules.dp_func import __get_FR\n",
    "from modules.dp_func import get_bounds_dp\n",
    "\n",
    "\n",
    "from modules.influence import hellinger_divergence,get_influence_bounds"
   ]
  },
  {
   "cell_type": "code",
   "execution_count": null,
   "id": "ab7c9ac9",
   "metadata": {},
   "outputs": [],
   "source": []
  },
  {
   "cell_type": "code",
   "execution_count": 3,
   "id": "d52b7eaf",
   "metadata": {},
   "outputs": [],
   "source": [
    "# Set the mean and covariance matrix for each Gaussian distribution\n",
    "diff = .1\n",
    "\n",
    "dim = 3\n",
    "\n",
    "mean1 = np.zeros(dim)\n",
    "# covariance1 = np.ones((3,3))\n",
    "\n",
    "covariance1 = np.identity(dim)\n",
    "\n",
    "mean2 = np.zeros(dim)\n",
    "mean2[0] = diff\n",
    "\n",
    "\n",
    "covariance2= np.identity(dim)\n",
    "\n",
    "#choose the number of samples per group. \n",
    "samples = 1000\n",
    "\n",
    "n0 = samples\n",
    "n1 = samples\n",
    "\n",
    "# p, q = .5, .5"
   ]
  },
  {
   "cell_type": "code",
   "execution_count": null,
   "id": "d0ff721a",
   "metadata": {},
   "outputs": [],
   "source": []
  },
  {
   "cell_type": "code",
   "execution_count": null,
   "id": "e4c83efc",
   "metadata": {},
   "outputs": [],
   "source": []
  },
  {
   "cell_type": "code",
   "execution_count": 4,
   "id": "de25f9c0",
   "metadata": {},
   "outputs": [
    {
     "name": "stdout",
     "output_type": "stream",
     "text": [
      "The Bounds\n",
      "0.4672456780511872\n",
      "0.49508750000000007\n",
      "0.3675675147876507\n",
      "0.4821057242111806\n"
     ]
    }
   ],
   "source": [
    "\n",
    "bounds_l = []\n",
    "bounds_u = []\n",
    "\n",
    "\n",
    "inf_l = []\n",
    "inf_u = []\n",
    "\n",
    "\n",
    "MC_num = 200\n",
    "\n",
    "for i in range(MC_num):\n",
    "    # Generate random samples from the multivariate normal distributions\n",
    "    data1 = np.random.multivariate_normal(mean1, covariance1, n0)\n",
    "    data2 = np.random.multivariate_normal(mean2, covariance2, n1)\n",
    "\n",
    "    \n",
    "#     FR = __get_FR(data1, data2) #get the Frieman Rafsky statistic. \n",
    "#     Dp = 1 - FR * (n0 + n1)/ (2 * n0 * n1)\n",
    "#     Dp_lst.append(Dp)\n",
    "    a,b = get_bounds_dp(data1,data2)\n",
    "    bounds_l.append(a)\n",
    "    bounds_u.append(b)\n",
    "    \n",
    "#     a, b, c = hellinger_divergence(data1, data2)\n",
    "    \n",
    "# #     print(a, b, c)\n",
    "    \n",
    "#     BC = 1 - a\n",
    "#     up = 1/2 * BC \n",
    "#     low = 1/2 - 1/2 * np.sqrt(1- BC**2)\n",
    "    a, b = get_influence_bounds(data1, data2)\n",
    "\n",
    "    \n",
    "    inf_l.append(a)\n",
    "    inf_u.append(b)\n",
    "    \n",
    "\n",
    "\n",
    "#     print(\"heyyyyyyyyyyyyyyyyyyyyyyyyyyyyyyyy\")\n",
    "\n",
    "print(\"The Bounds\")\n",
    "\n",
    "\n",
    "\n",
    "\n",
    "lower = np.average(bounds_l)\n",
    "upper = np.average(bounds_u)\n",
    "print(lower)\n",
    "print(upper)\n",
    "\n",
    "infl = np.average(inf_l)\n",
    "infu = np.average(inf_u)\n",
    "print(infl)\n",
    "print(infu)"
   ]
  },
  {
   "cell_type": "code",
   "execution_count": 5,
   "id": "80ad6804",
   "metadata": {},
   "outputs": [],
   "source": [
    "# np.mean(Dp_lst)\n"
   ]
  },
  {
   "cell_type": "code",
   "execution_count": null,
   "id": "8fdf776e",
   "metadata": {},
   "outputs": [],
   "source": []
  },
  {
   "cell_type": "code",
   "execution_count": null,
   "id": "bb33fc6e",
   "metadata": {},
   "outputs": [],
   "source": []
  },
  {
   "cell_type": "code",
   "execution_count": 6,
   "id": "37d8b6af",
   "metadata": {},
   "outputs": [
    {
     "name": "stdout",
     "output_type": "stream",
     "text": [
      "0.36866074463436305\n",
      "0.5\n",
      "0.4655\n",
      "0.5\n"
     ]
    }
   ],
   "source": [
    "print(min(bounds_l))\n",
    "print(max(bounds_l))\n",
    "\n",
    "\n",
    "print(min(bounds_u))\n",
    "print(max(bounds_u))"
   ]
  },
  {
   "cell_type": "code",
   "execution_count": null,
   "id": "645cbce2",
   "metadata": {},
   "outputs": [],
   "source": []
  },
  {
   "cell_type": "code",
   "execution_count": null,
   "id": "b75e2195",
   "metadata": {},
   "outputs": [],
   "source": []
  },
  {
   "cell_type": "code",
   "execution_count": 7,
   "id": "2c4732a7",
   "metadata": {},
   "outputs": [
    {
     "name": "stdout",
     "output_type": "stream",
     "text": [
      "BER 2d: 0.48006096891763633\n"
     ]
    }
   ],
   "source": [
    "dx = 0.001\n",
    "x = np.arange(-5, 5 + dx, dx)\n",
    "\n",
    "f0 = np.exp(-0.5 * (x - 0)**2) / np.sqrt(2 * np.pi)\n",
    "f1 = np.exp(-0.5 * (x - diff)**2) / np.sqrt(2 * np.pi)\n",
    "\n",
    "fmin = np.minimum(f0, f1)\n",
    "\n",
    "BER = 0.5 * np.sum(fmin * dx)\n",
    "\n",
    "print(\"BER 2d:\", BER)"
   ]
  }
 ],
 "metadata": {
  "kernelspec": {
   "display_name": "Python 3 (ipykernel)",
   "language": "python",
   "name": "python3"
  },
  "language_info": {
   "codemirror_mode": {
    "name": "ipython",
    "version": 3
   },
   "file_extension": ".py",
   "mimetype": "text/x-python",
   "name": "python",
   "nbconvert_exporter": "python",
   "pygments_lexer": "ipython3",
   "version": "3.10.12"
  }
 },
 "nbformat": 4,
 "nbformat_minor": 5
}
