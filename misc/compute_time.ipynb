{
 "cells": [
  {
   "cell_type": "code",
   "execution_count": 1,
   "metadata": {},
   "outputs": [
    {
     "name": "stdout",
     "output_type": "stream",
     "text": [
      "Current Directory: /mnt/c/users/rjmay/code/research_ms/misc\n",
      "Updated Directory: /mnt/c/users/rjmay/code/research_ms\n"
     ]
    }
   ],
   "source": [
    "import os\n",
    "\n",
    "# Get the current working directory\n",
    "current_directory = os.getcwd()\n",
    "print(\"Current Directory:\", current_directory)\n",
    "\n",
    "# Move to the parent directory\n",
    "parent_directory = os.path.dirname(current_directory)\n",
    "os.chdir(parent_directory)\n",
    "\n",
    "# Print the updated working directory\n",
    "updated_directory = os.getcwd()\n",
    "print(\"Updated Directory:\", updated_directory)"
   ]
  },
  {
   "cell_type": "markdown",
   "metadata": {},
   "source": [
    "Demonstration of using the bound files.\n"
   ]
  },
  {
   "cell_type": "code",
   "execution_count": 2,
   "metadata": {},
   "outputs": [],
   "source": [
    "\n",
    "import numpy as np\n",
    "from scipy.stats import norm\n",
    "from modules.bounds_calculator import bounds_calculator\n",
    "\n",
    "from modules.data_gen_mv import data_gen_multivariate\n",
    "from modules.data_gen_gauss_mix import data_gen_gauss_mix\n",
    "from modules.data_gen import data_gen\n",
    "\n",
    "\n",
    "import time "
   ]
  },
  {
   "cell_type": "markdown",
   "metadata": {},
   "source": [
    "Running the bounds"
   ]
  },
  {
   "cell_type": "code",
   "execution_count": 3,
   "metadata": {},
   "outputs": [],
   "source": [
    "default = 21\n",
    "\n",
    "\n",
    "def compute_time(data_generator, sample_size, eng,runs=default):\n",
    "    data = [data_generator.sample(sample_size) for i in range(runs)]\n",
    "\n",
    "    times = []\n",
    "    for d in data:\n",
    "        a, b= d\n",
    "\n",
    "        start = time.time()\n",
    "        bounds_calculator(a, b, MATLAB = eng)\n",
    "\n",
    "        end = time.time()\n",
    "\n",
    "        times.append(end - start)\n",
    "\n",
    "        \n",
    "    return np.median(times)"
   ]
  },
  {
   "cell_type": "markdown",
   "metadata": {},
   "source": [
    "Normals"
   ]
  },
  {
   "cell_type": "code",
   "execution_count": 4,
   "metadata": {},
   "outputs": [],
   "source": [
    "\n",
    "def norm_compute_time(dim, sample_size, eng ,runs= default):\n",
    "\n",
    "    sample_size = int(sample_size /2 ) ### sampling for each class\n",
    "\n",
    "    mean_sep = 2.56\n",
    "    func0 = np.random.multivariate_normal\n",
    "    func1 = np.random.multivariate_normal\n",
    "\n",
    "    mean1 = np.zeros(dim)\n",
    "    covariance1 = np.identity(dim)\n",
    "\n",
    "    mean2 = np.zeros(dim)\n",
    "    mean2[0] = mean_sep\n",
    "            \n",
    "    params0 = {'mean': mean1, 'cov': covariance1}\n",
    "    params1  = {'mean': mean2, 'cov': covariance1}\n",
    "            \n",
    "    generator  = data_gen_multivariate(func0, func1,  params0, params1, boundary = mean_sep/2 )\n",
    "\n",
    "    run_time = compute_time(generator, sample_size, eng, runs = runs)\n",
    "\n",
    "    return run_time"
   ]
  },
  {
   "cell_type": "code",
   "execution_count": 5,
   "metadata": {},
   "outputs": [],
   "source": [
    "def gaussian_mix_compute_time(dim, sample_size, eng ,runs = default):\n",
    "\n",
    "    sample_size = int(sample_size /2 ) ### sampling for each class\n",
    "\n",
    "    \n",
    "\n",
    "    mean_sep = 2.56\n",
    "        \n",
    "    params0 = {'means': [[-1 * mean_sep], [mean_sep]], 'covariances':  [ [[1]], [[1]]]}\n",
    "\n",
    "    params1 = {'mean' : np.zeros(dim), 'cov': np.identity(dim) }\n",
    "\n",
    "    generator = data_gen_gauss_mix(params0, params1, boundary = [-1.55, 1.55] )\n",
    "\n",
    "    run_time = compute_time(generator, sample_size, eng, runs = runs)\n",
    "\n",
    "    return run_time"
   ]
  },
  {
   "cell_type": "code",
   "execution_count": 6,
   "metadata": {},
   "outputs": [],
   "source": [
    "\n",
    "def uniform2_compute_time(dim, sample_size, eng ,runs=default):\n",
    "\n",
    "    sample_size = int(sample_size /2 ) ### sampling for each class\n",
    "\n",
    "    func0 = np.random.uniform\n",
    "    func1 = np.random.uniform\n",
    "\n",
    "    params0 = {'low': 0, 'high':1}\n",
    "    params1= {\"low\":.8, \"high\" : 1.8}\n",
    "\n",
    "    generator = data_gen(func0, func1,  params0, params1, dim, boundary=.9)\n",
    "\n",
    "    run_time = compute_time(generator, sample_size, eng, runs = runs)\n",
    "\n",
    "    return run_time\n",
    "\n",
    "\n",
    "def uniform_norm_compute_time(dim, sample_size, eng ,runs=default):\n",
    "\n",
    "    sample_size = int(sample_size /2 ) ### sampling for each class\n",
    "\n",
    "\n",
    "    func0 = np.random.uniform\n",
    "    func1 = np.random.normal\n",
    "\n",
    "    params0 = {'low': .5, 'high':3}\n",
    "    params1= {\"loc\":0, \"scale\" : 1}\n",
    "\n",
    "    generator = data_gen(func0, func1,  params0, params1, dim, boundary=.5)\n",
    "\n",
    "    run_time = compute_time(generator, sample_size, eng, runs = runs)\n",
    "\n",
    "    return run_time\n",
    "\n",
    "\n",
    "def norm_beta_compute_time(dim, sample_size, eng ,runs= default):\n",
    "\n",
    "    sample_size = int(sample_size /2 ) ### sampling for each class\n",
    "\n",
    "\n",
    "    func0 = np.random.normal\n",
    "    func1 = np.random.beta\n",
    "    params0= {\"loc\":0, \"scale\" : 1}\n",
    "    params1 = {'a': 20, 'b':20}\n",
    "\n",
    "    generator = data_gen(func0, func1,  params0, params1, dim, boundary =[0.3219999999942793, 0.6839999999940787] )\n",
    "\n",
    "    run_time = compute_time(generator, sample_size, eng, runs = runs)\n",
    "\n",
    "    return run_time\n",
    "\n",
    "\n"
   ]
  },
  {
   "cell_type": "markdown",
   "metadata": {},
   "source": [
    "### Starting the computing\n"
   ]
  },
  {
   "cell_type": "code",
   "execution_count": 7,
   "metadata": {},
   "outputs": [],
   "source": [
    "\n",
    "dims = [3, 8, 15]\n",
    "samples  =[50, 5000]"
   ]
  },
  {
   "cell_type": "code",
   "execution_count": 8,
   "metadata": {},
   "outputs": [],
   "source": [
    "\n",
    "import matlab.engine\n",
    "eng = matlab.engine.start_matlab()"
   ]
  },
  {
   "cell_type": "code",
   "execution_count": 9,
   "metadata": {},
   "outputs": [
    {
     "name": "stdout",
     "output_type": "stream",
     "text": [
      "dimension =  3 samples =  50 time =  0.11\n",
      "dimension =  3 samples =  5000 time =  7.98\n",
      "dimension =  8 samples =  50 time =  0.14\n",
      "dimension =  8 samples =  5000 time =  9.26\n",
      "1  was calculated for k. 3 is chosen for k for variance purposes.\n",
      "1  was calculated for k. 3 is chosen for k for variance purposes.\n",
      "1  was calculated for k. 3 is chosen for k for variance purposes.\n",
      "1  was calculated for k. 3 is chosen for k for variance purposes.\n",
      "1  was calculated for k. 3 is chosen for k for variance purposes.\n",
      "1  was calculated for k. 3 is chosen for k for variance purposes.\n",
      "1  was calculated for k. 3 is chosen for k for variance purposes.\n",
      "1  was calculated for k. 3 is chosen for k for variance purposes.\n",
      "1  was calculated for k. 3 is chosen for k for variance purposes.\n",
      "1  was calculated for k. 3 is chosen for k for variance purposes.\n",
      "1  was calculated for k. 3 is chosen for k for variance purposes.\n",
      "1  was calculated for k. 3 is chosen for k for variance purposes.\n",
      "1  was calculated for k. 3 is chosen for k for variance purposes.\n",
      "1  was calculated for k. 3 is chosen for k for variance purposes.\n",
      "1  was calculated for k. 3 is chosen for k for variance purposes.\n",
      "1  was calculated for k. 3 is chosen for k for variance purposes.\n",
      "1  was calculated for k. 3 is chosen for k for variance purposes.\n",
      "1  was calculated for k. 3 is chosen for k for variance purposes.\n",
      "1  was calculated for k. 3 is chosen for k for variance purposes.\n",
      "1  was calculated for k. 3 is chosen for k for variance purposes.\n",
      "1  was calculated for k. 3 is chosen for k for variance purposes.\n",
      "dimension =  15 samples =  50 time =  0.18\n",
      "dimension =  15 samples =  5000 time =  8.42\n"
     ]
    }
   ],
   "source": [
    "\n",
    "for d in dims:\n",
    "    for s in samples:\n",
    "        run_time = norm_compute_time(d,s, eng)\n",
    "        print(\"dimension = \", d, \"samples = \", s, \"time = \", round(run_time,2))\n"
   ]
  },
  {
   "cell_type": "markdown",
   "metadata": {},
   "source": [
    "Gaussian Mixture"
   ]
  },
  {
   "cell_type": "code",
   "execution_count": 10,
   "metadata": {},
   "outputs": [
    {
     "name": "stdout",
     "output_type": "stream",
     "text": [
      "dimension =  3 samples =  50 time =  0.1\n"
     ]
    },
    {
     "name": "stdout",
     "output_type": "stream",
     "text": [
      "dimension =  3 samples =  5000 time =  7.76\n",
      "dimension =  8 samples =  50 time =  0.12\n",
      "dimension =  8 samples =  5000 time =  7.98\n",
      "1  was calculated for k. 3 is chosen for k for variance purposes.\n",
      "1  was calculated for k. 3 is chosen for k for variance purposes.\n",
      "1  was calculated for k. 3 is chosen for k for variance purposes.\n",
      "1  was calculated for k. 3 is chosen for k for variance purposes.\n",
      "1  was calculated for k. 3 is chosen for k for variance purposes.\n",
      "1  was calculated for k. 3 is chosen for k for variance purposes.\n",
      "1  was calculated for k. 3 is chosen for k for variance purposes.\n",
      "1  was calculated for k. 3 is chosen for k for variance purposes.\n",
      "1  was calculated for k. 3 is chosen for k for variance purposes.\n",
      "1  was calculated for k. 3 is chosen for k for variance purposes.\n",
      "1  was calculated for k. 3 is chosen for k for variance purposes.\n",
      "1  was calculated for k. 3 is chosen for k for variance purposes.\n",
      "1  was calculated for k. 3 is chosen for k for variance purposes.\n",
      "1  was calculated for k. 3 is chosen for k for variance purposes.\n",
      "1  was calculated for k. 3 is chosen for k for variance purposes.\n",
      "1  was calculated for k. 3 is chosen for k for variance purposes.\n",
      "1  was calculated for k. 3 is chosen for k for variance purposes.\n",
      "1  was calculated for k. 3 is chosen for k for variance purposes.\n",
      "1  was calculated for k. 3 is chosen for k for variance purposes.\n",
      "1  was calculated for k. 3 is chosen for k for variance purposes.\n",
      "1  was calculated for k. 3 is chosen for k for variance purposes.\n",
      "dimension =  15 samples =  50 time =  0.16\n",
      "dimension =  15 samples =  5000 time =  8.29\n"
     ]
    }
   ],
   "source": [
    "\n",
    "for d in dims:\n",
    "    for s in samples:\n",
    "        run_time = gaussian_mix_compute_time(d,s, eng)\n",
    "        print(\"dimension = \", d, \"samples = \", s, \"time = \", round(run_time,2))\n"
   ]
  },
  {
   "cell_type": "markdown",
   "metadata": {},
   "source": [
    "Paired Uniforms "
   ]
  },
  {
   "cell_type": "code",
   "execution_count": 11,
   "metadata": {},
   "outputs": [
    {
     "name": "stdout",
     "output_type": "stream",
     "text": [
      "dimension =  3 samples =  50 time =  0.1\n"
     ]
    },
    {
     "name": "stdout",
     "output_type": "stream",
     "text": [
      "dimension =  3 samples =  5000 time =  7.65\n",
      "dimension =  8 samples =  50 time =  0.13\n",
      "dimension =  8 samples =  5000 time =  7.94\n",
      "1  was calculated for k. 3 is chosen for k for variance purposes.\n",
      "1  was calculated for k. 3 is chosen for k for variance purposes.\n",
      "1  was calculated for k. 3 is chosen for k for variance purposes.\n",
      "1  was calculated for k. 3 is chosen for k for variance purposes.\n",
      "1  was calculated for k. 3 is chosen for k for variance purposes.\n",
      "1  was calculated for k. 3 is chosen for k for variance purposes.\n",
      "1  was calculated for k. 3 is chosen for k for variance purposes.\n",
      "1  was calculated for k. 3 is chosen for k for variance purposes.\n",
      "1  was calculated for k. 3 is chosen for k for variance purposes.\n",
      "1  was calculated for k. 3 is chosen for k for variance purposes.\n",
      "1  was calculated for k. 3 is chosen for k for variance purposes.\n",
      "1  was calculated for k. 3 is chosen for k for variance purposes.\n",
      "1  was calculated for k. 3 is chosen for k for variance purposes.\n",
      "1  was calculated for k. 3 is chosen for k for variance purposes.\n",
      "1  was calculated for k. 3 is chosen for k for variance purposes.\n",
      "1  was calculated for k. 3 is chosen for k for variance purposes.\n",
      "1  was calculated for k. 3 is chosen for k for variance purposes.\n",
      "1  was calculated for k. 3 is chosen for k for variance purposes.\n",
      "1  was calculated for k. 3 is chosen for k for variance purposes.\n",
      "1  was calculated for k. 3 is chosen for k for variance purposes.\n",
      "1  was calculated for k. 3 is chosen for k for variance purposes.\n",
      "dimension =  15 samples =  50 time =  0.17\n",
      "dimension =  15 samples =  5000 time =  8.45\n"
     ]
    }
   ],
   "source": [
    "\n",
    "for d in dims:\n",
    "    for s in samples:\n",
    "        run_time = uniform2_compute_time(d,s, eng)\n",
    "        print(\"dimension = \", d, \"samples = \", s, \"time = \", round(run_time,2))"
   ]
  },
  {
   "cell_type": "markdown",
   "metadata": {},
   "source": [
    "norm beta"
   ]
  },
  {
   "cell_type": "code",
   "execution_count": 12,
   "metadata": {},
   "outputs": [
    {
     "name": "stdout",
     "output_type": "stream",
     "text": [
      "dimension =  3 samples =  50 time =  0.09\n"
     ]
    },
    {
     "name": "stdout",
     "output_type": "stream",
     "text": [
      "dimension =  3 samples =  5000 time =  7.54\n",
      "dimension =  8 samples =  50 time =  0.13\n",
      "dimension =  8 samples =  5000 time =  7.82\n",
      "1  was calculated for k. 3 is chosen for k for variance purposes.\n",
      "1  was calculated for k. 3 is chosen for k for variance purposes.\n",
      "1  was calculated for k. 3 is chosen for k for variance purposes.\n",
      "1  was calculated for k. 3 is chosen for k for variance purposes.\n",
      "1  was calculated for k. 3 is chosen for k for variance purposes.\n",
      "1  was calculated for k. 3 is chosen for k for variance purposes.\n",
      "1  was calculated for k. 3 is chosen for k for variance purposes.\n",
      "1  was calculated for k. 3 is chosen for k for variance purposes.\n",
      "1  was calculated for k. 3 is chosen for k for variance purposes.\n",
      "1  was calculated for k. 3 is chosen for k for variance purposes.\n",
      "1  was calculated for k. 3 is chosen for k for variance purposes.\n",
      "1  was calculated for k. 3 is chosen for k for variance purposes.\n",
      "1  was calculated for k. 3 is chosen for k for variance purposes.\n",
      "1  was calculated for k. 3 is chosen for k for variance purposes.\n",
      "1  was calculated for k. 3 is chosen for k for variance purposes.\n",
      "1  was calculated for k. 3 is chosen for k for variance purposes.\n",
      "1  was calculated for k. 3 is chosen for k for variance purposes.\n",
      "1  was calculated for k. 3 is chosen for k for variance purposes.\n",
      "1  was calculated for k. 3 is chosen for k for variance purposes.\n",
      "1  was calculated for k. 3 is chosen for k for variance purposes.\n",
      "1  was calculated for k. 3 is chosen for k for variance purposes.\n",
      "dimension =  15 samples =  50 time =  0.17\n",
      "dimension =  15 samples =  5000 time =  8.4\n"
     ]
    }
   ],
   "source": [
    "for d in dims:\n",
    "    for s in samples:\n",
    "        run_time = norm_beta_compute_time(d,s, eng)\n",
    "        print(\"dimension = \", d, \"samples = \", s, \"time = \", round(run_time,2))"
   ]
  },
  {
   "cell_type": "markdown",
   "metadata": {},
   "source": [
    "Uniform Normal"
   ]
  },
  {
   "cell_type": "code",
   "execution_count": 13,
   "metadata": {},
   "outputs": [
    {
     "name": "stdout",
     "output_type": "stream",
     "text": [
      "dimension =  3 samples =  50 time =  0.09\n"
     ]
    },
    {
     "name": "stdout",
     "output_type": "stream",
     "text": [
      "dimension =  3 samples =  5000 time =  7.38\n",
      "dimension =  8 samples =  50 time =  0.13\n",
      "dimension =  8 samples =  5000 time =  7.6\n",
      "1  was calculated for k. 3 is chosen for k for variance purposes.\n",
      "1  was calculated for k. 3 is chosen for k for variance purposes.\n",
      "1  was calculated for k. 3 is chosen for k for variance purposes.\n",
      "1  was calculated for k. 3 is chosen for k for variance purposes.\n",
      "1  was calculated for k. 3 is chosen for k for variance purposes.\n",
      "1  was calculated for k. 3 is chosen for k for variance purposes.\n",
      "1  was calculated for k. 3 is chosen for k for variance purposes.\n",
      "1  was calculated for k. 3 is chosen for k for variance purposes.\n",
      "1  was calculated for k. 3 is chosen for k for variance purposes.\n",
      "1  was calculated for k. 3 is chosen for k for variance purposes.\n",
      "1  was calculated for k. 3 is chosen for k for variance purposes.\n",
      "1  was calculated for k. 3 is chosen for k for variance purposes.\n",
      "1  was calculated for k. 3 is chosen for k for variance purposes.\n",
      "1  was calculated for k. 3 is chosen for k for variance purposes.\n",
      "1  was calculated for k. 3 is chosen for k for variance purposes.\n",
      "1  was calculated for k. 3 is chosen for k for variance purposes.\n",
      "1  was calculated for k. 3 is chosen for k for variance purposes.\n",
      "1  was calculated for k. 3 is chosen for k for variance purposes.\n",
      "1  was calculated for k. 3 is chosen for k for variance purposes.\n",
      "1  was calculated for k. 3 is chosen for k for variance purposes.\n",
      "1  was calculated for k. 3 is chosen for k for variance purposes.\n",
      "dimension =  15 samples =  50 time =  0.16\n",
      "dimension =  15 samples =  5000 time =  8.28\n"
     ]
    }
   ],
   "source": [
    "\n",
    "for d in dims:\n",
    "    for s in samples:\n",
    "        run_time = uniform_norm_compute_time(d,s, eng)\n",
    "        print(\"dimension = \", d, \"samples = \", s, \"time = \", round(run_time,2))"
   ]
  },
  {
   "cell_type": "code",
   "execution_count": 14,
   "metadata": {},
   "outputs": [],
   "source": [
    "eng.quit()"
   ]
  }
 ],
 "metadata": {
  "kernelspec": {
   "display_name": "Python 3",
   "language": "python",
   "name": "python3"
  },
  "language_info": {
   "codemirror_mode": {
    "name": "ipython",
    "version": 3
   },
   "file_extension": ".py",
   "mimetype": "text/x-python",
   "name": "python",
   "nbconvert_exporter": "python",
   "pygments_lexer": "ipython3",
   "version": "3.10.12"
  }
 },
 "nbformat": 4,
 "nbformat_minor": 2
}
