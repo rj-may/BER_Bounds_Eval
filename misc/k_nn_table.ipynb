{
 "cells": [
  {
   "cell_type": "markdown",
   "metadata": {},
   "source": [
    "Trying to figure out the values for the table. "
   ]
  },
  {
   "cell_type": "code",
   "execution_count": 1,
   "metadata": {},
   "outputs": [
    {
     "name": "stdout",
     "output_type": "stream",
     "text": [
      "Current Directory: /mnt/c/users/rjmay/code/research_ms/alt_distr\n",
      "Updated Directory: /mnt/c/users/rjmay/code/research_ms\n"
     ]
    }
   ],
   "source": [
    "import os\n",
    "\n",
    "# Get the current working directory\n",
    "current_directory = os.getcwd()\n",
    "print(\"Current Directory:\", current_directory)\n",
    "\n",
    "# Move to the parent directory\n",
    "parent_directory = os.path.dirname(current_directory)\n",
    "os.chdir(parent_directory)\n",
    "\n",
    "# Print the updated working directory\n",
    "updated_directory = os.getcwd()\n",
    "print(\"Updated Directory:\", updated_directory)"
   ]
  },
  {
   "cell_type": "code",
   "execution_count": 3,
   "metadata": {},
   "outputs": [],
   "source": [
    "from modules.knn_density import knn_num_calc\n",
    "import math\n",
    "import numpy as np"
   ]
  },
  {
   "cell_type": "code",
   "execution_count": 4,
   "metadata": {},
   "outputs": [],
   "source": [
    "\n",
    "start = math.log10(54)\n",
    "end = math.log10(5000)\n",
    "\n",
    "sample_sizes = np.logspace(start, end+.00001, 11, dtype=int)\n"
   ]
  },
  {
   "cell_type": "code",
   "execution_count": 6,
   "metadata": {},
   "outputs": [
    {
     "data": {
      "text/plain": [
       "array([  54,   84,  133,  210,  330,  519,  817, 1285, 2021, 3179, 5000])"
      ]
     },
     "execution_count": 6,
     "metadata": {},
     "output_type": "execute_result"
    }
   ],
   "source": [
    "sample_sizes"
   ]
  },
  {
   "cell_type": "code",
   "execution_count": 9,
   "metadata": {},
   "outputs": [
    {
     "name": "stdout",
     "output_type": "stream",
     "text": [
      "[  54   84  133  210  330  519  817 1285 2021 3179 5000]\n",
      "3, 4 6 7 10 12 16 21 27 35 45 59 \n",
      "8, 4 4 5 6 6 8 9 10 12 14 16 \n",
      "15, 2 2 2 2 2 2 3 3 3 4 4 \n"
     ]
    }
   ],
   "source": [
    "dims = [3, 8, 15]\n",
    "\n",
    "print(sample_sizes)\n",
    "for d in dims:\n",
    "    print(d,  end =\", \")\n",
    "    for s in sample_sizes:\n",
    "        print(knn_num_calc(s, d), end=\" \")\n",
    "    print()"
   ]
  },
  {
   "cell_type": "code",
   "execution_count": 1,
   "metadata": {},
   "outputs": [
    {
     "name": "stderr",
     "output_type": "stream",
     "text": [
      "/tmp/ipykernel_1425/2591351747.py:25: UserWarning: Setting the 'color' property will override the edgecolor or facecolor properties.\n",
      "  circle = Circle(center, radius, color='gray', alpha=0.3, edgecolor='black', linestyle='dashed')\n"
     ]
    },
    {
     "data": {
      "image/png": "[encoded data removed]",
      "text/plain": [
       "<Figure size 360x360 with 1 Axes>"
      ]
     },
     "metadata": {},
     "output_type": "display_data"
    }
   ],
   "source": [
    "import numpy as np\n",
    "import matplotlib.pyplot as plt\n",
    "from matplotlib.patches import Circle\n",
    "\n",
    "# Set figure and axis\n",
    "fig, ax = plt.subplots(figsize=(5, 5))\n",
    "ax.set_xlim(0, 1)\n",
    "ax.set_ylim(0, 1)\n",
    "ax.set_xticks([])\n",
    "ax.set_yticks([])\n",
    "# ax.set_frame_on(True)\n",
    "\n",
    "# Generate random points in the square\n",
    "np.random.seed(42)\n",
    "n_points = 40\n",
    "points = np.random.rand(n_points, 2)\n",
    "ax.scatter(points[:, 0], points[:, 1], color='black', s=50)\n",
    "\n",
    "# Define center point and radius\n",
    "center = np.array([0.4, 0.4])\n",
    "radius = 0.2\n",
    "ax.scatter(*center, color='black', marker='o', s=85, label='Center')\n",
    "\n",
    "# Draw the circle\n",
    "circle = Circle(center, radius, color='gray', alpha=0.3, edgecolor='black', linestyle='dashed')\n",
    "ax.add_patch(circle)\n",
    "\n",
    "# Pick a point on the boundary of the circle\n",
    "boundary_point = center + np.array([np.cos(np.pi/4), np.sin(np.pi/4)]) * radius\n",
    "ax.scatter(*boundary_point, color='white', edgecolor='black', s=80)\n",
    "\n",
    "# Draw an arrow from center to boundary\n",
    "ax.annotate('r', xy=boundary_point, xytext=center,\n",
    "            arrowprops=dict(arrowstyle='->', lw=1.5))\n",
    "\n",
    "plt.title(\"k-nn Demo\")\n",
    "# plt.legend()\n",
    "plt.show()"
   ]
  }
 ],
 "metadata": {
  "kernelspec": {
   "display_name": "Python 3",
   "language": "python",
   "name": "python3"
  },
  "language_info": {
   "codemirror_mode": {
    "name": "ipython",
    "version": 3
   },
   "file_extension": ".py",
   "mimetype": "text/x-python",
   "name": "python",
   "nbconvert_exporter": "python",
   "pygments_lexer": "ipython3",
   "version": "3.10.12"
  }
 },
 "nbformat": 4,
 "nbformat_minor": 2
}
