{
 "cells": [
  {
   "cell_type": "code",
   "execution_count": 1,
   "metadata": {},
   "outputs": [
    {
     "name": "stdout",
     "output_type": "stream",
     "text": [
      "Current Directory: /mnt/c/users/rjmay/code/research_ms/misc\n",
      "Updated Directory: /mnt/c/users/rjmay/code/research_ms\n"
     ]
    }
   ],
   "source": [
    "import os\n",
    "\n",
    "# Get the current working directory\n",
    "current_directory = os.getcwd()\n",
    "print(\"Current Directory:\", current_directory)\n",
    "\n",
    "# Move to the parent directory\n",
    "parent_directory = os.path.dirname(current_directory)\n",
    "os.chdir(parent_directory)\n",
    "\n",
    "# Print the updated working directory\n",
    "updated_directory = os.getcwd()\n",
    "print(\"Updated Directory:\", updated_directory)"
   ]
  },
  {
   "cell_type": "markdown",
   "metadata": {},
   "source": [
    "Demonstration of using the bound files.\n"
   ]
  },
  {
   "cell_type": "code",
   "execution_count": 2,
   "metadata": {},
   "outputs": [],
   "source": [
    "\n",
    "import numpy as np\n",
    "from scipy.stats import norm\n",
    "from modules.bounds_calculator import bounds_calculator\n",
    "\n",
    "from modules.data_gen_mv import data_gen_multivariate\n",
    "from modules.data_gen_gauss_mix import data_gen_gauss_mix\n",
    "from modules.data_gen import data_gen\n",
    "\n",
    "import pandas as pd \n",
    "\n"
   ]
  },
  {
   "cell_type": "markdown",
   "metadata": {},
   "source": [
    "Running the bounds"
   ]
  },
  {
   "cell_type": "code",
   "execution_count": 3,
   "metadata": {},
   "outputs": [],
   "source": [
    "default = 7\n",
    "\n",
    "\n",
    "def compute_time(data_generator, sample_size, eng,runs=default):\n",
    "    data = [data_generator.sample(sample_size) for i in range(runs)]\n",
    "\n",
    "    times = []\n",
    "    for d in data:\n",
    "        a, b= d\n",
    "\n",
    "        _, time_results = bounds_calculator(a, b, MATLAB = eng, Timer = True)\n",
    "\n",
    "\n",
    "        times.append(time_results)\n",
    "\n",
    "    df =  pd.DataFrame(times)\n",
    "\n",
    "\n",
    "\n",
    "        \n",
    "    return df.median()"
   ]
  },
  {
   "cell_type": "markdown",
   "metadata": {},
   "source": [
    "Normals"
   ]
  },
  {
   "cell_type": "code",
   "execution_count": 4,
   "metadata": {},
   "outputs": [],
   "source": [
    "\n",
    "def norm_compute_time(dim, sample_size, eng ,runs= default):\n",
    "\n",
    "    sample_size = int(sample_size /2 ) ### sampling for each class\n",
    "\n",
    "    mean_sep = 2.56\n",
    "    func0 = np.random.multivariate_normal\n",
    "    func1 = np.random.multivariate_normal\n",
    "\n",
    "    mean1 = np.zeros(dim)\n",
    "    covariance1 = np.identity(dim)\n",
    "\n",
    "    mean2 = np.zeros(dim)\n",
    "    mean2[0] = mean_sep\n",
    "            \n",
    "    params0 = {'mean': mean1, 'cov': covariance1}\n",
    "    params1  = {'mean': mean2, 'cov': covariance1}\n",
    "            \n",
    "    generator  = data_gen_multivariate(func0, func1,  params0, params1, boundary = mean_sep/2 )\n",
    "\n",
    "    run_time = compute_time(generator, sample_size, eng, runs = runs)\n",
    "\n",
    "    return run_time"
   ]
  },
  {
   "cell_type": "code",
   "execution_count": 5,
   "metadata": {},
   "outputs": [],
   "source": [
    "def gaussian_mix_compute_time(dim, sample_size, eng ,runs = default):\n",
    "\n",
    "    sample_size = int(sample_size /2 ) ### sampling for each class\n",
    "\n",
    "    \n",
    "\n",
    "    mean_sep = 2.56\n",
    "        \n",
    "    params0 = {'means': [[-1 * mean_sep], [mean_sep]], 'covariances':  [ [[1]], [[1]]]}\n",
    "\n",
    "    params1 = {'mean' : np.zeros(dim), 'cov': np.identity(dim) }\n",
    "\n",
    "    generator = data_gen_gauss_mix(params0, params1, boundary = [-1.55, 1.55] )\n",
    "\n",
    "    run_time = compute_time(generator, sample_size, eng, runs = runs)\n",
    "\n",
    "    return run_time"
   ]
  },
  {
   "cell_type": "code",
   "execution_count": 6,
   "metadata": {},
   "outputs": [],
   "source": [
    "\n",
    "def uniform2_compute_time(dim, sample_size, eng ,runs=default):\n",
    "\n",
    "    sample_size = int(sample_size /2 ) ### sampling for each class\n",
    "\n",
    "    func0 = np.random.uniform\n",
    "    func1 = np.random.uniform\n",
    "\n",
    "    params0 = {'low': 0, 'high':1}\n",
    "    params1= {\"low\":.8, \"high\" : 1.8}\n",
    "\n",
    "    generator = data_gen(func0, func1,  params0, params1, dim, boundary=.9)\n",
    "\n",
    "    run_time = compute_time(generator, sample_size, eng, runs = runs)\n",
    "\n",
    "    return run_time\n",
    "\n",
    "\n",
    "def uniform_norm_compute_time(dim, sample_size, eng ,runs=default):\n",
    "\n",
    "    sample_size = int(sample_size /2 ) ### sampling for each class\n",
    "\n",
    "\n",
    "    func0 = np.random.uniform\n",
    "    func1 = np.random.normal\n",
    "\n",
    "    params0 = {'low': .5, 'high':3}\n",
    "    params1= {\"loc\":0, \"scale\" : 1}\n",
    "\n",
    "    generator = data_gen(func0, func1,  params0, params1, dim, boundary=.5)\n",
    "\n",
    "    run_time = compute_time(generator, sample_size, eng, runs = runs)\n",
    "\n",
    "    return run_time\n",
    "\n",
    "\n",
    "def norm_beta_compute_time(dim, sample_size, eng ,runs= default):\n",
    "\n",
    "    sample_size = int(sample_size /2 ) ### sampling for each class\n",
    "\n",
    "\n",
    "    func0 = np.random.normal\n",
    "    func1 = np.random.beta\n",
    "    params0= {\"loc\":0, \"scale\" : 1}\n",
    "    params1 = {'a': 20, 'b':20}\n",
    "\n",
    "    generator = data_gen(func0, func1,  params0, params1, dim, boundary =[0.3219999999942793, 0.6839999999940787] )\n",
    "\n",
    "    run_time = compute_time(generator, sample_size, eng, runs = runs)\n",
    "\n",
    "    return run_time\n",
    "\n",
    "\n"
   ]
  },
  {
   "cell_type": "markdown",
   "metadata": {},
   "source": [
    "### Starting the computing\n"
   ]
  },
  {
   "cell_type": "code",
   "execution_count": 7,
   "metadata": {},
   "outputs": [],
   "source": [
    "\n",
    "dims = [3, 8, 15]\n",
    "samples  =[50, 5000]"
   ]
  },
  {
   "cell_type": "code",
   "execution_count": 8,
   "metadata": {},
   "outputs": [],
   "source": [
    "\n",
    "import matlab.engine\n",
    "eng = matlab.engine.start_matlab()"
   ]
  },
  {
   "cell_type": "code",
   "execution_count": 9,
   "metadata": {},
   "outputs": [],
   "source": [
    "# norm_compute_time(3, 50, eng).median()"
   ]
  },
  {
   "cell_type": "code",
   "execution_count": 10,
   "metadata": {},
   "outputs": [],
   "source": [
    "dim3 = []\n",
    "dim8 = []\n",
    "dim15 = []"
   ]
  },
  {
   "cell_type": "code",
   "execution_count": 11,
   "metadata": {},
   "outputs": [
    {
     "name": "stdout",
     "output_type": "stream",
     "text": [
      "1  was calculated for k. 3 is chosen for k for variance purposes.\n",
      "1  was calculated for k. 3 is chosen for k for variance purposes.\n",
      "1  was calculated for k. 3 is chosen for k for variance purposes.\n",
      "1  was calculated for k. 3 is chosen for k for variance purposes.\n",
      "1  was calculated for k. 3 is chosen for k for variance purposes.\n",
      "1  was calculated for k. 3 is chosen for k for variance purposes.\n",
      "1  was calculated for k. 3 is chosen for k for variance purposes.\n"
     ]
    }
   ],
   "source": [
    "\n",
    "\n",
    "for d in dims:\n",
    "    for s in samples:\n",
    "        run_time = norm_compute_time(d,s, eng)\n",
    "        if d==3:\n",
    "            dim3.append(run_time)\n",
    "        elif d==8:\n",
    "            dim8.append(run_time)\n",
    "        elif d==15:\n",
    "            dim15.append(run_time)"
   ]
  },
  {
   "cell_type": "markdown",
   "metadata": {},
   "source": [
    "Gaussian Mixture"
   ]
  },
  {
   "cell_type": "code",
   "execution_count": 12,
   "metadata": {},
   "outputs": [
    {
     "name": "stdout",
     "output_type": "stream",
     "text": [
      "1  was calculated for k. 3 is chosen for k for variance purposes.\n",
      "1  was calculated for k. 3 is chosen for k for variance purposes.\n",
      "1  was calculated for k. 3 is chosen for k for variance purposes.\n",
      "1  was calculated for k. 3 is chosen for k for variance purposes.\n",
      "1  was calculated for k. 3 is chosen for k for variance purposes.\n",
      "1  was calculated for k. 3 is chosen for k for variance purposes.\n",
      "1  was calculated for k. 3 is chosen for k for variance purposes.\n"
     ]
    }
   ],
   "source": [
    "\n",
    "for d in dims:\n",
    "    for s in samples:\n",
    "        run_time = gaussian_mix_compute_time(d,s, eng)\n",
    "        if d==3:\n",
    "            dim3.append(run_time)\n",
    "        elif d==8:\n",
    "            dim8.append(run_time)\n",
    "        elif d==15:\n",
    "            dim15.append(run_time)\n"
   ]
  },
  {
   "cell_type": "markdown",
   "metadata": {},
   "source": [
    "Paired Uniforms "
   ]
  },
  {
   "cell_type": "code",
   "execution_count": 13,
   "metadata": {},
   "outputs": [
    {
     "name": "stdout",
     "output_type": "stream",
     "text": [
      "1  was calculated for k. 3 is chosen for k for variance purposes.\n",
      "1  was calculated for k. 3 is chosen for k for variance purposes.\n",
      "1  was calculated for k. 3 is chosen for k for variance purposes.\n",
      "1  was calculated for k. 3 is chosen for k for variance purposes.\n",
      "1  was calculated for k. 3 is chosen for k for variance purposes.\n",
      "1  was calculated for k. 3 is chosen for k for variance purposes.\n",
      "1  was calculated for k. 3 is chosen for k for variance purposes.\n"
     ]
    }
   ],
   "source": [
    "\n",
    "for d in dims:\n",
    "    for s in samples:\n",
    "        run_time = uniform2_compute_time(d,s, eng)\n",
    "        if d==3:\n",
    "            dim3.append(run_time)\n",
    "        elif d==8:\n",
    "            dim8.append(run_time)\n",
    "        elif d==15:\n",
    "            dim15.append(run_time)"
   ]
  },
  {
   "cell_type": "markdown",
   "metadata": {},
   "source": [
    "norm beta"
   ]
  },
  {
   "cell_type": "code",
   "execution_count": 14,
   "metadata": {},
   "outputs": [
    {
     "name": "stdout",
     "output_type": "stream",
     "text": [
      "1  was calculated for k. 3 is chosen for k for variance purposes.\n",
      "1  was calculated for k. 3 is chosen for k for variance purposes.\n",
      "1  was calculated for k. 3 is chosen for k for variance purposes.\n",
      "1  was calculated for k. 3 is chosen for k for variance purposes.\n",
      "1  was calculated for k. 3 is chosen for k for variance purposes.\n",
      "1  was calculated for k. 3 is chosen for k for variance purposes.\n",
      "1  was calculated for k. 3 is chosen for k for variance purposes.\n"
     ]
    }
   ],
   "source": [
    "for d in dims:\n",
    "    for s in samples:\n",
    "        run_time = norm_beta_compute_time(d,s, eng)\n",
    "        if d==3:\n",
    "            dim3.append(run_time)\n",
    "        elif d==8:\n",
    "            dim8.append(run_time)\n",
    "        elif d==15:\n",
    "            dim15.append(run_time)"
   ]
  },
  {
   "cell_type": "markdown",
   "metadata": {},
   "source": [
    "Uniform Normal"
   ]
  },
  {
   "cell_type": "code",
   "execution_count": 15,
   "metadata": {},
   "outputs": [
    {
     "name": "stdout",
     "output_type": "stream",
     "text": [
      "1  was calculated for k. 3 is chosen for k for variance purposes.\n",
      "1  was calculated for k. 3 is chosen for k for variance purposes.\n",
      "1  was calculated for k. 3 is chosen for k for variance purposes.\n",
      "1  was calculated for k. 3 is chosen for k for variance purposes.\n",
      "1  was calculated for k. 3 is chosen for k for variance purposes.\n",
      "1  was calculated for k. 3 is chosen for k for variance purposes.\n",
      "1  was calculated for k. 3 is chosen for k for variance purposes.\n"
     ]
    }
   ],
   "source": [
    "\n",
    "for d in dims:\n",
    "    for s in samples:\n",
    "        run_time = uniform_norm_compute_time(d,s, eng)\n",
    "        if d==3:\n",
    "            dim3.append(run_time)\n",
    "        elif d==8:\n",
    "            dim8.append(run_time)\n",
    "        elif d==15:\n",
    "            dim15.append(run_time)"
   ]
  },
  {
   "cell_type": "code",
   "execution_count": 16,
   "metadata": {},
   "outputs": [],
   "source": [
    "eng.quit()"
   ]
  },
  {
   "cell_type": "markdown",
   "metadata": {},
   "source": [
    "### More"
   ]
  },
  {
   "cell_type": "code",
   "execution_count": 17,
   "metadata": {},
   "outputs": [
    {
     "data": {
      "text/plain": [
       "['Normals_50',\n",
       " 'Normals_5000',\n",
       " 'Guassian_Mix_50',\n",
       " 'Guassian_Mix_5000',\n",
       " 'Pair_Uniforms_50',\n",
       " 'Pair_Uniforms_5000',\n",
       " 'Normal_Beta_50',\n",
       " 'Normal_Beta_5000',\n",
       " 'Uniform_Normal_50',\n",
       " 'Uniform_Normal_5000']"
      ]
     },
     "execution_count": 17,
     "metadata": {},
     "output_type": "execute_result"
    }
   ],
   "source": [
    "sims = [\"Normals\", \"Guassian_Mix\", \"Pair_Uniforms\", \"Normal_Beta\", \"Uniform_Normal\"]\n",
    "\n",
    "index = []\n",
    "\n",
    "for names in sims:\n",
    "    for num in samples:\n",
    "        idx_name = names + \"_\" + str(num)\n",
    "        index.append(idx_name)\n",
    "\n",
    "index"
   ]
  },
  {
   "cell_type": "code",
   "execution_count": 22,
   "metadata": {},
   "outputs": [],
   "source": [
    "ordered_columns = [ \"Bhattacharyya\",\"Bha_knn\", \"Influence\", \"Dp\", \"EnDive\"]"
   ]
  },
  {
   "cell_type": "code",
   "execution_count": 34,
   "metadata": {},
   "outputs": [
    {
     "data": {
      "text/html": [
       "<div>\n",
       "<style scoped>\n",
       "    .dataframe tbody tr th:only-of-type {\n",
       "        vertical-align: middle;\n",
       "    }\n",
       "\n",
       "    .dataframe tbody tr th {\n",
       "        vertical-align: top;\n",
       "    }\n",
       "\n",
       "    .dataframe thead th {\n",
       "        text-align: right;\n",
       "    }\n",
       "</style>\n",
       "<table border=\"1\" class=\"dataframe\">\n",
       "  <thead>\n",
       "    <tr style=\"text-align: right;\">\n",
       "      <th></th>\n",
       "      <th>Bhattacharyya</th>\n",
       "      <th>Bha_knn</th>\n",
       "      <th>Influence</th>\n",
       "      <th>Dp</th>\n",
       "      <th>EnDive</th>\n",
       "    </tr>\n",
       "  </thead>\n",
       "  <tbody>\n",
       "    <tr>\n",
       "      <th>Normals_50</th>\n",
       "      <td>0.60</td>\n",
       "      <td>2.33</td>\n",
       "      <td>35.23</td>\n",
       "      <td>2.19</td>\n",
       "      <td>111.42</td>\n",
       "    </tr>\n",
       "    <tr>\n",
       "      <th>Normals_5000</th>\n",
       "      <td>0.69</td>\n",
       "      <td>86.91</td>\n",
       "      <td>1228.81</td>\n",
       "      <td>4932.94</td>\n",
       "      <td>609.74</td>\n",
       "    </tr>\n",
       "    <tr>\n",
       "      <th>Guassian_Mix_50</th>\n",
       "      <td>0.40</td>\n",
       "      <td>2.24</td>\n",
       "      <td>25.17</td>\n",
       "      <td>1.88</td>\n",
       "      <td>44.12</td>\n",
       "    </tr>\n",
       "    <tr>\n",
       "      <th>Guassian_Mix_5000</th>\n",
       "      <td>0.56</td>\n",
       "      <td>70.63</td>\n",
       "      <td>1775.88</td>\n",
       "      <td>5217.33</td>\n",
       "      <td>628.61</td>\n",
       "    </tr>\n",
       "    <tr>\n",
       "      <th>Pair_Uniforms_50</th>\n",
       "      <td>0.44</td>\n",
       "      <td>2.20</td>\n",
       "      <td>26.90</td>\n",
       "      <td>2.70</td>\n",
       "      <td>43.64</td>\n",
       "    </tr>\n",
       "    <tr>\n",
       "      <th>Pair_Uniforms_5000</th>\n",
       "      <td>0.69</td>\n",
       "      <td>86.12</td>\n",
       "      <td>1725.72</td>\n",
       "      <td>5441.72</td>\n",
       "      <td>652.97</td>\n",
       "    </tr>\n",
       "    <tr>\n",
       "      <th>Normal_Beta_50</th>\n",
       "      <td>0.39</td>\n",
       "      <td>1.94</td>\n",
       "      <td>26.65</td>\n",
       "      <td>1.72</td>\n",
       "      <td>42.05</td>\n",
       "    </tr>\n",
       "    <tr>\n",
       "      <th>Normal_Beta_5000</th>\n",
       "      <td>0.54</td>\n",
       "      <td>76.33</td>\n",
       "      <td>1781.59</td>\n",
       "      <td>5569.49</td>\n",
       "      <td>592.89</td>\n",
       "    </tr>\n",
       "    <tr>\n",
       "      <th>Uniform_Normal_50</th>\n",
       "      <td>0.36</td>\n",
       "      <td>1.94</td>\n",
       "      <td>26.89</td>\n",
       "      <td>1.43</td>\n",
       "      <td>47.88</td>\n",
       "    </tr>\n",
       "    <tr>\n",
       "      <th>Uniform_Normal_5000</th>\n",
       "      <td>0.50</td>\n",
       "      <td>57.67</td>\n",
       "      <td>1705.85</td>\n",
       "      <td>5119.89</td>\n",
       "      <td>615.22</td>\n",
       "    </tr>\n",
       "  </tbody>\n",
       "</table>\n",
       "</div>"
      ],
      "text/plain": [
       "                     Bhattacharyya  Bha_knn  Influence       Dp  EnDive\n",
       "Normals_50                    0.60     2.33      35.23     2.19  111.42\n",
       "Normals_5000                  0.69    86.91    1228.81  4932.94  609.74\n",
       "Guassian_Mix_50               0.40     2.24      25.17     1.88   44.12\n",
       "Guassian_Mix_5000             0.56    70.63    1775.88  5217.33  628.61\n",
       "Pair_Uniforms_50              0.44     2.20      26.90     2.70   43.64\n",
       "Pair_Uniforms_5000            0.69    86.12    1725.72  5441.72  652.97\n",
       "Normal_Beta_50                0.39     1.94      26.65     1.72   42.05\n",
       "Normal_Beta_5000              0.54    76.33    1781.59  5569.49  592.89\n",
       "Uniform_Normal_50             0.36     1.94      26.89     1.43   47.88\n",
       "Uniform_Normal_5000           0.50    57.67    1705.85  5119.89  615.22"
      ]
     },
     "execution_count": 34,
     "metadata": {},
     "output_type": "execute_result"
    }
   ],
   "source": [
    "dim3_df = pd.DataFrame(dim3,index= index )\n",
    "\n",
    "dim3_df = dim3_df[ordered_columns]\n",
    "round(dim3_df*1000, 2)"
   ]
  },
  {
   "cell_type": "code",
   "execution_count": 36,
   "metadata": {},
   "outputs": [
    {
     "data": {
      "text/html": [
       "<div>\n",
       "<style scoped>\n",
       "    .dataframe tbody tr th:only-of-type {\n",
       "        vertical-align: middle;\n",
       "    }\n",
       "\n",
       "    .dataframe tbody tr th {\n",
       "        vertical-align: top;\n",
       "    }\n",
       "\n",
       "    .dataframe thead th {\n",
       "        text-align: right;\n",
       "    }\n",
       "</style>\n",
       "<table border=\"1\" class=\"dataframe\">\n",
       "  <thead>\n",
       "    <tr style=\"text-align: right;\">\n",
       "      <th></th>\n",
       "      <th>Bhattacharyya</th>\n",
       "      <th>Bha_knn</th>\n",
       "      <th>Influence</th>\n",
       "      <th>Dp</th>\n",
       "      <th>EnDive</th>\n",
       "    </tr>\n",
       "  </thead>\n",
       "  <tbody>\n",
       "    <tr>\n",
       "      <th>Normals_50</th>\n",
       "      <td>0.44</td>\n",
       "      <td>1.74</td>\n",
       "      <td>22.39</td>\n",
       "      <td>1.48</td>\n",
       "      <td>70.53</td>\n",
       "    </tr>\n",
       "    <tr>\n",
       "      <th>Normals_5000</th>\n",
       "      <td>14.13</td>\n",
       "      <td>270.58</td>\n",
       "      <td>1820.15</td>\n",
       "      <td>5395.44</td>\n",
       "      <td>717.77</td>\n",
       "    </tr>\n",
       "    <tr>\n",
       "      <th>Guassian_Mix_50</th>\n",
       "      <td>0.86</td>\n",
       "      <td>2.05</td>\n",
       "      <td>30.45</td>\n",
       "      <td>2.14</td>\n",
       "      <td>77.20</td>\n",
       "    </tr>\n",
       "    <tr>\n",
       "      <th>Guassian_Mix_5000</th>\n",
       "      <td>15.37</td>\n",
       "      <td>248.82</td>\n",
       "      <td>1848.03</td>\n",
       "      <td>5425.06</td>\n",
       "      <td>703.66</td>\n",
       "    </tr>\n",
       "    <tr>\n",
       "      <th>Pair_Uniforms_50</th>\n",
       "      <td>0.53</td>\n",
       "      <td>2.24</td>\n",
       "      <td>21.58</td>\n",
       "      <td>1.64</td>\n",
       "      <td>79.16</td>\n",
       "    </tr>\n",
       "    <tr>\n",
       "      <th>Pair_Uniforms_5000</th>\n",
       "      <td>11.10</td>\n",
       "      <td>247.88</td>\n",
       "      <td>1824.12</td>\n",
       "      <td>5475.90</td>\n",
       "      <td>695.20</td>\n",
       "    </tr>\n",
       "    <tr>\n",
       "      <th>Normal_Beta_50</th>\n",
       "      <td>0.79</td>\n",
       "      <td>2.46</td>\n",
       "      <td>24.78</td>\n",
       "      <td>1.66</td>\n",
       "      <td>81.70</td>\n",
       "    </tr>\n",
       "    <tr>\n",
       "      <th>Normal_Beta_5000</th>\n",
       "      <td>14.66</td>\n",
       "      <td>195.69</td>\n",
       "      <td>1729.87</td>\n",
       "      <td>5375.32</td>\n",
       "      <td>664.86</td>\n",
       "    </tr>\n",
       "    <tr>\n",
       "      <th>Uniform_Normal_50</th>\n",
       "      <td>0.46</td>\n",
       "      <td>1.77</td>\n",
       "      <td>21.41</td>\n",
       "      <td>1.41</td>\n",
       "      <td>76.98</td>\n",
       "    </tr>\n",
       "    <tr>\n",
       "      <th>Uniform_Normal_5000</th>\n",
       "      <td>11.44</td>\n",
       "      <td>210.72</td>\n",
       "      <td>1814.39</td>\n",
       "      <td>5575.84</td>\n",
       "      <td>677.74</td>\n",
       "    </tr>\n",
       "  </tbody>\n",
       "</table>\n",
       "</div>"
      ],
      "text/plain": [
       "                     Bhattacharyya  Bha_knn  Influence       Dp  EnDive\n",
       "Normals_50                    0.44     1.74      22.39     1.48   70.53\n",
       "Normals_5000                 14.13   270.58    1820.15  5395.44  717.77\n",
       "Guassian_Mix_50               0.86     2.05      30.45     2.14   77.20\n",
       "Guassian_Mix_5000            15.37   248.82    1848.03  5425.06  703.66\n",
       "Pair_Uniforms_50              0.53     2.24      21.58     1.64   79.16\n",
       "Pair_Uniforms_5000           11.10   247.88    1824.12  5475.90  695.20\n",
       "Normal_Beta_50                0.79     2.46      24.78     1.66   81.70\n",
       "Normal_Beta_5000             14.66   195.69    1729.87  5375.32  664.86\n",
       "Uniform_Normal_50             0.46     1.77      21.41     1.41   76.98\n",
       "Uniform_Normal_5000          11.44   210.72    1814.39  5575.84  677.74"
      ]
     },
     "execution_count": 36,
     "metadata": {},
     "output_type": "execute_result"
    }
   ],
   "source": [
    "dim8_df = pd.DataFrame(dim8,index= index )\n",
    "dim8_df = dim8_df[ordered_columns]\n",
    "\n",
    "round(dim8_df*1000, 2)"
   ]
  },
  {
   "cell_type": "code",
   "execution_count": 33,
   "metadata": {},
   "outputs": [
    {
     "data": {
      "text/html": [
       "<div>\n",
       "<style scoped>\n",
       "    .dataframe tbody tr th:only-of-type {\n",
       "        vertical-align: middle;\n",
       "    }\n",
       "\n",
       "    .dataframe tbody tr th {\n",
       "        vertical-align: top;\n",
       "    }\n",
       "\n",
       "    .dataframe thead th {\n",
       "        text-align: right;\n",
       "    }\n",
       "</style>\n",
       "<table border=\"1\" class=\"dataframe\">\n",
       "  <thead>\n",
       "    <tr style=\"text-align: right;\">\n",
       "      <th></th>\n",
       "      <th>Bhattacharyya</th>\n",
       "      <th>Bha_knn</th>\n",
       "      <th>Influence</th>\n",
       "      <th>Dp</th>\n",
       "      <th>EnDive</th>\n",
       "    </tr>\n",
       "  </thead>\n",
       "  <tbody>\n",
       "    <tr>\n",
       "      <th>Normals_50</th>\n",
       "      <td>7.27</td>\n",
       "      <td>2.63</td>\n",
       "      <td>28.24</td>\n",
       "      <td>1.50</td>\n",
       "      <td>88.13</td>\n",
       "    </tr>\n",
       "    <tr>\n",
       "      <th>Normals_5000</th>\n",
       "      <td>14.17</td>\n",
       "      <td>492.92</td>\n",
       "      <td>1903.00</td>\n",
       "      <td>6311.53</td>\n",
       "      <td>783.16</td>\n",
       "    </tr>\n",
       "    <tr>\n",
       "      <th>Guassian_Mix_50</th>\n",
       "      <td>7.45</td>\n",
       "      <td>4.78</td>\n",
       "      <td>22.55</td>\n",
       "      <td>1.45</td>\n",
       "      <td>80.09</td>\n",
       "    </tr>\n",
       "    <tr>\n",
       "      <th>Guassian_Mix_5000</th>\n",
       "      <td>33.36</td>\n",
       "      <td>458.75</td>\n",
       "      <td>1764.79</td>\n",
       "      <td>5541.54</td>\n",
       "      <td>763.04</td>\n",
       "    </tr>\n",
       "    <tr>\n",
       "      <th>Pair_Uniforms_50</th>\n",
       "      <td>5.78</td>\n",
       "      <td>4.12</td>\n",
       "      <td>28.20</td>\n",
       "      <td>1.75</td>\n",
       "      <td>84.83</td>\n",
       "    </tr>\n",
       "    <tr>\n",
       "      <th>Pair_Uniforms_5000</th>\n",
       "      <td>17.17</td>\n",
       "      <td>541.62</td>\n",
       "      <td>1771.72</td>\n",
       "      <td>6065.73</td>\n",
       "      <td>802.40</td>\n",
       "    </tr>\n",
       "    <tr>\n",
       "      <th>Normal_Beta_50</th>\n",
       "      <td>5.10</td>\n",
       "      <td>2.80</td>\n",
       "      <td>21.21</td>\n",
       "      <td>1.51</td>\n",
       "      <td>96.20</td>\n",
       "    </tr>\n",
       "    <tr>\n",
       "      <th>Normal_Beta_5000</th>\n",
       "      <td>21.55</td>\n",
       "      <td>450.41</td>\n",
       "      <td>1750.01</td>\n",
       "      <td>5662.34</td>\n",
       "      <td>752.35</td>\n",
       "    </tr>\n",
       "    <tr>\n",
       "      <th>Uniform_Normal_50</th>\n",
       "      <td>9.33</td>\n",
       "      <td>4.96</td>\n",
       "      <td>25.06</td>\n",
       "      <td>1.92</td>\n",
       "      <td>102.57</td>\n",
       "    </tr>\n",
       "    <tr>\n",
       "      <th>Uniform_Normal_5000</th>\n",
       "      <td>30.59</td>\n",
       "      <td>406.63</td>\n",
       "      <td>1831.83</td>\n",
       "      <td>5844.46</td>\n",
       "      <td>736.97</td>\n",
       "    </tr>\n",
       "  </tbody>\n",
       "</table>\n",
       "</div>"
      ],
      "text/plain": [
       "                     Bhattacharyya  Bha_knn  Influence       Dp  EnDive\n",
       "Normals_50                    7.27     2.63      28.24     1.50   88.13\n",
       "Normals_5000                 14.17   492.92    1903.00  6311.53  783.16\n",
       "Guassian_Mix_50               7.45     4.78      22.55     1.45   80.09\n",
       "Guassian_Mix_5000            33.36   458.75    1764.79  5541.54  763.04\n",
       "Pair_Uniforms_50              5.78     4.12      28.20     1.75   84.83\n",
       "Pair_Uniforms_5000           17.17   541.62    1771.72  6065.73  802.40\n",
       "Normal_Beta_50                5.10     2.80      21.21     1.51   96.20\n",
       "Normal_Beta_5000             21.55   450.41    1750.01  5662.34  752.35\n",
       "Uniform_Normal_50             9.33     4.96      25.06     1.92  102.57\n",
       "Uniform_Normal_5000          30.59   406.63    1831.83  5844.46  736.97"
      ]
     },
     "execution_count": 33,
     "metadata": {},
     "output_type": "execute_result"
    }
   ],
   "source": [
    "dim15_df = pd.DataFrame(dim15,index= index )\n",
    "dim15_df = dim15_df[ordered_columns]\n",
    "\n",
    "round(dim15_df*1000, 2)"
   ]
  }
 ],
 "metadata": {
  "kernelspec": {
   "display_name": "Python 3",
   "language": "python",
   "name": "python3"
  },
  "language_info": {
   "codemirror_mode": {
    "name": "ipython",
    "version": 3
   },
   "file_extension": ".py",
   "mimetype": "text/x-python",
   "name": "python",
   "nbconvert_exporter": "python",
   "pygments_lexer": "ipython3",
   "version": "3.10.12"
  }
 },
 "nbformat": 4,
 "nbformat_minor": 2
}
