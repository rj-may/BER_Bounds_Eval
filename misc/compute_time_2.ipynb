{
 "cells": [
  {
   "cell_type": "code",
   "execution_count": 1,
   "metadata": {},
   "outputs": [
    {
     "name": "stdout",
     "output_type": "stream",
     "text": [
      "Current Directory: /mnt/c/users/rjmay/code/research_ms/misc\n",
      "Updated Directory: /mnt/c/users/rjmay/code/research_ms\n"
     ]
    }
   ],
   "source": [
    "import os\n",
    "\n",
    "# Get the current working directory\n",
    "current_directory = os.getcwd()\n",
    "print(\"Current Directory:\", current_directory)\n",
    "\n",
    "# Move to the parent directory\n",
    "parent_directory = os.path.dirname(current_directory)\n",
    "os.chdir(parent_directory)\n",
    "\n",
    "# Print the updated working directory\n",
    "updated_directory = os.getcwd()\n",
    "print(\"Updated Directory:\", updated_directory)"
   ]
  },
  {
   "cell_type": "markdown",
   "metadata": {},
   "source": [
    "Demonstration of using the bound files.\n"
   ]
  },
  {
   "cell_type": "code",
   "execution_count": 2,
   "metadata": {},
   "outputs": [],
   "source": [
    "\n",
    "import numpy as np\n",
    "from scipy.stats import norm\n",
    "from modules.bounds_calculator import bounds_calculator\n",
    "\n",
    "from modules.data_gen_mv import data_gen_multivariate\n",
    "from modules.data_gen_gauss_mix import data_gen_gauss_mix\n",
    "from modules.data_gen import data_gen\n",
    "\n",
    "import pandas as pd \n",
    "\n"
   ]
  },
  {
   "cell_type": "markdown",
   "metadata": {},
   "source": [
    "Running the bounds"
   ]
  },
  {
   "cell_type": "code",
   "execution_count": 3,
   "metadata": {},
   "outputs": [],
   "source": [
    "default = 21\n",
    "\n",
    "\n",
    "def compute_time(data_generator, sample_size, eng,runs=default):\n",
    "    data = [data_generator.sample(sample_size) for i in range(runs)]\n",
    "\n",
    "    times = []\n",
    "    for d in data:\n",
    "        a, b= d\n",
    "\n",
    "        _, time_results = bounds_calculator(a, b, MATLAB = eng, Timer = True)\n",
    "\n",
    "\n",
    "        times.append(time_results)\n",
    "\n",
    "    df =  pd.DataFrame(times)\n",
    "\n",
    "\n",
    "\n",
    "        \n",
    "    return df.median()"
   ]
  },
  {
   "cell_type": "markdown",
   "metadata": {},
   "source": [
    "Normals"
   ]
  },
  {
   "cell_type": "code",
   "execution_count": 4,
   "metadata": {},
   "outputs": [],
   "source": [
    "\n",
    "def norm_compute_time(dim, sample_size, eng ,runs= default):\n",
    "\n",
    "    sample_size = int(sample_size /2 ) ### sampling for each class\n",
    "\n",
    "    mean_sep = 2.56\n",
    "    func0 = np.random.multivariate_normal\n",
    "    func1 = np.random.multivariate_normal\n",
    "\n",
    "    mean1 = np.zeros(dim)\n",
    "    covariance1 = np.identity(dim)\n",
    "\n",
    "    mean2 = np.zeros(dim)\n",
    "    mean2[0] = mean_sep\n",
    "            \n",
    "    params0 = {'mean': mean1, 'cov': covariance1}\n",
    "    params1  = {'mean': mean2, 'cov': covariance1}\n",
    "            \n",
    "    generator  = data_gen_multivariate(func0, func1,  params0, params1, boundary = mean_sep/2 )\n",
    "\n",
    "    run_time = compute_time(generator, sample_size, eng, runs = runs)\n",
    "\n",
    "    return run_time"
   ]
  },
  {
   "cell_type": "code",
   "execution_count": 5,
   "metadata": {},
   "outputs": [],
   "source": [
    "def gaussian_mix_compute_time(dim, sample_size, eng ,runs = default):\n",
    "\n",
    "    sample_size = int(sample_size /2 ) ### sampling for each class\n",
    "\n",
    "    \n",
    "\n",
    "    mean_sep = 2.56\n",
    "        \n",
    "    params0 = {'means': [[-1 * mean_sep], [mean_sep]], 'covariances':  [ [[1]], [[1]]]}\n",
    "\n",
    "    params1 = {'mean' : np.zeros(dim), 'cov': np.identity(dim) }\n",
    "\n",
    "    generator = data_gen_gauss_mix(params0, params1, boundary = [-1.55, 1.55] )\n",
    "\n",
    "    run_time = compute_time(generator, sample_size, eng, runs = runs)\n",
    "\n",
    "    return run_time"
   ]
  },
  {
   "cell_type": "code",
   "execution_count": 6,
   "metadata": {},
   "outputs": [],
   "source": [
    "\n",
    "def uniform2_compute_time(dim, sample_size, eng ,runs=default):\n",
    "\n",
    "    sample_size = int(sample_size /2 ) ### sampling for each class\n",
    "\n",
    "    func0 = np.random.uniform\n",
    "    func1 = np.random.uniform\n",
    "\n",
    "    params0 = {'low': 0, 'high':1}\n",
    "    params1= {\"low\":.8, \"high\" : 1.8}\n",
    "\n",
    "    generator = data_gen(func0, func1,  params0, params1, dim, boundary=.9)\n",
    "\n",
    "    run_time = compute_time(generator, sample_size, eng, runs = runs)\n",
    "\n",
    "    return run_time\n",
    "\n",
    "\n",
    "def uniform_norm_compute_time(dim, sample_size, eng ,runs=default):\n",
    "\n",
    "    sample_size = int(sample_size /2 ) ### sampling for each class\n",
    "\n",
    "\n",
    "    func0 = np.random.uniform\n",
    "    func1 = np.random.normal\n",
    "\n",
    "    params0 = {'low': .5, 'high':3}\n",
    "    params1= {\"loc\":0, \"scale\" : 1}\n",
    "\n",
    "    generator = data_gen(func0, func1,  params0, params1, dim, boundary=.5)\n",
    "\n",
    "    run_time = compute_time(generator, sample_size, eng, runs = runs)\n",
    "\n",
    "    return run_time\n",
    "\n",
    "\n",
    "def norm_beta_compute_time(dim, sample_size, eng ,runs= default):\n",
    "\n",
    "    sample_size = int(sample_size /2 ) ### sampling for each class\n",
    "\n",
    "\n",
    "    func0 = np.random.normal\n",
    "    func1 = np.random.beta\n",
    "    params0= {\"loc\":0, \"scale\" : 1}\n",
    "    params1 = {'a': 20, 'b':20}\n",
    "\n",
    "    generator = data_gen(func0, func1,  params0, params1, dim, boundary =[0.3219999999942793, 0.6839999999940787] )\n",
    "\n",
    "    run_time = compute_time(generator, sample_size, eng, runs = runs)\n",
    "\n",
    "    return run_time\n",
    "\n",
    "\n"
   ]
  },
  {
   "cell_type": "markdown",
   "metadata": {},
   "source": [
    "### Starting the computing\n"
   ]
  },
  {
   "cell_type": "code",
   "execution_count": 7,
   "metadata": {},
   "outputs": [],
   "source": [
    "\n",
    "dims = [3, 8, 15]\n",
    "samples  =[50, 5000]"
   ]
  },
  {
   "cell_type": "code",
   "execution_count": 8,
   "metadata": {},
   "outputs": [],
   "source": [
    "\n",
    "import matlab.engine\n",
    "eng = matlab.engine.start_matlab()"
   ]
  },
  {
   "cell_type": "code",
   "execution_count": 9,
   "metadata": {},
   "outputs": [],
   "source": [
    "# norm_compute_time(3, 50, eng).median()"
   ]
  },
  {
   "cell_type": "code",
   "execution_count": 10,
   "metadata": {},
   "outputs": [],
   "source": [
    "dim3 = []\n",
    "dim8 = []\n",
    "dim15 = []"
   ]
  },
  {
   "cell_type": "code",
   "execution_count": 11,
   "metadata": {},
   "outputs": [
    {
     "name": "stdout",
     "output_type": "stream",
     "text": [
      "1  was calculated for k. 3 is chosen for k for variance purposes.\n",
      "1  was calculated for k. 3 is chosen for k for variance purposes.\n",
      "1  was calculated for k. 3 is chosen for k for variance purposes.\n",
      "1  was calculated for k. 3 is chosen for k for variance purposes.\n",
      "1  was calculated for k. 3 is chosen for k for variance purposes.\n",
      "1  was calculated for k. 3 is chosen for k for variance purposes.\n",
      "1  was calculated for k. 3 is chosen for k for variance purposes.\n",
      "1  was calculated for k. 3 is chosen for k for variance purposes.\n",
      "1  was calculated for k. 3 is chosen for k for variance purposes.\n",
      "1  was calculated for k. 3 is chosen for k for variance purposes.\n",
      "1  was calculated for k. 3 is chosen for k for variance purposes.\n",
      "1  was calculated for k. 3 is chosen for k for variance purposes.\n",
      "1  was calculated for k. 3 is chosen for k for variance purposes.\n",
      "1  was calculated for k. 3 is chosen for k for variance purposes.\n",
      "1  was calculated for k. 3 is chosen for k for variance purposes.\n",
      "1  was calculated for k. 3 is chosen for k for variance purposes.\n",
      "1  was calculated for k. 3 is chosen for k for variance purposes.\n",
      "1  was calculated for k. 3 is chosen for k for variance purposes.\n",
      "1  was calculated for k. 3 is chosen for k for variance purposes.\n",
      "1  was calculated for k. 3 is chosen for k for variance purposes.\n",
      "1  was calculated for k. 3 is chosen for k for variance purposes.\n"
     ]
    }
   ],
   "source": [
    "\n",
    "\n",
    "for d in dims:\n",
    "    for s in samples:\n",
    "        run_time = norm_compute_time(d,s, eng)\n",
    "        if d==3:\n",
    "            dim3.append(run_time)\n",
    "        elif d==8:\n",
    "            dim8.append(run_time)\n",
    "        elif d==15:\n",
    "            dim15.append(run_time)"
   ]
  },
  {
   "cell_type": "markdown",
   "metadata": {},
   "source": [
    "Gaussian Mixture"
   ]
  },
  {
   "cell_type": "code",
   "execution_count": 12,
   "metadata": {},
   "outputs": [
    {
     "name": "stdout",
     "output_type": "stream",
     "text": [
      "1  was calculated for k. 3 is chosen for k for variance purposes.\n",
      "1  was calculated for k. 3 is chosen for k for variance purposes.\n",
      "1  was calculated for k. 3 is chosen for k for variance purposes.\n",
      "1  was calculated for k. 3 is chosen for k for variance purposes.\n",
      "1  was calculated for k. 3 is chosen for k for variance purposes.\n",
      "1  was calculated for k. 3 is chosen for k for variance purposes.\n",
      "1  was calculated for k. 3 is chosen for k for variance purposes.\n",
      "1  was calculated for k. 3 is chosen for k for variance purposes.\n",
      "1  was calculated for k. 3 is chosen for k for variance purposes.\n",
      "1  was calculated for k. 3 is chosen for k for variance purposes.\n",
      "1  was calculated for k. 3 is chosen for k for variance purposes.\n",
      "1  was calculated for k. 3 is chosen for k for variance purposes.\n",
      "1  was calculated for k. 3 is chosen for k for variance purposes.\n",
      "1  was calculated for k. 3 is chosen for k for variance purposes.\n",
      "1  was calculated for k. 3 is chosen for k for variance purposes.\n",
      "1  was calculated for k. 3 is chosen for k for variance purposes.\n",
      "1  was calculated for k. 3 is chosen for k for variance purposes.\n",
      "1  was calculated for k. 3 is chosen for k for variance purposes.\n",
      "1  was calculated for k. 3 is chosen for k for variance purposes.\n",
      "1  was calculated for k. 3 is chosen for k for variance purposes.\n",
      "1  was calculated for k. 3 is chosen for k for variance purposes.\n"
     ]
    }
   ],
   "source": [
    "\n",
    "for d in dims:\n",
    "    for s in samples:\n",
    "        run_time = gaussian_mix_compute_time(d,s, eng)\n",
    "        if d==3:\n",
    "            dim3.append(run_time)\n",
    "        elif d==8:\n",
    "            dim8.append(run_time)\n",
    "        elif d==15:\n",
    "            dim15.append(run_time)\n"
   ]
  },
  {
   "cell_type": "markdown",
   "metadata": {},
   "source": [
    "Paired Uniforms "
   ]
  },
  {
   "cell_type": "code",
   "execution_count": 13,
   "metadata": {},
   "outputs": [
    {
     "name": "stdout",
     "output_type": "stream",
     "text": [
      "1  was calculated for k. 3 is chosen for k for variance purposes.\n",
      "1  was calculated for k. 3 is chosen for k for variance purposes.\n",
      "1  was calculated for k. 3 is chosen for k for variance purposes.\n",
      "1  was calculated for k. 3 is chosen for k for variance purposes.\n",
      "1  was calculated for k. 3 is chosen for k for variance purposes.\n",
      "1  was calculated for k. 3 is chosen for k for variance purposes.\n",
      "1  was calculated for k. 3 is chosen for k for variance purposes.\n",
      "1  was calculated for k. 3 is chosen for k for variance purposes.\n",
      "1  was calculated for k. 3 is chosen for k for variance purposes.\n",
      "1  was calculated for k. 3 is chosen for k for variance purposes.\n",
      "1  was calculated for k. 3 is chosen for k for variance purposes.\n",
      "1  was calculated for k. 3 is chosen for k for variance purposes.\n",
      "1  was calculated for k. 3 is chosen for k for variance purposes.\n",
      "1  was calculated for k. 3 is chosen for k for variance purposes.\n",
      "1  was calculated for k. 3 is chosen for k for variance purposes.\n",
      "1  was calculated for k. 3 is chosen for k for variance purposes.\n",
      "1  was calculated for k. 3 is chosen for k for variance purposes.\n",
      "1  was calculated for k. 3 is chosen for k for variance purposes.\n",
      "1  was calculated for k. 3 is chosen for k for variance purposes.\n",
      "1  was calculated for k. 3 is chosen for k for variance purposes.\n",
      "1  was calculated for k. 3 is chosen for k for variance purposes.\n"
     ]
    }
   ],
   "source": [
    "\n",
    "for d in dims:\n",
    "    for s in samples:\n",
    "        run_time = uniform2_compute_time(d,s, eng)\n",
    "        if d==3:\n",
    "            dim3.append(run_time)\n",
    "        elif d==8:\n",
    "            dim8.append(run_time)\n",
    "        elif d==15:\n",
    "            dim15.append(run_time)"
   ]
  },
  {
   "cell_type": "markdown",
   "metadata": {},
   "source": [
    "norm beta"
   ]
  },
  {
   "cell_type": "code",
   "execution_count": 14,
   "metadata": {},
   "outputs": [
    {
     "name": "stdout",
     "output_type": "stream",
     "text": [
      "1  was calculated for k. 3 is chosen for k for variance purposes.\n",
      "1  was calculated for k. 3 is chosen for k for variance purposes.\n",
      "1  was calculated for k. 3 is chosen for k for variance purposes.\n",
      "1  was calculated for k. 3 is chosen for k for variance purposes.\n",
      "1  was calculated for k. 3 is chosen for k for variance purposes.\n",
      "1  was calculated for k. 3 is chosen for k for variance purposes.\n",
      "1  was calculated for k. 3 is chosen for k for variance purposes.\n",
      "1  was calculated for k. 3 is chosen for k for variance purposes.\n",
      "1  was calculated for k. 3 is chosen for k for variance purposes.\n",
      "1  was calculated for k. 3 is chosen for k for variance purposes.\n",
      "1  was calculated for k. 3 is chosen for k for variance purposes.\n",
      "1  was calculated for k. 3 is chosen for k for variance purposes.\n",
      "1  was calculated for k. 3 is chosen for k for variance purposes.\n",
      "1  was calculated for k. 3 is chosen for k for variance purposes.\n",
      "1  was calculated for k. 3 is chosen for k for variance purposes.\n",
      "1  was calculated for k. 3 is chosen for k for variance purposes.\n",
      "1  was calculated for k. 3 is chosen for k for variance purposes.\n",
      "1  was calculated for k. 3 is chosen for k for variance purposes.\n",
      "1  was calculated for k. 3 is chosen for k for variance purposes.\n",
      "1  was calculated for k. 3 is chosen for k for variance purposes.\n",
      "1  was calculated for k. 3 is chosen for k for variance purposes.\n"
     ]
    }
   ],
   "source": [
    "for d in dims:\n",
    "    for s in samples:\n",
    "        run_time = norm_beta_compute_time(d,s, eng)\n",
    "        if d==3:\n",
    "            dim3.append(run_time)\n",
    "        elif d==8:\n",
    "            dim8.append(run_time)\n",
    "        elif d==15:\n",
    "            dim15.append(run_time)"
   ]
  },
  {
   "cell_type": "markdown",
   "metadata": {},
   "source": [
    "Uniform Normal"
   ]
  },
  {
   "cell_type": "code",
   "execution_count": 15,
   "metadata": {},
   "outputs": [
    {
     "name": "stdout",
     "output_type": "stream",
     "text": [
      "1  was calculated for k. 3 is chosen for k for variance purposes.\n",
      "1  was calculated for k. 3 is chosen for k for variance purposes.\n",
      "1  was calculated for k. 3 is chosen for k for variance purposes.\n",
      "1  was calculated for k. 3 is chosen for k for variance purposes.\n",
      "1  was calculated for k. 3 is chosen for k for variance purposes.\n",
      "1  was calculated for k. 3 is chosen for k for variance purposes.\n",
      "1  was calculated for k. 3 is chosen for k for variance purposes.\n",
      "1  was calculated for k. 3 is chosen for k for variance purposes.\n",
      "1  was calculated for k. 3 is chosen for k for variance purposes.\n",
      "1  was calculated for k. 3 is chosen for k for variance purposes.\n",
      "1  was calculated for k. 3 is chosen for k for variance purposes.\n",
      "1  was calculated for k. 3 is chosen for k for variance purposes.\n",
      "1  was calculated for k. 3 is chosen for k for variance purposes.\n",
      "1  was calculated for k. 3 is chosen for k for variance purposes.\n",
      "1  was calculated for k. 3 is chosen for k for variance purposes.\n",
      "1  was calculated for k. 3 is chosen for k for variance purposes.\n",
      "1  was calculated for k. 3 is chosen for k for variance purposes.\n",
      "1  was calculated for k. 3 is chosen for k for variance purposes.\n",
      "1  was calculated for k. 3 is chosen for k for variance purposes.\n",
      "1  was calculated for k. 3 is chosen for k for variance purposes.\n",
      "1  was calculated for k. 3 is chosen for k for variance purposes.\n"
     ]
    }
   ],
   "source": [
    "\n",
    "for d in dims:\n",
    "    for s in samples:\n",
    "        run_time = uniform_norm_compute_time(d,s, eng)\n",
    "        if d==3:\n",
    "            dim3.append(run_time)\n",
    "        elif d==8:\n",
    "            dim8.append(run_time)\n",
    "        elif d==15:\n",
    "            dim15.append(run_time)"
   ]
  },
  {
   "cell_type": "code",
   "execution_count": 16,
   "metadata": {},
   "outputs": [],
   "source": [
    "eng.quit()"
   ]
  },
  {
   "cell_type": "markdown",
   "metadata": {},
   "source": [
    "### More"
   ]
  },
  {
   "cell_type": "code",
   "execution_count": 17,
   "metadata": {},
   "outputs": [
    {
     "data": {
      "text/plain": [
       "['Normals_50',\n",
       " 'Normals_5000',\n",
       " 'Guassian_Mix_50',\n",
       " 'Guassian_Mix_5000',\n",
       " 'Pair_Uniforms_50',\n",
       " 'Pair_Uniforms_5000',\n",
       " 'Normal_Beta_50',\n",
       " 'Normal_Beta_5000',\n",
       " 'Uniform_Normal_50',\n",
       " 'Uniform_Normal_5000']"
      ]
     },
     "execution_count": 17,
     "metadata": {},
     "output_type": "execute_result"
    }
   ],
   "source": [
    "sims = [\"Normals\", \"Guassian_Mix\", \"Pair_Uniforms\", \"Normal_Beta\", \"Uniform_Normal\"]\n",
    "\n",
    "index = []\n",
    "\n",
    "for names in sims:\n",
    "    for num in samples:\n",
    "        idx_name = names + \"_\" + str(num)\n",
    "        index.append(idx_name)\n",
    "\n",
    "index"
   ]
  },
  {
   "cell_type": "code",
   "execution_count": 30,
   "metadata": {},
   "outputs": [],
   "source": [
    "# dim3"
   ]
  },
  {
   "cell_type": "code",
   "execution_count": 31,
   "metadata": {},
   "outputs": [],
   "source": [
    "ordered_columns = [ \"Bhattacharyya\",\"Bha_knn\", \"influence\", \"Dp\", \"enDive\"]"
   ]
  },
  {
   "cell_type": "code",
   "execution_count": 32,
   "metadata": {},
   "outputs": [
    {
     "data": {
      "text/html": [
       "<div>\n",
       "<style scoped>\n",
       "    .dataframe tbody tr th:only-of-type {\n",
       "        vertical-align: middle;\n",
       "    }\n",
       "\n",
       "    .dataframe tbody tr th {\n",
       "        vertical-align: top;\n",
       "    }\n",
       "\n",
       "    .dataframe thead th {\n",
       "        text-align: right;\n",
       "    }\n",
       "</style>\n",
       "<table border=\"1\" class=\"dataframe\">\n",
       "  <thead>\n",
       "    <tr style=\"text-align: right;\">\n",
       "      <th></th>\n",
       "      <th>Bhattacharyya</th>\n",
       "      <th>Bha_knn</th>\n",
       "      <th>influence</th>\n",
       "      <th>Dp</th>\n",
       "      <th>enDive</th>\n",
       "    </tr>\n",
       "  </thead>\n",
       "  <tbody>\n",
       "    <tr>\n",
       "      <th>Normals_50</th>\n",
       "      <td>0.36</td>\n",
       "      <td>0.50</td>\n",
       "      <td>24.19</td>\n",
       "      <td>1.89</td>\n",
       "      <td>39.68</td>\n",
       "    </tr>\n",
       "    <tr>\n",
       "      <th>Normals_5000</th>\n",
       "      <td>0.64</td>\n",
       "      <td>59.37</td>\n",
       "      <td>1768.84</td>\n",
       "      <td>5425.32</td>\n",
       "      <td>651.56</td>\n",
       "    </tr>\n",
       "    <tr>\n",
       "      <th>Guassian_Mix_50</th>\n",
       "      <td>0.40</td>\n",
       "      <td>0.36</td>\n",
       "      <td>27.76</td>\n",
       "      <td>1.49</td>\n",
       "      <td>42.57</td>\n",
       "    </tr>\n",
       "    <tr>\n",
       "      <th>Guassian_Mix_5000</th>\n",
       "      <td>0.67</td>\n",
       "      <td>59.06</td>\n",
       "      <td>1725.89</td>\n",
       "      <td>5161.51</td>\n",
       "      <td>631.87</td>\n",
       "    </tr>\n",
       "    <tr>\n",
       "      <th>Pair_Uniforms_50</th>\n",
       "      <td>0.41</td>\n",
       "      <td>0.38</td>\n",
       "      <td>27.23</td>\n",
       "      <td>1.72</td>\n",
       "      <td>40.66</td>\n",
       "    </tr>\n",
       "    <tr>\n",
       "      <th>Pair_Uniforms_5000</th>\n",
       "      <td>0.61</td>\n",
       "      <td>78.81</td>\n",
       "      <td>2560.77</td>\n",
       "      <td>7315.06</td>\n",
       "      <td>803.09</td>\n",
       "    </tr>\n",
       "    <tr>\n",
       "      <th>Normal_Beta_50</th>\n",
       "      <td>0.37</td>\n",
       "      <td>0.35</td>\n",
       "      <td>26.69</td>\n",
       "      <td>1.67</td>\n",
       "      <td>39.31</td>\n",
       "    </tr>\n",
       "    <tr>\n",
       "      <th>Normal_Beta_5000</th>\n",
       "      <td>0.53</td>\n",
       "      <td>62.22</td>\n",
       "      <td>1701.46</td>\n",
       "      <td>5303.52</td>\n",
       "      <td>592.75</td>\n",
       "    </tr>\n",
       "    <tr>\n",
       "      <th>Uniform_Normal_50</th>\n",
       "      <td>0.42</td>\n",
       "      <td>0.39</td>\n",
       "      <td>28.25</td>\n",
       "      <td>1.69</td>\n",
       "      <td>49.05</td>\n",
       "    </tr>\n",
       "    <tr>\n",
       "      <th>Uniform_Normal_5000</th>\n",
       "      <td>0.53</td>\n",
       "      <td>51.84</td>\n",
       "      <td>1661.71</td>\n",
       "      <td>5115.86</td>\n",
       "      <td>607.89</td>\n",
       "    </tr>\n",
       "  </tbody>\n",
       "</table>\n",
       "</div>"
      ],
      "text/plain": [
       "                     Bhattacharyya  Bha_knn  influence       Dp  enDive\n",
       "Normals_50                    0.36     0.50      24.19     1.89   39.68\n",
       "Normals_5000                  0.64    59.37    1768.84  5425.32  651.56\n",
       "Guassian_Mix_50               0.40     0.36      27.76     1.49   42.57\n",
       "Guassian_Mix_5000             0.67    59.06    1725.89  5161.51  631.87\n",
       "Pair_Uniforms_50              0.41     0.38      27.23     1.72   40.66\n",
       "Pair_Uniforms_5000            0.61    78.81    2560.77  7315.06  803.09\n",
       "Normal_Beta_50                0.37     0.35      26.69     1.67   39.31\n",
       "Normal_Beta_5000              0.53    62.22    1701.46  5303.52  592.75\n",
       "Uniform_Normal_50             0.42     0.39      28.25     1.69   49.05\n",
       "Uniform_Normal_5000           0.53    51.84    1661.71  5115.86  607.89"
      ]
     },
     "execution_count": 32,
     "metadata": {},
     "output_type": "execute_result"
    }
   ],
   "source": [
    "dim3_df = pd.DataFrame(dim3,index= index )\n",
    "\n",
    "dim3_df = dim3_df[ordered_columns]\n",
    "round(dim3_df*1000, 2)"
   ]
  },
  {
   "cell_type": "code",
   "execution_count": 33,
   "metadata": {},
   "outputs": [
    {
     "data": {
      "text/html": [
       "<div>\n",
       "<style scoped>\n",
       "    .dataframe tbody tr th:only-of-type {\n",
       "        vertical-align: middle;\n",
       "    }\n",
       "\n",
       "    .dataframe tbody tr th {\n",
       "        vertical-align: top;\n",
       "    }\n",
       "\n",
       "    .dataframe thead th {\n",
       "        text-align: right;\n",
       "    }\n",
       "</style>\n",
       "<table border=\"1\" class=\"dataframe\">\n",
       "  <thead>\n",
       "    <tr style=\"text-align: right;\">\n",
       "      <th></th>\n",
       "      <th>Bhattacharyya</th>\n",
       "      <th>Bha_knn</th>\n",
       "      <th>influence</th>\n",
       "      <th>Dp</th>\n",
       "      <th>enDive</th>\n",
       "    </tr>\n",
       "  </thead>\n",
       "  <tbody>\n",
       "    <tr>\n",
       "      <th>Normals_50</th>\n",
       "      <td>0.48</td>\n",
       "      <td>0.47</td>\n",
       "      <td>23.57</td>\n",
       "      <td>1.46</td>\n",
       "      <td>69.58</td>\n",
       "    </tr>\n",
       "    <tr>\n",
       "      <th>Normals_5000</th>\n",
       "      <td>9.72</td>\n",
       "      <td>196.98</td>\n",
       "      <td>1739.97</td>\n",
       "      <td>5550.04</td>\n",
       "      <td>686.38</td>\n",
       "    </tr>\n",
       "    <tr>\n",
       "      <th>Guassian_Mix_50</th>\n",
       "      <td>0.49</td>\n",
       "      <td>0.47</td>\n",
       "      <td>23.67</td>\n",
       "      <td>1.65</td>\n",
       "      <td>70.11</td>\n",
       "    </tr>\n",
       "    <tr>\n",
       "      <th>Guassian_Mix_5000</th>\n",
       "      <td>12.36</td>\n",
       "      <td>185.34</td>\n",
       "      <td>1732.50</td>\n",
       "      <td>5341.85</td>\n",
       "      <td>669.23</td>\n",
       "    </tr>\n",
       "    <tr>\n",
       "      <th>Pair_Uniforms_50</th>\n",
       "      <td>0.54</td>\n",
       "      <td>0.50</td>\n",
       "      <td>29.34</td>\n",
       "      <td>1.88</td>\n",
       "      <td>85.81</td>\n",
       "    </tr>\n",
       "    <tr>\n",
       "      <th>Pair_Uniforms_5000</th>\n",
       "      <td>10.46</td>\n",
       "      <td>200.59</td>\n",
       "      <td>2271.73</td>\n",
       "      <td>6330.57</td>\n",
       "      <td>746.35</td>\n",
       "    </tr>\n",
       "    <tr>\n",
       "      <th>Normal_Beta_50</th>\n",
       "      <td>0.47</td>\n",
       "      <td>0.45</td>\n",
       "      <td>23.05</td>\n",
       "      <td>1.56</td>\n",
       "      <td>77.94</td>\n",
       "    </tr>\n",
       "    <tr>\n",
       "      <th>Normal_Beta_5000</th>\n",
       "      <td>11.61</td>\n",
       "      <td>162.99</td>\n",
       "      <td>1732.63</td>\n",
       "      <td>5354.29</td>\n",
       "      <td>664.16</td>\n",
       "    </tr>\n",
       "    <tr>\n",
       "      <th>Uniform_Normal_50</th>\n",
       "      <td>0.45</td>\n",
       "      <td>0.38</td>\n",
       "      <td>22.38</td>\n",
       "      <td>1.45</td>\n",
       "      <td>72.66</td>\n",
       "    </tr>\n",
       "    <tr>\n",
       "      <th>Uniform_Normal_5000</th>\n",
       "      <td>11.58</td>\n",
       "      <td>150.43</td>\n",
       "      <td>1688.41</td>\n",
       "      <td>5216.69</td>\n",
       "      <td>649.80</td>\n",
       "    </tr>\n",
       "  </tbody>\n",
       "</table>\n",
       "</div>"
      ],
      "text/plain": [
       "                     Bhattacharyya  Bha_knn  influence       Dp  enDive\n",
       "Normals_50                    0.48     0.47      23.57     1.46   69.58\n",
       "Normals_5000                  9.72   196.98    1739.97  5550.04  686.38\n",
       "Guassian_Mix_50               0.49     0.47      23.67     1.65   70.11\n",
       "Guassian_Mix_5000            12.36   185.34    1732.50  5341.85  669.23\n",
       "Pair_Uniforms_50              0.54     0.50      29.34     1.88   85.81\n",
       "Pair_Uniforms_5000           10.46   200.59    2271.73  6330.57  746.35\n",
       "Normal_Beta_50                0.47     0.45      23.05     1.56   77.94\n",
       "Normal_Beta_5000             11.61   162.99    1732.63  5354.29  664.16\n",
       "Uniform_Normal_50             0.45     0.38      22.38     1.45   72.66\n",
       "Uniform_Normal_5000          11.58   150.43    1688.41  5216.69  649.80"
      ]
     },
     "execution_count": 33,
     "metadata": {},
     "output_type": "execute_result"
    }
   ],
   "source": [
    "dim8_df = pd.DataFrame(dim8,index= index )\n",
    "dim8_df = dim8_df[ordered_columns]\n",
    "\n",
    "round(dim8_df*1000, 2)"
   ]
  },
  {
   "cell_type": "code",
   "execution_count": 34,
   "metadata": {},
   "outputs": [
    {
     "data": {
      "text/html": [
       "<div>\n",
       "<style scoped>\n",
       "    .dataframe tbody tr th:only-of-type {\n",
       "        vertical-align: middle;\n",
       "    }\n",
       "\n",
       "    .dataframe tbody tr th {\n",
       "        vertical-align: top;\n",
       "    }\n",
       "\n",
       "    .dataframe thead th {\n",
       "        text-align: right;\n",
       "    }\n",
       "</style>\n",
       "<table border=\"1\" class=\"dataframe\">\n",
       "  <thead>\n",
       "    <tr style=\"text-align: right;\">\n",
       "      <th></th>\n",
       "      <th>Bhattacharyya</th>\n",
       "      <th>Bha_knn</th>\n",
       "      <th>influence</th>\n",
       "      <th>Dp</th>\n",
       "      <th>enDive</th>\n",
       "    </tr>\n",
       "  </thead>\n",
       "  <tbody>\n",
       "    <tr>\n",
       "      <th>Normals_50</th>\n",
       "      <td>8.77</td>\n",
       "      <td>1.20</td>\n",
       "      <td>25.06</td>\n",
       "      <td>1.54</td>\n",
       "      <td>71.98</td>\n",
       "    </tr>\n",
       "    <tr>\n",
       "      <th>Normals_5000</th>\n",
       "      <td>21.90</td>\n",
       "      <td>397.24</td>\n",
       "      <td>1758.68</td>\n",
       "      <td>5706.66</td>\n",
       "      <td>738.79</td>\n",
       "    </tr>\n",
       "    <tr>\n",
       "      <th>Guassian_Mix_50</th>\n",
       "      <td>7.99</td>\n",
       "      <td>0.94</td>\n",
       "      <td>25.52</td>\n",
       "      <td>1.41</td>\n",
       "      <td>65.61</td>\n",
       "    </tr>\n",
       "    <tr>\n",
       "      <th>Guassian_Mix_5000</th>\n",
       "      <td>28.92</td>\n",
       "      <td>362.50</td>\n",
       "      <td>1757.06</td>\n",
       "      <td>5445.88</td>\n",
       "      <td>724.54</td>\n",
       "    </tr>\n",
       "    <tr>\n",
       "      <th>Pair_Uniforms_50</th>\n",
       "      <td>6.72</td>\n",
       "      <td>1.32</td>\n",
       "      <td>30.95</td>\n",
       "      <td>2.04</td>\n",
       "      <td>81.42</td>\n",
       "    </tr>\n",
       "    <tr>\n",
       "      <th>Pair_Uniforms_5000</th>\n",
       "      <td>17.44</td>\n",
       "      <td>475.24</td>\n",
       "      <td>2344.32</td>\n",
       "      <td>6483.24</td>\n",
       "      <td>876.36</td>\n",
       "    </tr>\n",
       "    <tr>\n",
       "      <th>Normal_Beta_50</th>\n",
       "      <td>10.27</td>\n",
       "      <td>1.19</td>\n",
       "      <td>23.93</td>\n",
       "      <td>1.56</td>\n",
       "      <td>72.61</td>\n",
       "    </tr>\n",
       "    <tr>\n",
       "      <th>Normal_Beta_5000</th>\n",
       "      <td>22.13</td>\n",
       "      <td>383.48</td>\n",
       "      <td>1771.35</td>\n",
       "      <td>5517.35</td>\n",
       "      <td>764.64</td>\n",
       "    </tr>\n",
       "    <tr>\n",
       "      <th>Uniform_Normal_50</th>\n",
       "      <td>8.48</td>\n",
       "      <td>1.27</td>\n",
       "      <td>23.45</td>\n",
       "      <td>1.48</td>\n",
       "      <td>70.98</td>\n",
       "    </tr>\n",
       "    <tr>\n",
       "      <th>Uniform_Normal_5000</th>\n",
       "      <td>27.72</td>\n",
       "      <td>327.99</td>\n",
       "      <td>1774.54</td>\n",
       "      <td>5306.93</td>\n",
       "      <td>714.00</td>\n",
       "    </tr>\n",
       "  </tbody>\n",
       "</table>\n",
       "</div>"
      ],
      "text/plain": [
       "                     Bhattacharyya  Bha_knn  influence       Dp  enDive\n",
       "Normals_50                    8.77     1.20      25.06     1.54   71.98\n",
       "Normals_5000                 21.90   397.24    1758.68  5706.66  738.79\n",
       "Guassian_Mix_50               7.99     0.94      25.52     1.41   65.61\n",
       "Guassian_Mix_5000            28.92   362.50    1757.06  5445.88  724.54\n",
       "Pair_Uniforms_50              6.72     1.32      30.95     2.04   81.42\n",
       "Pair_Uniforms_5000           17.44   475.24    2344.32  6483.24  876.36\n",
       "Normal_Beta_50               10.27     1.19      23.93     1.56   72.61\n",
       "Normal_Beta_5000             22.13   383.48    1771.35  5517.35  764.64\n",
       "Uniform_Normal_50             8.48     1.27      23.45     1.48   70.98\n",
       "Uniform_Normal_5000          27.72   327.99    1774.54  5306.93  714.00"
      ]
     },
     "execution_count": 34,
     "metadata": {},
     "output_type": "execute_result"
    }
   ],
   "source": [
    "dim15_df = pd.DataFrame(dim15,index= index )\n",
    "dim15_df = dim15_df[ordered_columns]\n",
    "\n",
    "round(dim15_df*1000, 2)"
   ]
  }
 ],
 "metadata": {
  "kernelspec": {
   "display_name": "Python 3",
   "language": "python",
   "name": "python3"
  },
  "language_info": {
   "codemirror_mode": {
    "name": "ipython",
    "version": 3
   },
   "file_extension": ".py",
   "mimetype": "text/x-python",
   "name": "python",
   "nbconvert_exporter": "python",
   "pygments_lexer": "ipython3",
   "version": "3.10.12"
  }
 },
 "nbformat": 4,
 "nbformat_minor": 2
}
