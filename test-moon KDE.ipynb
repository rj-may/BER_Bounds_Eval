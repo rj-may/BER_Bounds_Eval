{
 "cells": [
  {
   "cell_type": "code",
   "execution_count": 1,
   "id": "09cad3b7",
   "metadata": {},
   "outputs": [
    {
     "name": "stderr",
     "output_type": "stream",
     "text": [
      "/usr/lib/python3/dist-packages/scipy/__init__.py:146: UserWarning: A NumPy version >=1.17.3 and <1.25.0 is required for this version of SciPy (detected version 1.26.3\n",
      "  warnings.warn(f\"A NumPy version >={np_minversion} and <{np_maxversion}\"\n"
     ]
    }
   ],
   "source": [
    "import numpy as np\n",
    "import pandas as pd\n",
    "import matplotlib.pyplot as plt\n",
    "from mpl_toolkits.mplot3d import Axes3D\n",
    "from scipy.spatial import distance\n",
    "from scipy.sparse.csgraph import minimum_spanning_tree\n",
    "import math\n",
    "        "
   ]
  },
  {
   "cell_type": "code",
   "execution_count": null,
   "id": "8b8e662c",
   "metadata": {},
   "outputs": [],
   "source": []
  },
  {
   "cell_type": "code",
   "execution_count": 2,
   "id": "2b7bc453",
   "metadata": {},
   "outputs": [],
   "source": [
    "import matlab.engine"
   ]
  },
  {
   "cell_type": "code",
   "execution_count": 3,
   "id": "91de6fc9",
   "metadata": {},
   "outputs": [],
   "source": [
    "\n",
    "eng = matlab.engine.start_matlab()\n",
    "\n",
    "eng.cd(r'modules', nargout=0)"
   ]
  },
  {
   "cell_type": "code",
   "execution_count": 4,
   "id": "5c44447d",
   "metadata": {},
   "outputs": [],
   "source": [
    "\n"
   ]
  },
  {
   "cell_type": "code",
   "execution_count": 16,
   "id": "ec684e11",
   "metadata": {},
   "outputs": [
    {
     "data": {
      "text/plain": [
       "'/mnt/c/users/rjmay/code/research_ms'"
      ]
     },
     "execution_count": 16,
     "metadata": {},
     "output_type": "execute_result"
    }
   ],
   "source": []
  },
  {
   "cell_type": "code",
   "execution_count": null,
   "id": "9a944aa0",
   "metadata": {},
   "outputs": [],
   "source": [
    "from modules.dp_func import get_bounds_dp, __get_FR\n",
    "\n",
    "# from modules.enDive import EnDive\n",
    "# from modules.Dp_enDive import get_dp_enDive_bounds"
   ]
  },
  {
   "cell_type": "code",
   "execution_count": 17,
   "id": "d52b7eaf",
   "metadata": {},
   "outputs": [],
   "source": [
    "# Set the mean and covariance matrix for each Gaussian distribution\n",
    "diff = 1.5\n",
    "\n",
    "MC_num = 300\n",
    "\n",
    "dim = 4\n",
    "\n",
    "samples = 500\n",
    "\n",
    "\n",
    "mean1 = np.zeros(dim)\n",
    "covariance1 = np.identity(dim)\n",
    "\n",
    "mean2 = np.zeros(dim)\n",
    "mean2[0] = diff\n",
    "covariance2= np.identity(dim)\n",
    "\n",
    "\n",
    "\n",
    "n0 , n1 = samples, samples"
   ]
  },
  {
   "cell_type": "code",
   "execution_count": 18,
   "id": "de25f9c0",
   "metadata": {},
   "outputs": [
    {
     "name": "stdout",
     "output_type": "stream",
     "text": [
      "The Bounds\n",
      "nan\n",
      "nan\n",
      "0.28815990353612003\n",
      "0.40999337170117783\n"
     ]
    }
   ],
   "source": [
    "\n",
    "bounds_l = []\n",
    "bounds_u = []\n",
    "\n",
    "\n",
    "enDive_l = []\n",
    "enDive_u = []\n",
    "\n",
    "Dp_lst = []\n",
    "\n",
    "\n",
    "for i in range(MC_num):\n",
    "    # Generate random samples from the multivariate normal distributions\n",
    "    data1 = np.random.multivariate_normal(mean1, covariance1, n0)\n",
    "    data2 = np.random.multivariate_normal(mean2, covariance2, n1)\n",
    "\n",
    "    \n",
    "\n",
    "    \n",
    "#     a,b = get_bounds_dp(data1,data2)\n",
    "#     bounds_l.append(a)\n",
    "#     bounds_u.append(b)\n",
    "    \n",
    "#     a, b = get_dp_enDive_bounds(data1, data2)\n",
    "    Dp = eng.EnDive(data1, data2, 'type', \"DP\",'quiet')\n",
    "\n",
    "    \n",
    "    u = 1/2 -1/2 *Dp\n",
    "    l = 1/2 - 1/2 * np.sqrt(Dp)\n",
    "    \n",
    "    enDive_l.append(l)\n",
    "    enDive_u.append(u)\n",
    "    \n",
    "    \n",
    "#     if i % 10 ==0:\n",
    "#         print(i)\n",
    "print(\"The Bounds\")\n",
    "\n",
    "\n",
    "# print(np.average(Dp_lst))\n",
    "\n",
    "lower = np.average(bounds_l)\n",
    "upper = np.average(bounds_u)\n",
    "print(lower)\n",
    "print(upper)\n",
    "\n",
    "l_ave = np.average(enDive_l)\n",
    "u_ave = np.average(enDive_u)\n",
    "print(l_ave)\n",
    "print(u_ave)"
   ]
  },
  {
   "cell_type": "code",
   "execution_count": null,
   "id": "37d8b6af",
   "metadata": {},
   "outputs": [],
   "source": [
    "# print(min(bounds_l))\n",
    "# print(max(bounds_l))\n",
    "\n",
    "\n",
    "# print(min(bounds_u))\n",
    "# print(max(bounds_u))"
   ]
  },
  {
   "cell_type": "code",
   "execution_count": null,
   "id": "645cbce2",
   "metadata": {},
   "outputs": [],
   "source": [
    "# ub = stats.describe(bounds_u)"
   ]
  },
  {
   "cell_type": "code",
   "execution_count": null,
   "id": "b75e2195",
   "metadata": {},
   "outputs": [],
   "source": []
  },
  {
   "cell_type": "code",
   "execution_count": null,
   "id": "2c4732a7",
   "metadata": {},
   "outputs": [],
   "source": [
    "dx = 0.001\n",
    "x = np.arange(-5, 5 + dx, dx)\n",
    "\n",
    "f0 = np.exp(-0.5 * (x - 0)**2) / np.sqrt(2 * np.pi)\n",
    "f1 = np.exp(-0.5 * (x - 2.56)**2) / np.sqrt(2 * np.pi)\n",
    "\n",
    "fmin = np.minimum(f0, f1)\n",
    "\n",
    "BER = 0.5 * np.sum(fmin * dx)\n",
    "\n",
    "print(\"BER 2d:\", BER)"
   ]
  },
  {
   "cell_type": "code",
   "execution_count": null,
   "id": "02443c9c",
   "metadata": {},
   "outputs": [],
   "source": [
    "BER_lst = np.ones(MC_num) * BER\n",
    "\n",
    "\n",
    "mse_l = ((BER_lst - bounds_l)**2).mean(axis=0)\n",
    "\n",
    "mse_u =  ((BER_lst - bounds_u)**2).mean(axis=0)\n",
    "\n",
    "print(mse_l, mse_u)"
   ]
  },
  {
   "cell_type": "code",
   "execution_count": null,
   "id": "10c428cb",
   "metadata": {},
   "outputs": [],
   "source": []
  }
 ],
 "metadata": {
  "kernelspec": {
   "display_name": "Python 3 (ipykernel)",
   "language": "python",
   "name": "python3"
  },
  "language_info": {
   "codemirror_mode": {
    "name": "ipython",
    "version": 3
   },
   "file_extension": ".py",
   "mimetype": "text/x-python",
   "name": "python",
   "nbconvert_exporter": "python",
   "pygments_lexer": "ipython3",
   "version": "3.10.12"
  }
 },
 "nbformat": 4,
 "nbformat_minor": 5
}
