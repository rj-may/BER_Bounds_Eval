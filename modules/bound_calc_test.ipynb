{
 "cells": [
  {
   "cell_type": "markdown",
   "metadata": {},
   "source": [
    "Stuff\n"
   ]
  },
  {
   "cell_type": "code",
   "execution_count": null,
   "metadata": {},
   "outputs": [],
   "source": [
    "import os\n",
    "os.chdir(\"..\")\n",
    "os.getcwd()\n",
    "\n",
    "import numpy as np\n",
    "from scipy.stats import norm\n"
   ]
  },
  {
   "cell_type": "code",
   "execution_count": null,
   "metadata": {},
   "outputs": [],
   "source": []
  },
  {
   "cell_type": "code",
   "execution_count": 41,
   "metadata": {},
   "outputs": [
    {
     "data": {
      "image/png": "[encoded data removed]",
      "text/plain": [
       "<Figure size 720x504 with 1 Axes>"
      ]
     },
     "metadata": {
      "needs_background": "light"
     },
     "output_type": "display_data"
    },
    {
     "name": "stdout",
     "output_type": "stream",
     "text": [
      "0.10027258671155662\n"
     ]
    }
   ],
   "source": [
    "from modules.bounds_calculator import bounds_calcultor\n",
    "\n",
    "\n",
    "\n",
    "# data0 = np.random.normal(0, 1, (100, 3))  # Data for class 0\n",
    "# data1 = np.random.normal(1, 1, (100, 3))  # Data for class 1\n",
    "\n",
    "dim = 8\n",
    "\n",
    "diff = 2.56\n",
    "\n",
    "mean1 = np.zeros(dim)\n",
    "covariance1 = np.identity(dim)\n",
    "mean2 = np.zeros(dim)\n",
    "mean2[0] = diff\n",
    "covariance2= np.identity(dim)\n",
    "        \n",
    "samples = 100\n",
    "\n",
    "data0 = np.random.multivariate_normal(mean1, covariance1, samples)\n",
    "data1 = np.random.multivariate_normal(mean2, covariance2, samples)\n",
    "\n",
    "\n",
    "import matplotlib.pyplot as plt\n",
    "\n",
    "\n",
    "fig, ax = plt.subplots(nrows=1, ncols=1, figsize=(10, 7))\n",
    "\n",
    "ax.scatter(data0[:, 0], data0[:, 1])\n",
    "ax.scatter(data1[:, 0], data1[:, 1])\n",
    "\n",
    "\n",
    "\n",
    "plt.show()\n",
    "\n",
    "from scipy.stats import norm\n",
    "\n",
    "dx = 0.001\n",
    "x = np.arange(-10, 10 + dx, dx)\n",
    "# Define the normal distributions\n",
    "f0 = norm.pdf(x, loc=diff, scale =1)\n",
    "f1 = norm.pdf(x, loc=0, scale =1)\n",
    "# Calculate the minimum of f0 and f1\n",
    "min_f0_f1 = np.minimum(f0, f1)\n",
    "# Calculate BER as 0.5 * sum(min(f0, f1) * dx)\n",
    "BER = 0.5 * np.nansum(min_f0_f1 * dx)\n",
    "print(BER)"
   ]
  },
  {
   "cell_type": "code",
   "execution_count": 48,
   "metadata": {},
   "outputs": [
    {
     "data": {
      "text/plain": [
       "{'dp_lower': 0.12583426132260583,\n",
       " 'dp_upper': 0.21999999999999997,\n",
       " 'Bhattacharyya_lower': 0.05310973858974827,\n",
       " 'Bhattacharyya_upper': 0.22425230044901856,\n",
       " 'tight_lower': 0.1060530750531446,\n",
       " 'tight_upper': 0.11019887763272998,\n",
       " 'Bha_knn_lower': 0.07293103695416453,\n",
       " 'Bha_knn_upper': 0.2600232697336044}"
      ]
     },
     "execution_count": 48,
     "metadata": {},
     "output_type": "execute_result"
    }
   ],
   "source": [
    "bounds_calcultor(data0, data1)"
   ]
  }
 ],
 "metadata": {
  "kernelspec": {
   "display_name": "Python 3",
   "language": "python",
   "name": "python3"
  },
  "language_info": {
   "codemirror_mode": {
    "name": "ipython",
    "version": 3
   },
   "file_extension": ".py",
   "mimetype": "text/x-python",
   "name": "python",
   "nbconvert_exporter": "python",
   "pygments_lexer": "ipython3",
   "version": "3.10.12"
  }
 },
 "nbformat": 4,
 "nbformat_minor": 2
}
