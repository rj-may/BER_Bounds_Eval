{
 "cells": [
  {
   "cell_type": "code",
   "execution_count": 1,
   "id": "09cad3b7",
   "metadata": {},
   "outputs": [],
   "source": [
    "import numpy as np\n",
    "# import pandas as pd\n",
    "import matplotlib.pyplot as plt\n",
    "# from mpl_toolkits.mplot3d import Axes3D\n",
    "# from scipy.spatial import distance\n",
    "# from scipy.sparse.csgraph import minimum_spanning_tree\n",
    "import math\n",
    "import pickle\n",
    "import time\n"
   ]
  },
  {
   "cell_type": "markdown",
   "id": "6b2f307b",
   "metadata": {},
   "source": [
    "## USING PREVIOUS DATA\n",
    "\n",
    "We want to be able to save thing \n",
    "\n",
    "IF Pickled = True then we will previously simulated data using the pickle packge"
   ]
  },
  {
   "cell_type": "code",
   "execution_count": 2,
   "id": "4151a71c",
   "metadata": {},
   "outputs": [],
   "source": [
    "PICKLED = False"
   ]
  },
  {
   "cell_type": "markdown",
   "id": "0f0e714a",
   "metadata": {},
   "source": [
    "##### set parent directory"
   ]
  },
  {
   "cell_type": "code",
   "execution_count": 3,
   "id": "bcf27a8e",
   "metadata": {},
   "outputs": [
    {
     "name": "stdout",
     "output_type": "stream",
     "text": [
      "Updated Directory: /mnt/c/users/rjmay/code/research_ms\n"
     ]
    }
   ],
   "source": [
    "import os\n",
    "\n",
    "# Get the current working directory\n",
    "current_directory = os.getcwd()\n",
    "# print(\"Current Directory:\", current_directory)\n",
    "\n",
    "# Move to the parent directory\n",
    "parent_directory = os.path.dirname(current_directory)\n",
    "os.chdir(parent_directory)\n",
    "\n",
    "# Print the updated working directory\n",
    "updated_directory = os.getcwd()\n",
    "print(\"Updated Directory:\", updated_directory)"
   ]
  },
  {
   "cell_type": "markdown",
   "id": "0fbc96fb",
   "metadata": {},
   "source": [
    "### Simulation stage"
   ]
  },
  {
   "cell_type": "code",
   "execution_count": 4,
   "id": "9a944aa0",
   "metadata": {},
   "outputs": [
    {
     "name": "stderr",
     "output_type": "stream",
     "text": [
      "/usr/lib/python3/dist-packages/scipy/__init__.py:146: UserWarning: A NumPy version >=1.17.3 and <1.25.0 is required for this version of SciPy (detected version 1.26.3\n",
      "  warnings.warn(f\"A NumPy version >={np_minversion} and <{np_maxversion}\"\n"
     ]
    }
   ],
   "source": [
    "from modules.multi_bounds import bounds_class\n"
   ]
  },
  {
   "cell_type": "code",
   "execution_count": 5,
   "id": "de25f9c0",
   "metadata": {},
   "outputs": [
    {
     "data": {
      "text/plain": [
       "array([ 1,  4,  7, 10, 13, 17, 20, 23, 26, 30])"
      ]
     },
     "execution_count": 5,
     "metadata": {},
     "output_type": "execute_result"
    }
   ],
   "source": [
    "alpha = np.linspace(1, 30, 10, endpoint = True, dtype= \"int\")\n",
    "\n",
    "alpha"
   ]
  },
  {
   "cell_type": "code",
   "execution_count": 6,
   "id": "1953e9d7",
   "metadata": {},
   "outputs": [
    {
     "data": {
      "text/plain": [
       "array([2, 3, 4, 6])"
      ]
     },
     "execution_count": 6,
     "metadata": {},
     "output_type": "execute_result"
    }
   ],
   "source": [
    "knn_lst = np.linspace(2,6, 4 , dtype= 'int')\n",
    "# knn_lst[0] = 2\n",
    "knn_lst"
   ]
  },
  {
   "cell_type": "code",
   "execution_count": 7,
   "id": "db5a7f2b",
   "metadata": {},
   "outputs": [
    {
     "name": "stdout",
     "output_type": "stream",
     "text": [
      "done with  2  in  70.89969515800476\n",
      "done with  3  in  71.00300288200378\n",
      "done with  4  in  72.16056823730469\n",
      "done with  6  in  71.99417734146118\n"
     ]
    }
   ],
   "source": [
    "mean_diff = 1\n",
    "bound_obj_lst = []\n",
    "\n",
    "if PICKLED: ## We just skip all the data creation if we are using save data. \n",
    "    print(\"USING PREVIOUS DATA NOT SIMULATING DATA \")\n",
    "else:\n",
    "    sample_size= 1000\n",
    "    MC_num = 400\n",
    "    n0, n1 = sample_size, sample_size\n",
    "    for i in knn_lst:\n",
    "        start = time.time()\n",
    "        dim_bound_list = []\n",
    "        for a in alpha:\n",
    "            dimensions =3\n",
    "\n",
    "\n",
    "            mean1 = np.zeros(dimensions)\n",
    "            covariance1 = np.identity(dimensions)\n",
    "\n",
    "            mean2 = np.zeros(dimensions)\n",
    "\n",
    "            mean2[0] = mean_diff\n",
    "\n",
    "            covariance2= np.identity(dimensions)\n",
    "\n",
    "            mean1 = np.array(mean1)\n",
    "            mean2 = np.array(mean2)\n",
    "            params1  = [mean1, covariance1, n0]\n",
    "            params2  = [mean2, covariance2, n1]\n",
    "\n",
    "            tight_params = [a, i ]\n",
    "\n",
    "            bound_types = [\"tight\"]\n",
    "\n",
    "            bounds = bounds_class(\"mv_normal\", params1, params2, threads =2, bound_types =bound_types,  MC_num = MC_num, tight_params = tight_params )\n",
    "\n",
    "            dim_bound_list.append(bounds)\n",
    "        bound_obj_lst.append(dim_bound_list)\n",
    "\n",
    "        end = time.time()\n",
    "        print(\"done with \", i, \" in \",  end -start )\n",
    "\n"
   ]
  },
  {
   "cell_type": "markdown",
   "id": "732d2149",
   "metadata": {},
   "source": [
    "##### Pickling\n",
    "This is where the data either gets save or loaded"
   ]
  },
  {
   "cell_type": "code",
   "execution_count": 8,
   "id": "b4b61b24",
   "metadata": {
    "scrolled": true
   },
   "outputs": [
    {
     "name": "stdout",
     "output_type": "stream",
     "text": [
      "Objects saved to sim_data/knn_num.pkl\n"
     ]
    }
   ],
   "source": [
    "file_path = 'sim_data/knn_num.pkl' # DONT FORGET TO CHANGE ME IF YOU COPY AND PASTE\n",
    "\n",
    "\n",
    "if PICKLED  == False:\n",
    "    \n",
    "    objects_to_save = bound_obj_lst\n",
    "\n",
    "\n",
    "    with open(file_path, 'wb') as file:\n",
    "        # Use pickle.dump to serialize and write the list of objects to the file\n",
    "        pickle.dump(objects_to_save, file)\n",
    "    print(f'Objects saved to {file_path}')\n",
    "    \n",
    "\n",
    "elif PICKLED == True:\n",
    "    \n",
    "\n",
    "    # Open the file in binary read mode\n",
    "    with open(file_path, 'rb') as file:\n",
    "        # Use pickle.load to deserialize and load the list of objects from the file\n",
    "        loaded_objects = pickle.load(file)\n",
    "\n",
    "    print('Loaded object successfully')\n",
    "    \n",
    "    bound_obj_lst = loaded_objects"
   ]
  },
  {
   "cell_type": "markdown",
   "id": "45e978a3",
   "metadata": {},
   "source": [
    "### Using the data\n",
    "\n",
    "may or not be pickled. "
   ]
  },
  {
   "cell_type": "code",
   "execution_count": 9,
   "id": "3ca9c027",
   "metadata": {},
   "outputs": [],
   "source": [
    "\n",
    "\n",
    "tight_l = []\n",
    "tight_u = []\n",
    "\n",
    "for i in range(len(knn_lst)):\n",
    "    l1 = []\n",
    "    l2 = []\n",
    "    for j in range(len(alpha)):\n",
    "        l, u = bound_obj_lst[i][j].get_bounds_tight()\n",
    "        lower  = np.mean(l)\n",
    "        upper = np.mean(u)\n",
    "        \n",
    "        l1.append(lower)\n",
    "        l2.append(upper)\n",
    "    tight_l.append(l1)\n",
    "    tight_u.append(l2)\n",
    "    \n",
    "#         a, b = obj.get_bounds_tight()\n",
    "#         tight_l.append(np.mean(a))\n",
    "#         tight_u.append(np.mean(b))\n",
    "\n"
   ]
  },
  {
   "cell_type": "code",
   "execution_count": 10,
   "id": "a718fd52",
   "metadata": {},
   "outputs": [],
   "source": [
    "lower, upper = [], []"
   ]
  },
  {
   "cell_type": "code",
   "execution_count": 11,
   "id": "aec6626a",
   "metadata": {},
   "outputs": [],
   "source": [
    "\n",
    "sample_size= 500\n",
    "dimension =1\n",
    "            \n",
    "n0, n1 = sample_size, sample_size\n",
    "\n",
    "mean0 = np.zeros(dimension)\n",
    "covariance0 = np.identity(dimension)\n",
    "\n",
    "\n",
    "mean1 = np.zeros(dimension)\n",
    "mean1[0] = mean_diff\n",
    "covariance1= np.identity(dimension)\n",
    "# mean1 = np.array(mean1)\n"
   ]
  },
  {
   "cell_type": "code",
   "execution_count": 12,
   "id": "08865d57",
   "metadata": {},
   "outputs": [],
   "source": [
    "from scipy.stats import multivariate_normal\n",
    "from modules.tight_knn_func import __calc_tight_bounds_via_knn_density\n",
    "\n",
    "for i in range(500):\n",
    "\n",
    "    data0 =  np.random.multivariate_normal(mean0, covariance0, n0)\n",
    "    data1 =  np.random.multivariate_normal(mean1, covariance1, n1)\n",
    "\n",
    "    X = np.concatenate([data0, data1])\n",
    "\n",
    "    y0 = multivariate_normal.pdf(X, mean0, cov= covariance0)\n",
    "    y1 = multivariate_normal.pdf(X, mean1, cov=covariance1)\n",
    "\n",
    "    a = 10\n",
    "    a, b = __calc_tight_bounds_via_knn_density(y0, y1, alpha = a)\n",
    "    lower.append(a), upper.append(b)"
   ]
  },
  {
   "cell_type": "code",
   "execution_count": 13,
   "id": "4347e9a2",
   "metadata": {},
   "outputs": [
    {
     "data": {
      "text/plain": [
       "(0.29717009712254566, 0.3504641829411446)"
      ]
     },
     "execution_count": 13,
     "metadata": {},
     "output_type": "execute_result"
    }
   ],
   "source": [
    "np.mean(lower), np.mean(upper)"
   ]
  },
  {
   "cell_type": "code",
   "execution_count": null,
   "id": "72a593e4",
   "metadata": {},
   "outputs": [],
   "source": []
  },
  {
   "cell_type": "code",
   "execution_count": 14,
   "id": "d026caed",
   "metadata": {},
   "outputs": [
    {
     "data": {
      "text/plain": [
       "array([[0.        , 0.00030367, 0.00136763],\n",
       "       [0.        , 0.0078447 , 0.01109477],\n",
       "       [0.        , 0.00171782, 0.00435543],\n",
       "       ...,\n",
       "       [0.00491153, 0.00705475, 0.01391115],\n",
       "       [0.0072277 , 0.03005311, 0.03767563],\n",
       "       [0.01026406, 0.02132659, 0.03161321]])"
      ]
     },
     "execution_count": 14,
     "metadata": {},
     "output_type": "execute_result"
    }
   ],
   "source": [
    "from sklearn.neighbors import NearestNeighbors\n",
    "\n",
    "k = 3\n",
    "knn = NearestNeighbors(n_neighbors=k)\n",
    "knn.fit(data0)\n",
    "distances, indices = knn.kneighbors(X) # get distance to the  1,2,... kth nearest neighbor across the space x\n",
    "distances\n",
    "\n",
    "\n"
   ]
  },
  {
   "cell_type": "code",
   "execution_count": 15,
   "id": "d1146bc2",
   "metadata": {},
   "outputs": [
    {
     "name": "stdout",
     "output_type": "stream",
     "text": [
      "[[-0.61431088 -0.84068417]\n",
      " [-0.3731017  -0.47043139]\n",
      " [ 0.91443955 -0.06224032]\n",
      " [ 0.95868922  1.26459132]\n",
      " [-1.04419813  0.74902574]\n",
      " [ 0.21226371  1.30983878]\n",
      " [-0.46977982 -1.45865042]\n",
      " [ 0.55115573  0.08254661]\n",
      " [-0.76939681  0.93121494]\n",
      " [-0.95482612  0.76127984]]\n"
     ]
    },
    {
     "data": {
      "text/plain": [
       "(array([[0.55730295, 0.60042532],\n",
       "        [0.26779684, 0.84648008]]),\n",
       " array([[7, 1],\n",
       "        [3, 5]]))"
      ]
     },
     "execution_count": 15,
     "metadata": {},
     "output_type": "execute_result"
    }
   ],
   "source": [
    "data0 =  np.random.multivariate_normal([0,0], [[1,0],[0,1]], 10)\n",
    "\n",
    "print(data0)\n",
    "k = 2\n",
    "knn = NearestNeighbors(n_neighbors=k)\n",
    "knn.fit(data0)\n",
    "distances, indices = knn.kneighbors([[0,0], [1,1]]) # get distance to the  1,2,... kth nearest neighbor across the space x\n",
    "distances, indices\n",
    "\n",
    "\n",
    "\n",
    "# len(distances)"
   ]
  },
  {
   "cell_type": "code",
   "execution_count": 16,
   "id": "e9b790de",
   "metadata": {},
   "outputs": [
    {
     "name": "stdout",
     "output_type": "stream",
     "text": [
      "BER 2d: 0.3085375533946395\n"
     ]
    }
   ],
   "source": [
    "exact = []\n",
    "\n",
    "for i in alpha:\n",
    "    dx = 0.001\n",
    "    x = np.arange(-7, 7 + dx, dx)\n",
    "\n",
    "    f0 = np.exp(-0.5 * (x - 0)**2) / np.sqrt(2 * np.pi)\n",
    "    f1 = np.exp(-0.5 * (x - mean_diff)**2) / np.sqrt(2 * np.pi)\n",
    "\n",
    "    fmin = np.minimum(f0, f1)\n",
    "\n",
    "    BER = 0.5 * np.sum(fmin * dx)\n",
    "    \n",
    "    exact.append(BER)\n",
    "\n",
    "print(\"BER 2d:\", BER)"
   ]
  },
  {
   "cell_type": "code",
   "execution_count": null,
   "id": "bff63f88",
   "metadata": {},
   "outputs": [],
   "source": []
  },
  {
   "cell_type": "code",
   "execution_count": 17,
   "id": "b75e2195",
   "metadata": {},
   "outputs": [
    {
     "data": {
      "image/png": "[encoded data removed]",
      "text/plain": [
       "<Figure size 720x504 with 1 Axes>"
      ]
     },
     "metadata": {
      "needs_background": "light"
     },
     "output_type": "display_data"
    }
   ],
   "source": [
    "fs =17\n",
    "fig = plt.figure(figsize=(10, 7))\n",
    "ax = fig.add_subplot(111)\n",
    "\n",
    "# ax.set_xscale('log', base=10)\n",
    "# ax.set_yscale('log', base=10)\n",
    "\n",
    "\n",
    "\n",
    "ax.plot(alpha, exact, 'k', label='Bayes Error')\n",
    "\n",
    "\n",
    "custom = [2, 3, 4, 6]\n",
    "\n",
    "colors = ['b', 'g', 'r', 'c', 'm', 'y', 'orange']\n",
    "\n",
    "for j, c in enumerate(custom):\n",
    "#     print(c)\n",
    "    i = np.where(knn_lst==c)[0][0] #get index\n",
    "\n",
    "    color = colors[j]\n",
    "    style= str(color + \"--\")\n",
    "    \n",
    "    ax.plot(alpha, tight_l[i], style, label=' G_a Knn_num : ' +str(c) )\n",
    "    ax.plot(alpha, tight_u[i], style)\n",
    "    ax.scatter(alpha, tight_l[i], color  = color,  marker='*')\n",
    "    ax.scatter(alpha, tight_u[i], color = color, marker ='*' )\n",
    "\n",
    "ax.set_xlabel(\"Alpha Value  \", fontsize = fs)\n",
    "ax.set_ylabel(\"Bounds \", fontsize=fs)\n",
    "ax.set_title(\"Aribtrarily Tight Bound and Alpha Value\", fontsize = fs +4)\n",
    "ax.legend()\n",
    "# plt.savefig(\"alpha.png\",facecolor=(1,1,1,1))\n",
    "\n",
    "plt.show()\n"
   ]
  }
 ],
 "metadata": {
  "kernelspec": {
   "display_name": "Python 3 (ipykernel)",
   "language": "python",
   "name": "python3"
  },
  "language_info": {
   "codemirror_mode": {
    "name": "ipython",
    "version": 3
   },
   "file_extension": ".py",
   "mimetype": "text/x-python",
   "name": "python",
   "nbconvert_exporter": "python",
   "pygments_lexer": "ipython3",
   "version": "3.10.12"
  }
 },
 "nbformat": 4,
 "nbformat_minor": 5
}
