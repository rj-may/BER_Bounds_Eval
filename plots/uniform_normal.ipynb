{
 "cells": [
  {
   "cell_type": "code",
   "execution_count": 1,
   "id": "09cad3b7",
   "metadata": {},
   "outputs": [],
   "source": [
    "import numpy as np\n",
    "# import pandas as pd\n",
    "import matplotlib.pyplot as plt\n",
    "# from mpl_toolkits.mplot3d import Axes3D\n",
    "# from scipy.spatial import distance\n",
    "# from scipy.sparse.csgraph import minimum_spanning_tree\n",
    "import math\n",
    "import pickle\n",
    "import time\n",
    "\n"
   ]
  },
  {
   "cell_type": "markdown",
   "id": "6b2f307b",
   "metadata": {},
   "source": [
    "## USING PREVIOUS DATA\n",
    "\n",
    "We want to be able to save thing \n",
    "\n",
    "IF Pickled = True then we will previously simulated data using the pickle packge"
   ]
  },
  {
   "cell_type": "code",
   "execution_count": 2,
   "id": "4151a71c",
   "metadata": {},
   "outputs": [],
   "source": [
    "PICKLED = False"
   ]
  },
  {
   "cell_type": "markdown",
   "id": "0f0e714a",
   "metadata": {},
   "source": [
    "##### set parent directory"
   ]
  },
  {
   "cell_type": "code",
   "execution_count": 3,
   "id": "bcf27a8e",
   "metadata": {},
   "outputs": [
    {
     "name": "stdout",
     "output_type": "stream",
     "text": [
      "Current Directory: /mnt/c/users/rjmay/code/research_ms/plots\n",
      "Updated Directory: /mnt/c/users/rjmay/code/research_ms\n"
     ]
    }
   ],
   "source": [
    "import os\n",
    "\n",
    "# Get the current working directory\n",
    "current_directory = os.getcwd()\n",
    "print(\"Current Directory:\", current_directory)\n",
    "\n",
    "# Move to the parent directory\n",
    "parent_directory = os.path.dirname(current_directory)\n",
    "os.chdir(parent_directory)\n",
    "\n",
    "# Print the updated working directory\n",
    "updated_directory = os.getcwd()\n",
    "print(\"Updated Directory:\", updated_directory)"
   ]
  },
  {
   "cell_type": "markdown",
   "id": "0fbc96fb",
   "metadata": {},
   "source": [
    "### Simulation stage"
   ]
  },
  {
   "cell_type": "code",
   "execution_count": 4,
   "id": "9a944aa0",
   "metadata": {},
   "outputs": [
    {
     "name": "stderr",
     "output_type": "stream",
     "text": [
      "/usr/lib/python3/dist-packages/scipy/__init__.py:146: UserWarning: A NumPy version >=1.17.3 and <1.25.0 is required for this version of SciPy (detected version 1.26.3\n",
      "  warnings.warn(f\"A NumPy version >={np_minversion} and <{np_maxversion}\"\n"
     ]
    }
   ],
   "source": [
    "from modules.multi_bounds_v3 import bounds_class\n",
    "from modules.Bhatt_knn_func import knn_num_calc\n",
    "from modules.data_gen import data_gen"
   ]
  },
  {
   "cell_type": "code",
   "execution_count": null,
   "id": "fc351f5e",
   "metadata": {},
   "outputs": [],
   "source": []
  },
  {
   "cell_type": "code",
   "execution_count": 5,
   "id": "db5a7f2b",
   "metadata": {},
   "outputs": [],
   "source": [
    "bound_obj_lst = []\n",
    "\n",
    "\n",
    "\n",
    "if PICKLED: ## We just skip all the data creation if we are using save data. \n",
    "    print(\"USING PREVIOUS DATA NOT SIMULATING DATA \")\n",
    "else:\n",
    "\n",
    "    MC_num = 400\n",
    "    sample_size= 500\n",
    "    \n",
    "    func0 = np.random.uniform\n",
    "\n",
    "    func1 = np.random.normal\n",
    "\n",
    "    params0 = {'low': .5, 'high':3}\n",
    "\n",
    "    params1= {\"loc\":0, \"scale\" : 1}\n",
    "    \n",
    "    dim =3 \n",
    "    \n",
    "    k = knn_num_calc(sample_size, dim)\n",
    "\n",
    "\n",
    "\n",
    "    generator = data_gen(func0, func1,  params0, params1, dim)\n",
    "\n",
    "        \n",
    "\n",
    "    \n",
    "\n",
    "    bounds = bounds_class(generator, sample_size =sample_size, threads =2,  MC_num = MC_num, k_nn=k)\n",
    "    \n",
    "    bound_obj_lst.append(bounds)\n",
    "\n",
    "    \n"
   ]
  },
  {
   "cell_type": "markdown",
   "id": "732d2149",
   "metadata": {},
   "source": [
    "##### Pickling\n",
    "This is where the data either gets save or loaded"
   ]
  },
  {
   "cell_type": "code",
   "execution_count": 6,
   "id": "b4b61b24",
   "metadata": {
    "scrolled": true
   },
   "outputs": [],
   "source": [
    "# file_path = 'sim_data/means_sep_v3.pkl' # DONT FORGET TO CHANGE ME IF YOU COPY AND PASTE\n",
    "\n",
    "\n",
    "# if PICKLED  == False:\n",
    "    \n",
    "#     objects_to_save = bound_obj_lst, bound_obj_lst2\n",
    "\n",
    "\n",
    "#     with open(file_path, 'wb') as file:\n",
    "#         # Use pickle.dump to serialize and write the list of objects to the file\n",
    "#         pickle.dump(objects_to_save, file)\n",
    "#     print(f'Objects saved to {file_path}')\n",
    "    \n",
    "\n",
    "# elif PICKLED == True:\n",
    "    \n",
    "\n",
    "#     # Open the file in binary read mode\n",
    "#     with open(file_path, 'rb') as file:\n",
    "#         # Use pickle.load to deserialize and load the list of objects from the file\n",
    "#         loaded_objects = pickle.load(file)\n",
    "\n",
    "#     print('Loaded object successfully')\n",
    "    \n",
    "#     bound_obj_lst, bound_obj_lst2 = loaded_objects"
   ]
  },
  {
   "cell_type": "markdown",
   "id": "45e978a3",
   "metadata": {},
   "source": [
    "### Using the data\n",
    "\n",
    "may or not be pickled. "
   ]
  },
  {
   "cell_type": "markdown",
   "id": "5bbdc675",
   "metadata": {},
   "source": [
    "True value is     0.1536\n"
   ]
  },
  {
   "cell_type": "code",
   "execution_count": 9,
   "id": "4b9e77f8",
   "metadata": {},
   "outputs": [],
   "source": [
    "index = [\"true 0.1536\", \"validity\"]"
   ]
  },
  {
   "cell_type": "code",
   "execution_count": 10,
   "id": "72a593e4",
   "metadata": {},
   "outputs": [],
   "source": [
    "import pandas as pd\n",
    "\n",
    "df = pd.DataFrame([obj() for obj in bound_obj_lst])\n",
    "\n",
    "\n",
    "\n",
    "import pandas as pd\n",
    "\n",
    "# df = pd.DataFrame([obj() for obj in bound_obj_lst])\n",
    "a = bound_obj_lst[0]()\n",
    "b = bound_obj_lst[0].validity(0.1536)\n",
    "\n",
    "df = pd.DataFrame([a, b], index = index)\n"
   ]
  },
  {
   "cell_type": "code",
   "execution_count": 11,
   "id": "eb560f40",
   "metadata": {},
   "outputs": [
    {
     "data": {
      "text/html": [
       "<div>\n",
       "<style scoped>\n",
       "    .dataframe tbody tr th:only-of-type {\n",
       "        vertical-align: middle;\n",
       "    }\n",
       "\n",
       "    .dataframe tbody tr th {\n",
       "        vertical-align: top;\n",
       "    }\n",
       "\n",
       "    .dataframe thead th {\n",
       "        text-align: right;\n",
       "    }\n",
       "</style>\n",
       "<table border=\"1\" class=\"dataframe\">\n",
       "  <thead>\n",
       "    <tr style=\"text-align: right;\">\n",
       "      <th></th>\n",
       "      <th>Dp_lower</th>\n",
       "      <th>Dp_upper</th>\n",
       "      <th>Bha_lower</th>\n",
       "      <th>Bha_upper</th>\n",
       "      <th>Bha_knn_lower</th>\n",
       "      <th>Bha_knn_upper</th>\n",
       "      <th>tight_lower</th>\n",
       "      <th>tight_upper</th>\n",
       "      <th>Maha_upper</th>\n",
       "      <th>inf_lower</th>\n",
       "      <th>inf_upper</th>\n",
       "      <th>enDive_lower</th>\n",
       "      <th>enDive_upper</th>\n",
       "    </tr>\n",
       "  </thead>\n",
       "  <tbody>\n",
       "    <tr>\n",
       "      <th>true 0.1536</th>\n",
       "      <td>0.122052</td>\n",
       "      <td>0.21413</td>\n",
       "      <td>0.095739</td>\n",
       "      <td>0.293929</td>\n",
       "      <td>0.124813</td>\n",
       "      <td>0.330317</td>\n",
       "      <td>0.217527</td>\n",
       "      <td>0.22521</td>\n",
       "      <td>0.248738</td>\n",
       "      <td>0.054238</td>\n",
       "      <td>0.225982</td>\n",
       "      <td>0.135412</td>\n",
       "      <td>0.234005</td>\n",
       "    </tr>\n",
       "    <tr>\n",
       "      <th>validity</th>\n",
       "      <td>1.000000</td>\n",
       "      <td>1.00000</td>\n",
       "      <td>1.000000</td>\n",
       "      <td>1.000000</td>\n",
       "      <td>1.000000</td>\n",
       "      <td>1.000000</td>\n",
       "      <td>0.000000</td>\n",
       "      <td>1.00000</td>\n",
       "      <td>1.000000</td>\n",
       "      <td>1.000000</td>\n",
       "      <td>1.000000</td>\n",
       "      <td>0.982500</td>\n",
       "      <td>1.000000</td>\n",
       "    </tr>\n",
       "  </tbody>\n",
       "</table>\n",
       "</div>"
      ],
      "text/plain": [
       "             Dp_lower  Dp_upper  Bha_lower  Bha_upper  Bha_knn_lower  \\\n",
       "true 0.1536  0.122052   0.21413   0.095739   0.293929       0.124813   \n",
       "validity     1.000000   1.00000   1.000000   1.000000       1.000000   \n",
       "\n",
       "             Bha_knn_upper  tight_lower  tight_upper  Maha_upper  inf_lower  \\\n",
       "true 0.1536       0.330317     0.217527      0.22521    0.248738   0.054238   \n",
       "validity          1.000000     0.000000      1.00000    1.000000   1.000000   \n",
       "\n",
       "             inf_upper  enDive_lower  enDive_upper  \n",
       "true 0.1536   0.225982      0.135412      0.234005  \n",
       "validity      1.000000      0.982500      1.000000  "
      ]
     },
     "execution_count": 11,
     "metadata": {},
     "output_type": "execute_result"
    }
   ],
   "source": [
    "df"
   ]
  }
 ],
 "metadata": {
  "kernelspec": {
   "display_name": "Python 3 (ipykernel)",
   "language": "python",
   "name": "python3"
  },
  "language_info": {
   "codemirror_mode": {
    "name": "ipython",
    "version": 3
   },
   "file_extension": ".py",
   "mimetype": "text/x-python",
   "name": "python",
   "nbconvert_exporter": "python",
   "pygments_lexer": "ipython3",
   "version": "3.10.12"
  }
 },
 "nbformat": 4,
 "nbformat_minor": 5
}
