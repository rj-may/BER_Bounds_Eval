{
 "cells": [
  {
   "cell_type": "code",
   "execution_count": 1,
   "id": "09cad3b7",
   "metadata": {},
   "outputs": [],
   "source": [
    "import numpy as np\n",
    "import pandas as pd\n",
    "import matplotlib.pyplot as plt\n",
    "# from mpl_toolkits.mplot3d import Axes3D\n",
    "# from scipy.spatial import distance\n",
    "# from scipy.sparse.csgraph import minimum_spanning_tree\n",
    "import math\n",
    "import time\n",
    "\n",
    "import pickle"
   ]
  },
  {
   "cell_type": "markdown",
   "id": "3553c70a",
   "metadata": {},
   "source": [
    "## USING PREVIOUS DATA\n",
    "\n",
    "We want to be able to save thing \n",
    "\n",
    "IF PICKLED = True then we will previously simulated data using the pickle packge"
   ]
  },
  {
   "cell_type": "code",
   "execution_count": 2,
   "id": "5b4a80ad",
   "metadata": {},
   "outputs": [],
   "source": [
    "PICKLED = True"
   ]
  },
  {
   "cell_type": "markdown",
   "id": "6d9d78f6",
   "metadata": {},
   "source": [
    "Change directory"
   ]
  },
  {
   "cell_type": "code",
   "execution_count": 3,
   "id": "c97967ef",
   "metadata": {},
   "outputs": [
    {
     "name": "stdout",
     "output_type": "stream",
     "text": [
      "Current Directory: /mnt/c/users/rjmay/code/research_ms/plots\n",
      "Updated Directory: /mnt/c/users/rjmay/code/research_ms\n"
     ]
    }
   ],
   "source": [
    "import os\n",
    "\n",
    "# Get the current working directory\n",
    "current_directory = os.getcwd()\n",
    "print(\"Current Directory:\", current_directory)\n",
    "\n",
    "# Move to the parent directory\n",
    "parent_directory = os.path.dirname(current_directory)\n",
    "os.chdir(parent_directory)\n",
    "\n",
    "# Print the updated working directory\n",
    "updated_directory = os.getcwd()\n",
    "print(\"Updated Directory:\", updated_directory)"
   ]
  },
  {
   "cell_type": "code",
   "execution_count": null,
   "id": "aeba8fcb",
   "metadata": {},
   "outputs": [],
   "source": []
  },
  {
   "cell_type": "markdown",
   "id": "b55102b2",
   "metadata": {},
   "source": [
    "### Simulation stage"
   ]
  },
  {
   "cell_type": "code",
   "execution_count": 4,
   "id": "9a944aa0",
   "metadata": {},
   "outputs": [],
   "source": [
    "from modules.multi_bounds_v3 import bounds_class\n",
    "from modules.tight_knn_func import knn_num_calc\n",
    "from modules.data_gen_mv import data_gen_multivariate"
   ]
  },
  {
   "cell_type": "code",
   "execution_count": 5,
   "id": "de25f9c0",
   "metadata": {},
   "outputs": [
    {
     "data": {
      "text/plain": [
       "array([ 100,  145,  211,  307,  447,  650,  945, 1375, 2000])"
      ]
     },
     "execution_count": 5,
     "metadata": {},
     "output_type": "execute_result"
    }
   ],
   "source": [
    "sample_sizes = np.logspace(2, 3.3011, 9 , endpoint = True, dtype = int)\n",
    "\n",
    "sample_sizes"
   ]
  },
  {
   "cell_type": "code",
   "execution_count": 6,
   "id": "abfc5378",
   "metadata": {},
   "outputs": [],
   "source": [
    "dim = 3"
   ]
  },
  {
   "cell_type": "code",
   "execution_count": 7,
   "id": "d52b7eaf",
   "metadata": {},
   "outputs": [],
   "source": [
    "mean_sep = 2.56\n",
    "# Set the mean and covariance matrix for each Gaussian distribution\n",
    "\n",
    "mean1 = np.zeros(dim)\n",
    "covariance1 = np.identity(dim)\n",
    "\n",
    "mean2 = np.zeros(dim)\n",
    "mean2[0] = mean_sep\n",
    "# mean2 = [math.sqrt(1/2), math.sqrt(1/2), 0]\n",
    "\n",
    "# covariance2 = np.ones((3,3))\n",
    "covariance2= np.identity(dim)\n"
   ]
  },
  {
   "cell_type": "code",
   "execution_count": 8,
   "id": "202e44b9",
   "metadata": {},
   "outputs": [],
   "source": [
    "bound_types =  [\"dp\", \"Bhattacharyya\", \"Bhatt_knn\",  \"influence\", \"enDive\"]\n"
   ]
  },
  {
   "cell_type": "markdown",
   "id": "b8638125",
   "metadata": {},
   "source": [
    "##### Run the simulation"
   ]
  },
  {
   "cell_type": "code",
   "execution_count": 9,
   "id": "fa9bd974",
   "metadata": {},
   "outputs": [
    {
     "name": "stdout",
     "output_type": "stream",
     "text": [
      "USING PREVIOUS DATA NOT SIMULATING DATA \n"
     ]
    }
   ],
   "source": [
    "\n",
    "bound_obj_lst = []\n",
    "bound_obj_lst2 = [] \n",
    "\n",
    "MC_num = 400\n",
    "\n",
    "if PICKLED: ## We just skip all the data creation if we are using save data. \n",
    "    print(\"USING PREVIOUS DATA NOT SIMULATING DATA \")\n",
    "else:\n",
    "    \n",
    "    mean_sep = 2.56\n",
    "    func0 = np.random.multivariate_normal\n",
    "    func1 = np.random.multivariate_normal\n",
    "\n",
    "    dim =3\n",
    "    mean1 = np.zeros(dim)\n",
    "    covariance1 = np.identity(dim)\n",
    "\n",
    "    mean2 = np.zeros(dim)\n",
    "    mean2[0] = mean_sep\n",
    "    \n",
    "    params0 = {'mean': mean1, 'cov': covariance1}\n",
    "    params1  = {'mean': mean2, 'cov': covariance2}\n",
    "    \n",
    "    generator1  = data_gen_multivariate(func0, func1,  params0, params1 )\n",
    "    \n",
    "    dim =8\n",
    "\n",
    "    mean1 = np.zeros(dim)\n",
    "    covariance1 = np.identity(dim)\n",
    "\n",
    "    mean2 = np.zeros(dim)\n",
    "    mean2[0] = mean_sep\n",
    "    covariance2 = np.identity(dim)\n",
    "\n",
    "    params0 = {'mean': mean1, 'cov': covariance1}\n",
    "    params1  = {'mean': mean2, 'cov': covariance2}\n",
    "    \n",
    "    generator2  = data_gen_multivariate(func0, func1,  params0, params1 )\n",
    "\n",
    "    for i in sample_sizes:\n",
    "\n",
    "        start = time.time()\n",
    "        sample_size =i \n",
    "        \n",
    "        k = knn_num_calc(i, len(mean1))\n",
    "        \n",
    "        if  i < 750:\n",
    "            threads =2\n",
    "        else:\n",
    "            threads = 4\n",
    "\n",
    "        bounds = bounds_class(generator1, sample_size = sample_size, threads =threads, bound_types= bound_types,   MC_num = MC_num, k_nn  =k )\n",
    "        \n",
    "        bound_obj_lst.append(bounds)\n",
    "        \n",
    "        \n",
    "        bounds = bounds_class(generator2, sample_size = sample_size, threads =threads, bound_types= bound_types,   MC_num = MC_num, k_nn  =k )\n",
    "        \n",
    "        bound_obj_lst2.append(bounds)\n",
    "        \n",
    "        \n",
    "                \n",
    "        end = time.time()\n",
    "\n",
    "        \n",
    "        \n",
    "        print(\"done with \", i, \" in \",  end -start )\n"
   ]
  },
  {
   "cell_type": "markdown",
   "id": "9f949c3a",
   "metadata": {},
   "source": [
    "##### Pickling\n",
    "This is where the data either gets save or loaded"
   ]
  },
  {
   "cell_type": "code",
   "execution_count": 27,
   "id": "b29f5150",
   "metadata": {},
   "outputs": [
    {
     "name": "stdout",
     "output_type": "stream",
     "text": [
      "Loaded object successfully\n"
     ]
    }
   ],
   "source": [
    "file_path = 'sim_data/inc_n_3d.pkl'\n",
    "\n",
    "\n",
    "if PICKLED  == False:\n",
    "    objects_to_save = bound_obj_lst, bound_obj_lst2\n",
    "\n",
    "    with open(file_path, 'wb') as file:\n",
    "        # Use pickle.dump to serialize and write the list of objects to the file\n",
    "        pickle.dump(objects_to_save, file)\n",
    "    print(f'Objects saved to {file_path}')\n",
    "    \n",
    "\n",
    "elif PICKLED == True:\n",
    "\n",
    "    # Open the file in binary read mode\n",
    "    with open(file_path, 'rb') as file:\n",
    "        # Use pickle.load to deserialize and load the list of objects from the file\n",
    "        loaded_objects = pickle.load(file)\n",
    "\n",
    "    print('Loaded object successfully')\n",
    "    \n",
    "    bound_obj_lst, bound_obj_lst2 = loaded_objects"
   ]
  },
  {
   "cell_type": "code",
   "execution_count": 28,
   "id": "96bc3d3c",
   "metadata": {},
   "outputs": [],
   "source": [
    "MC_num = len(bound_obj_lst[0])\n",
    "\n",
    "# dir(bound_obj_lst[0])"
   ]
  },
  {
   "cell_type": "code",
   "execution_count": 29,
   "id": "86f5e3f2",
   "metadata": {},
   "outputs": [],
   "source": [
    "bound_obj_lst = bound_obj_lst2"
   ]
  },
  {
   "cell_type": "markdown",
   "id": "0e4e0e85",
   "metadata": {},
   "source": [
    "## Using simulated data "
   ]
  },
  {
   "cell_type": "code",
   "execution_count": 30,
   "id": "12dfa99f",
   "metadata": {},
   "outputs": [],
   "source": [
    "dp_l = []\n",
    "dp_u = []\n",
    "\n",
    "Bha_u =[]\n",
    "Bha_l =[]\n",
    "\n",
    "Bha_knn_u = []\n",
    "Bha_knn_l = []\n",
    "\n",
    "inf_l = []\n",
    "inf_u = []\n",
    "\n",
    "enDive_l = []\n",
    "enDive_u = []\n",
    "\n",
    "\n",
    "for obj in bound_obj_lst:\n",
    "    a,b = obj.get_bounds_dp()\n",
    "    dp_l.append(a)\n",
    "    dp_u.append(b)\n",
    "    \n",
    "    a,b = obj.get_bounds_Bha()\n",
    "    Bha_l.append(a)\n",
    "    Bha_u.append(b)\n",
    "\n",
    "    \n",
    "#     a, b = obj.get_bounds_tight()\n",
    "#     tight_l.append(a)\n",
    "#     tight_u.append(b)\n",
    "    \n",
    "    a, b= obj.get_bounds_Bha_knn()\n",
    "    Bha_knn_l.append(a)\n",
    "    Bha_knn_u.append(b)\n",
    "    \n",
    "    a,b = obj.get_inf_bounds()\n",
    "    inf_l.append(a)\n",
    "    inf_u.append(b)\n",
    "    \n",
    "    a,b = obj.get_Bounds_enDive()\n",
    "    enDive_l.append(a)\n",
    "    enDive_u.append(b)\n",
    "    \n",
    "    "
   ]
  },
  {
   "cell_type": "markdown",
   "id": "24098299",
   "metadata": {},
   "source": [
    "### Calculate BER and MSE Function"
   ]
  },
  {
   "cell_type": "code",
   "execution_count": 31,
   "id": "2c4732a7",
   "metadata": {},
   "outputs": [
    {
     "name": "stdout",
     "output_type": "stream",
     "text": [
      "BER 2d: 0.10027258671145768\n"
     ]
    }
   ],
   "source": [
    "dx = 0.001\n",
    "x = np.arange(-5, 8 + dx, dx)\n",
    "\n",
    "f0 = np.exp(-0.5 * (x - 0)**2) / np.sqrt(2 * np.pi)\n",
    "f1 = np.exp(-0.5 * (x - mean_sep)**2) / np.sqrt(2 * np.pi)\n",
    "\n",
    "fmin = np.minimum(f0, f1)\n",
    "\n",
    "BER = 0.5 * np.sum(fmin * dx)\n",
    "\n",
    "print(\"BER 2d:\", BER)"
   ]
  },
  {
   "cell_type": "code",
   "execution_count": null,
   "id": "934abdc1",
   "metadata": {},
   "outputs": [],
   "source": []
  },
  {
   "cell_type": "code",
   "execution_count": 32,
   "id": "02443c9c",
   "metadata": {},
   "outputs": [],
   "source": [
    "BER_lst = np.ones(MC_num) * BER\n",
    "\n",
    "\n",
    "def mse(l1, l2):## numpy lists\n",
    "    return ((l1 - l2)**2).mean(axis=0)"
   ]
  },
  {
   "cell_type": "markdown",
   "id": "8c9c967a",
   "metadata": {},
   "source": [
    "### Theoretical values"
   ]
  },
  {
   "cell_type": "code",
   "execution_count": 33,
   "id": "374acbf0",
   "metadata": {},
   "outputs": [],
   "source": [
    "from modules.Bhattacharyya_func import Bhattacharyya_bounds as Bhattacharyya_bounds_calc\n",
    "\n",
    "mean1 = np.array(mean1)\n",
    "mean2 = np.array(mean2)\n",
    "\n",
    "theory_bha = Bhattacharyya_bounds_calc([mean1, covariance1], [mean2, covariance2])\n",
    "\n",
    "\n",
    "\n",
    "MATLAB = [.0792, 0.1459]"
   ]
  },
  {
   "cell_type": "code",
   "execution_count": 34,
   "id": "f1a0f4a9",
   "metadata": {},
   "outputs": [
    {
     "data": {
      "text/plain": [
       "(0.05119343219642164, 0.22039207040266226)"
      ]
     },
     "execution_count": 34,
     "metadata": {},
     "output_type": "execute_result"
    }
   ],
   "source": [
    "theory_bha"
   ]
  },
  {
   "cell_type": "code",
   "execution_count": 35,
   "id": "1ad364a7",
   "metadata": {},
   "outputs": [],
   "source": [
    "cases = len(sample_sizes)\n",
    "\n",
    "## theoretical MSE\n",
    "bha_theoretical_l= np.ones(MC_num) * (theory_bha[0])\n",
    "bha_theoretical_u= np.ones(MC_num) * (theory_bha[1])\n",
    "\n",
    "\n",
    "dp_theoretical_l= np.ones(MC_num) * MATLAB[0]\n",
    "dp_theoretical_u= np.ones(MC_num) * MATLAB[1]\n"
   ]
  },
  {
   "cell_type": "code",
   "execution_count": 36,
   "id": "0824a9a4",
   "metadata": {},
   "outputs": [],
   "source": [
    "lower_mse_DP = []\n",
    "upper_mse_DP =[]\n",
    "\n",
    "lower_mse_Bha = []\n",
    "upper_mse_Bha =[]\n",
    "\n",
    "\n",
    "lower_mse_Bha_knn = []\n",
    "upper_mse_Bha_knn =[]\n",
    "\n",
    "lower_mse_inf = []\n",
    "upper_mse_inf = []\n",
    "\n",
    "lower_mse_enDive = []\n",
    "upper_mse_enDive = []\n",
    "\n",
    "# lower_MSE_tight =[]\n",
    "# upper_MSE_tight= []\n",
    "\n",
    "\n",
    "for i in range(len(bound_obj_lst)):\n",
    "    l_mse = mse(dp_theoretical_l, dp_l[i]) \n",
    "    lower_mse_DP.append(l_mse)\n",
    "    \n",
    "    u_mse = mse(dp_theoretical_u, dp_u[i]) \n",
    "    upper_mse_DP.append(u_mse)       \n",
    "    \n",
    "    l_mse = mse(dp_theoretical_l, enDive_l[i]) \n",
    "    lower_mse_enDive.append(l_mse)\n",
    "    \n",
    "    u_mse = mse(dp_theoretical_u, enDive_u[i]) \n",
    "    upper_mse_enDive.append(u_mse)\n",
    "\n",
    "    \n",
    "    l_mse = mse(bha_theoretical_l, Bha_l[i]) \n",
    "    lower_mse_Bha.append(l_mse)\n",
    "    \n",
    "    u_mse = mse(bha_theoretical_u, Bha_u[i])\n",
    "    upper_mse_Bha.append(u_mse) \n",
    "    \n",
    "    l_mse = mse(bha_theoretical_l, Bha_knn_l[i]) \n",
    "    lower_mse_Bha_knn.append(l_mse)\n",
    "    \n",
    "    u_mse = mse(bha_theoretical_u, Bha_knn_u[i])\n",
    "    upper_mse_Bha_knn.append(u_mse) \n",
    "    \n",
    "    l_mse = mse(bha_theoretical_l, inf_l[i]) \n",
    "    lower_mse_inf.append(l_mse)\n",
    "    \n",
    "    u_mse = mse(bha_theoretical_u, inf_u[i])\n",
    "    upper_mse_inf.append(u_mse) \n",
    "    \n",
    "#     l_mse =mse(BER_lst, tight_l[i])\n",
    "#     lower_MSE_tight.append(l_mse)\n",
    "    \n",
    "#     u_mse =mse(BER_lst, tight_u[i])\n",
    "#     lower_MSE_tight.append(u_mse)"
   ]
  },
  {
   "cell_type": "markdown",
   "id": "fdb9f9b7",
   "metadata": {},
   "source": [
    "### Plotting"
   ]
  },
  {
   "cell_type": "code",
   "execution_count": 37,
   "id": "b75e2195",
   "metadata": {},
   "outputs": [
    {
     "data": {
      "image/png": "[encoded data removed]",
      "text/plain": [
       "<Figure size 1008x432 with 2 Axes>"
      ]
     },
     "metadata": {
      "needs_background": "light"
     },
     "output_type": "display_data"
    }
   ],
   "source": [
    "fs =17\n",
    "\n",
    "fig, axes = plt.subplots(nrows=1, ncols=2, figsize=(14, 6))\n",
    "st = fig.suptitle(\"Mean Squared Difference Between Calculated and Theoretical Value\", fontsize=fs+4)\n",
    "ax = axes[0]\n",
    "\n",
    "\n",
    "ax.set_xscale('log', base=10)\n",
    "ax.set_yscale('log', base=10)\n",
    "\n",
    "ax.plot(sample_sizes, lower_mse_Bha,'r:', label='Bha lower')\n",
    "ax.scatter(sample_sizes, lower_mse_Bha, color = 'red', marker = 'd')\n",
    "\n",
    "ax.plot(sample_sizes, lower_mse_Bha_knn, color = 'g',linestyle=\":\",  label = \"Bha knn lower\")\n",
    "ax.scatter(sample_sizes, lower_mse_Bha_knn, color = 'g', marker = 'd')\n",
    "\n",
    "\n",
    "ax.plot(sample_sizes, lower_mse_DP,  'b:', label='Dp lower')\n",
    "ax.scatter(sample_sizes, lower_mse_DP,  color='b', marker='d')\n",
    "\n",
    "ax.plot(sample_sizes, lower_mse_inf,  'c:', label='Influence lower')\n",
    "ax.scatter(sample_sizes, lower_mse_inf,  color='c', marker='d')\n",
    "\n",
    "ax.plot(sample_sizes, lower_mse_enDive,  'm:', label='enDive lower')\n",
    "ax.scatter(sample_sizes, lower_mse_enDive,  color='m', marker='d')\n",
    "\n",
    "ax.set_xlabel(\"Sample Size (Log Scale)  \", fontsize = fs)\n",
    "ax.set_ylabel(\"MS Difference (Log Scale) \", fontsize=fs)\n",
    "# ax.set_title(\"MSE Between  and Theoretical Value\", fontsize = fs +4)\n",
    "\n",
    "\n",
    "\n",
    "ax.legend()\n",
    "\n",
    "ax = axes[1]\n",
    "\n",
    "ax.set_xscale('log', base=10)\n",
    "ax.set_yscale('log', base=10)\n",
    "\n",
    "ax.plot(sample_sizes, upper_mse_Bha,'r-', label='Bha upper')\n",
    "ax.scatter(sample_sizes, upper_mse_Bha, color = 'red', marker = 'd')\n",
    "\n",
    "\n",
    "ax.plot(sample_sizes, upper_mse_Bha_knn, color = 'g',  label = \"Bha knn upper\")\n",
    "ax.scatter(sample_sizes, upper_mse_Bha_knn, color = 'g', marker = 'd')\n",
    "\n",
    "\n",
    "ax.plot(sample_sizes, upper_mse_DP,  'b-', label='Dp upper')\n",
    "ax.scatter(sample_sizes, upper_mse_DP,  color='b', marker='d')\n",
    "\n",
    "ax.plot(sample_sizes, upper_mse_inf,  'c-', label='Influence upper')\n",
    "ax.scatter(sample_sizes, upper_mse_inf,  color='c', marker='d')\n",
    "\n",
    "ax.plot(sample_sizes, upper_mse_enDive,  'm-', label='enDive upper')\n",
    "ax.scatter(sample_sizes, upper_mse_enDive,  color='m', marker='d')\n",
    "\n",
    "ax.set_xlabel(\"Sample Size\", fontsize = fs)\n",
    "ax.set_ylabel(\"MS Difference\", fontsize=fs)\n",
    "# ax.set_title(\"Mean Squared Difference Between and Theoretical Value\", fontsize = fs +4)\n",
    "\n",
    "ax.legend()\n",
    "\n",
    "# plt.savefig(\"log_test.png\",facecolor=(1,1,1,1))\n",
    "ax.set_xticks(sample_sizes)\n",
    "plt.show()\n"
   ]
  },
  {
   "cell_type": "markdown",
   "id": "9f23ef77",
   "metadata": {},
   "source": [
    "Bhattacharyya, Bha Knn, influence same theoretically\n",
    "\n",
    "Dp, enDive"
   ]
  },
  {
   "cell_type": "code",
   "execution_count": 38,
   "id": "8c884046",
   "metadata": {},
   "outputs": [],
   "source": [
    "# validity_dp_l = np.zeros(len(sample_sizes))\n",
    "# validity_dp_u = np.zeros(len(sample_sizes))\n",
    "\n",
    "# validity_Bha_l = np.zeros(len(sample_sizes))\n",
    "# validity_Bha_u =  np.zeros(len(sample_sizes))\n",
    "\n",
    "# validity_tight_l = np.zeros(len(sample_sizes))\n",
    "# validity_tight_u =  np.zeros(len(sample_sizes))\n",
    "\n",
    "# for i in range(len(sample_sizes)):\n",
    "# #     Bha_l, Bha_u = Bha_lst[i].get_bounds()\n",
    "# #     dp_l, dp_u = dp_lst[i].get_bounds()\n",
    "#     for j in range(MC_num):\n",
    "#         if Bha_l[i][j] < BER:\n",
    "#             validity_Bha_l[i] += 1\n",
    "#         if Bha_u[i][j] > BER:\n",
    "#             validity_Bha_u[i] += 1\n",
    "    \n",
    "#         if dp_l[i][j] < BER:\n",
    "#             validity_dp_l[i] += 1\n",
    "#         if dp_u[i][j] > BER:\n",
    "#             validity_dp_u[i] += 1\n",
    "#         if tight_l[i][j] < BER:\n",
    "#             validity_tight_l[i] += 1\n",
    "#         if tight_u[i][j]> BER:\n",
    "#             validity_tight_u[i] += 1\n",
    "\n",
    "# print(validity_dp_l,  validity_dp_u, validity_Bha_l, validity_Bha_u, validity_tight_l, validity_tight_u )"
   ]
  },
  {
   "cell_type": "code",
   "execution_count": 39,
   "id": "c5e0bb69",
   "metadata": {},
   "outputs": [
    {
     "data": {
      "text/plain": [
       "0.10027258671145768"
      ]
     },
     "execution_count": 39,
     "metadata": {},
     "output_type": "execute_result"
    }
   ],
   "source": [
    "BER"
   ]
  },
  {
   "cell_type": "code",
   "execution_count": 40,
   "id": "c152fd4e",
   "metadata": {},
   "outputs": [
    {
     "data": {
      "text/html": [
       "<div>\n",
       "<style scoped>\n",
       "    .dataframe tbody tr th:only-of-type {\n",
       "        vertical-align: middle;\n",
       "    }\n",
       "\n",
       "    .dataframe tbody tr th {\n",
       "        vertical-align: top;\n",
       "    }\n",
       "\n",
       "    .dataframe thead th {\n",
       "        text-align: right;\n",
       "    }\n",
       "</style>\n",
       "<table border=\"1\" class=\"dataframe\">\n",
       "  <thead>\n",
       "    <tr style=\"text-align: right;\">\n",
       "      <th></th>\n",
       "      <th>Dp_lower</th>\n",
       "      <th>Dp_upper</th>\n",
       "      <th>Bha_lower</th>\n",
       "      <th>Bha_upper</th>\n",
       "      <th>Bha_knn_lower</th>\n",
       "      <th>Bha_knn_upper</th>\n",
       "      <th>tight_lower</th>\n",
       "      <th>tight_upper</th>\n",
       "      <th>Maha_upper</th>\n",
       "      <th>inf_lower</th>\n",
       "      <th>inf_upper</th>\n",
       "      <th>enDive_lower</th>\n",
       "      <th>enDive_upper</th>\n",
       "    </tr>\n",
       "  </thead>\n",
       "  <tbody>\n",
       "    <tr>\n",
       "      <th>100</th>\n",
       "      <td>0.4575</td>\n",
       "      <td>0.9950</td>\n",
       "      <td>0.995</td>\n",
       "      <td>1.0</td>\n",
       "      <td>0.6675</td>\n",
       "      <td>1.0</td>\n",
       "      <td>NaN</td>\n",
       "      <td>NaN</td>\n",
       "      <td>NaN</td>\n",
       "      <td>1.0</td>\n",
       "      <td>0.4050</td>\n",
       "      <td>0.4850</td>\n",
       "      <td>0.5450</td>\n",
       "    </tr>\n",
       "    <tr>\n",
       "      <th>145</th>\n",
       "      <td>0.5200</td>\n",
       "      <td>0.9925</td>\n",
       "      <td>1.000</td>\n",
       "      <td>1.0</td>\n",
       "      <td>0.7850</td>\n",
       "      <td>1.0</td>\n",
       "      <td>NaN</td>\n",
       "      <td>NaN</td>\n",
       "      <td>NaN</td>\n",
       "      <td>1.0</td>\n",
       "      <td>0.1975</td>\n",
       "      <td>0.5000</td>\n",
       "      <td>0.5475</td>\n",
       "    </tr>\n",
       "    <tr>\n",
       "      <th>211</th>\n",
       "      <td>0.5650</td>\n",
       "      <td>1.0000</td>\n",
       "      <td>1.000</td>\n",
       "      <td>1.0</td>\n",
       "      <td>0.6950</td>\n",
       "      <td>1.0</td>\n",
       "      <td>NaN</td>\n",
       "      <td>NaN</td>\n",
       "      <td>NaN</td>\n",
       "      <td>1.0</td>\n",
       "      <td>0.2575</td>\n",
       "      <td>0.4975</td>\n",
       "      <td>0.5525</td>\n",
       "    </tr>\n",
       "    <tr>\n",
       "      <th>307</th>\n",
       "      <td>0.6400</td>\n",
       "      <td>1.0000</td>\n",
       "      <td>1.000</td>\n",
       "      <td>1.0</td>\n",
       "      <td>0.6650</td>\n",
       "      <td>1.0</td>\n",
       "      <td>NaN</td>\n",
       "      <td>NaN</td>\n",
       "      <td>NaN</td>\n",
       "      <td>1.0</td>\n",
       "      <td>0.0175</td>\n",
       "      <td>0.5150</td>\n",
       "      <td>0.5675</td>\n",
       "    </tr>\n",
       "    <tr>\n",
       "      <th>447</th>\n",
       "      <td>0.7475</td>\n",
       "      <td>1.0000</td>\n",
       "      <td>1.000</td>\n",
       "      <td>1.0</td>\n",
       "      <td>0.6700</td>\n",
       "      <td>1.0</td>\n",
       "      <td>NaN</td>\n",
       "      <td>NaN</td>\n",
       "      <td>NaN</td>\n",
       "      <td>1.0</td>\n",
       "      <td>0.0000</td>\n",
       "      <td>0.4950</td>\n",
       "      <td>0.6100</td>\n",
       "    </tr>\n",
       "    <tr>\n",
       "      <th>650</th>\n",
       "      <td>0.8050</td>\n",
       "      <td>1.0000</td>\n",
       "      <td>1.000</td>\n",
       "      <td>1.0</td>\n",
       "      <td>0.7200</td>\n",
       "      <td>1.0</td>\n",
       "      <td>NaN</td>\n",
       "      <td>NaN</td>\n",
       "      <td>NaN</td>\n",
       "      <td>1.0</td>\n",
       "      <td>1.0000</td>\n",
       "      <td>0.4875</td>\n",
       "      <td>0.6075</td>\n",
       "    </tr>\n",
       "    <tr>\n",
       "      <th>945</th>\n",
       "      <td>0.9025</td>\n",
       "      <td>1.0000</td>\n",
       "      <td>1.000</td>\n",
       "      <td>1.0</td>\n",
       "      <td>0.8175</td>\n",
       "      <td>1.0</td>\n",
       "      <td>NaN</td>\n",
       "      <td>NaN</td>\n",
       "      <td>NaN</td>\n",
       "      <td>1.0</td>\n",
       "      <td>0.9975</td>\n",
       "      <td>0.4950</td>\n",
       "      <td>0.6500</td>\n",
       "    </tr>\n",
       "    <tr>\n",
       "      <th>1375</th>\n",
       "      <td>0.9750</td>\n",
       "      <td>1.0000</td>\n",
       "      <td>1.000</td>\n",
       "      <td>1.0</td>\n",
       "      <td>0.9125</td>\n",
       "      <td>1.0</td>\n",
       "      <td>NaN</td>\n",
       "      <td>NaN</td>\n",
       "      <td>NaN</td>\n",
       "      <td>1.0</td>\n",
       "      <td>1.0000</td>\n",
       "      <td>0.5275</td>\n",
       "      <td>0.6675</td>\n",
       "    </tr>\n",
       "    <tr>\n",
       "      <th>2000</th>\n",
       "      <td>0.9975</td>\n",
       "      <td>1.0000</td>\n",
       "      <td>1.000</td>\n",
       "      <td>1.0</td>\n",
       "      <td>0.9850</td>\n",
       "      <td>1.0</td>\n",
       "      <td>NaN</td>\n",
       "      <td>NaN</td>\n",
       "      <td>NaN</td>\n",
       "      <td>1.0</td>\n",
       "      <td>0.6300</td>\n",
       "      <td>0.5100</td>\n",
       "      <td>0.7300</td>\n",
       "    </tr>\n",
       "  </tbody>\n",
       "</table>\n",
       "</div>"
      ],
      "text/plain": [
       "      Dp_lower  Dp_upper  Bha_lower  Bha_upper  Bha_knn_lower  Bha_knn_upper  \\\n",
       "100     0.4575    0.9950      0.995        1.0         0.6675            1.0   \n",
       "145     0.5200    0.9925      1.000        1.0         0.7850            1.0   \n",
       "211     0.5650    1.0000      1.000        1.0         0.6950            1.0   \n",
       "307     0.6400    1.0000      1.000        1.0         0.6650            1.0   \n",
       "447     0.7475    1.0000      1.000        1.0         0.6700            1.0   \n",
       "650     0.8050    1.0000      1.000        1.0         0.7200            1.0   \n",
       "945     0.9025    1.0000      1.000        1.0         0.8175            1.0   \n",
       "1375    0.9750    1.0000      1.000        1.0         0.9125            1.0   \n",
       "2000    0.9975    1.0000      1.000        1.0         0.9850            1.0   \n",
       "\n",
       "      tight_lower  tight_upper  Maha_upper  inf_lower  inf_upper  \\\n",
       "100           NaN          NaN         NaN        1.0     0.4050   \n",
       "145           NaN          NaN         NaN        1.0     0.1975   \n",
       "211           NaN          NaN         NaN        1.0     0.2575   \n",
       "307           NaN          NaN         NaN        1.0     0.0175   \n",
       "447           NaN          NaN         NaN        1.0     0.0000   \n",
       "650           NaN          NaN         NaN        1.0     1.0000   \n",
       "945           NaN          NaN         NaN        1.0     0.9975   \n",
       "1375          NaN          NaN         NaN        1.0     1.0000   \n",
       "2000          NaN          NaN         NaN        1.0     0.6300   \n",
       "\n",
       "      enDive_lower  enDive_upper  \n",
       "100         0.4850        0.5450  \n",
       "145         0.5000        0.5475  \n",
       "211         0.4975        0.5525  \n",
       "307         0.5150        0.5675  \n",
       "447         0.4950        0.6100  \n",
       "650         0.4875        0.6075  \n",
       "945         0.4950        0.6500  \n",
       "1375        0.5275        0.6675  \n",
       "2000        0.5100        0.7300  "
      ]
     },
     "execution_count": 40,
     "metadata": {},
     "output_type": "execute_result"
    }
   ],
   "source": [
    "lst = [obj.validity(BER) for obj in bound_obj_lst ]\n",
    "\n",
    "df_valid = pd.DataFrame(lst, index = sample_sizes)\n",
    "\n",
    "df_valid\n"
   ]
  },
  {
   "cell_type": "code",
   "execution_count": null,
   "id": "17f5bcd6",
   "metadata": {},
   "outputs": [],
   "source": []
  },
  {
   "cell_type": "code",
   "execution_count": 41,
   "id": "34484dc1",
   "metadata": {},
   "outputs": [
    {
     "data": {
      "image/png": "[encoded data removed]",
      "text/plain": [
       "<Figure size 1008x432 with 2 Axes>"
      ]
     },
     "metadata": {
      "needs_background": "light"
     },
     "output_type": "display_data"
    }
   ],
   "source": [
    "fs =17\n",
    "\n",
    "fig, axes = plt.subplots(nrows=1, ncols=2, figsize=(14, 6))\n",
    "\n",
    "ax = axes[0]\n",
    "\n",
    "ax.set_xscale('log', base=10)\n",
    "# ax.set_yscale('log', base=10)\n",
    "\n",
    "ax.plot(df_valid[\"Dp_lower\"], 'b',  label='Dp  ')\n",
    "# ax.plot(sample_sizes, validity_dp_u/ MC_num, 'r', label='Upper Dp Validity ')\n",
    "\n",
    "ax.plot(df_valid[\"Bha_lower\"],'g', label='Bha  ')\n",
    "# ax.plot(sample_sizes, validity_Bha_u/ MC_num, 'orange', label='Upper Bha Validity ')\n",
    "\n",
    "ax.plot(df_valid[\"Bha_knn_lower\"],'r', label='Bha K-nn  ')\n",
    "# ax.plot(sample_sizes, validity_Bha_u/ MC_num, 'orange', label='Upper Bha Validity ')\n",
    "\n",
    "ax.plot(df_valid[\"inf_lower\"],'orange', label='Influence')\n",
    "\n",
    "ax.plot(df_valid[\"enDive_lower\"],'m', label='enDive')\n",
    "\n",
    "\n",
    "# ax.plot(df_valid[\"tight_lower\"],'orange', label='Tight  ')\n",
    "\n",
    "\n",
    "# ax.plot(sample_sizes, validity_tight_u/ MC_num,  label='Upper Tight Validity ')\n",
    "# ax.set_xticks(sample_sizes)\n",
    "\n",
    "ax.set_xlabel(\"Sample Size (Log Scale)  \", fontsize = fs)\n",
    "ax.set_ylabel(\"Proportion Valid \", fontsize=fs)\n",
    "ax.set_title(\"Lower Bound Validity Proportions\" , fontsize = fs +4)\n",
    "ax.legend()\n",
    "\n",
    "\n",
    "ax = axes[1]\n",
    "\n",
    "\n",
    "ax.set_xscale('log', base=10)\n",
    "# ax.set_yscale('log', base=10)\n",
    "\n",
    "ax.plot(df_valid[\"Dp_upper\"], 'b',  label='Dp  ')\n",
    "\n",
    "ax.plot(df_valid[\"Bha_upper\"],'g', label='Bha  ')\n",
    "\n",
    "ax.plot(df_valid[\"Bha_knn_upper\"],'r', label='Bha K-nn ')\n",
    "\n",
    "# ax.plot(df_valid[\"Maha_upper\"],'black', label='Maha ')\n",
    "ax.plot(df_valid[\"inf_upper\"],'orange', label='Influence')\n",
    "\n",
    "ax.plot(df_valid[\"enDive_upper\"],'m', label='enDive')\n",
    "\n",
    "\n",
    "# ax.plot(df_valid[\"tight_upper\"],'orange', label='Tight  ')\n",
    "# ax.set_xticks(sample_sizes)\n",
    "ax.set_xlabel(\"Sample Size (Log Scale)  \", fontsize = fs)\n",
    "ax.set_ylabel(\"Proportion Valid \", fontsize=fs)\n",
    "ax.set_title(\"Upper Bound Validity Proportions\" , fontsize = fs +4)\n",
    "ax.legend()\n",
    "\n",
    "# plt.savefig(\"proportions_n.png\",facecolor=(1,1,1,1))\n",
    "plt.show()"
   ]
  },
  {
   "cell_type": "code",
   "execution_count": null,
   "id": "74c543e4",
   "metadata": {},
   "outputs": [],
   "source": []
  }
 ],
 "metadata": {
  "kernelspec": {
   "display_name": "Python 3 (ipykernel)",
   "language": "python",
   "name": "python3"
  },
  "language_info": {
   "codemirror_mode": {
    "name": "ipython",
    "version": 3
   },
   "file_extension": ".py",
   "mimetype": "text/x-python",
   "name": "python",
   "nbconvert_exporter": "python",
   "pygments_lexer": "ipython3",
   "version": "3.10.12"
  }
 },
 "nbformat": 4,
 "nbformat_minor": 5
}
