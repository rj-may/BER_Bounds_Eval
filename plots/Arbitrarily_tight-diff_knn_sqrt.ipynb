{
 "cells": [
  {
   "cell_type": "markdown",
   "id": "13bd6e35",
   "metadata": {},
   "source": [
    "Calculate K for K-nn using two different methods"
   ]
  },
  {
   "cell_type": "code",
   "execution_count": 1,
   "id": "09cad3b7",
   "metadata": {},
   "outputs": [],
   "source": [
    "import numpy as np\n",
    "# import pandas as pd\n",
    "import matplotlib.pyplot as plt\n",
    "# from mpl_toolkits.mplot3d import Axes3D\n",
    "# from scipy.spatial import distance\n",
    "# from scipy.sparse.csgraph import minimum_spanning_tree\n",
    "import math\n",
    "import pickle\n",
    "import time\n"
   ]
  },
  {
   "cell_type": "markdown",
   "id": "6b2f307b",
   "metadata": {},
   "source": [
    "## USING PREVIOUS DATA\n",
    "\n",
    "We want to be able to save thing \n",
    "\n",
    "IF Pickled = True then we will previously simulated data using the pickle packge"
   ]
  },
  {
   "cell_type": "code",
   "execution_count": 2,
   "id": "4151a71c",
   "metadata": {},
   "outputs": [],
   "source": [
    "PICKLED = False"
   ]
  },
  {
   "cell_type": "markdown",
   "id": "0f0e714a",
   "metadata": {},
   "source": [
    "##### set parent directory"
   ]
  },
  {
   "cell_type": "code",
   "execution_count": 3,
   "id": "bcf27a8e",
   "metadata": {},
   "outputs": [
    {
     "name": "stdout",
     "output_type": "stream",
     "text": [
      "Updated Directory: /mnt/c/users/rjmay/code/research_ms\n"
     ]
    }
   ],
   "source": [
    "import os\n",
    "\n",
    "# Get the current working directory\n",
    "current_directory = os.getcwd()\n",
    "# print(\"Current Directory:\", current_directory)\n",
    "\n",
    "# Move to the parent directory\n",
    "parent_directory = os.path.dirname(current_directory)\n",
    "os.chdir(parent_directory)\n",
    "\n",
    "# Print the updated working directory\n",
    "updated_directory = os.getcwd()\n",
    "print(\"Updated Directory:\", updated_directory)"
   ]
  },
  {
   "cell_type": "markdown",
   "id": "0fbc96fb",
   "metadata": {},
   "source": [
    "### Simulation stage"
   ]
  },
  {
   "cell_type": "code",
   "execution_count": 4,
   "id": "9a944aa0",
   "metadata": {},
   "outputs": [
    {
     "name": "stderr",
     "output_type": "stream",
     "text": [
      "/usr/lib/python3/dist-packages/scipy/__init__.py:146: UserWarning: A NumPy version >=1.17.3 and <1.25.0 is required for this version of SciPy (detected version 1.26.3\n",
      "  warnings.warn(f\"A NumPy version >={np_minversion} and <{np_maxversion}\"\n"
     ]
    }
   ],
   "source": [
    "from modules.multi_bounds_v2 import bounds_class\n",
    "from modules.tight_knn_func import knn_num_calc"
   ]
  },
  {
   "cell_type": "code",
   "execution_count": 5,
   "id": "de25f9c0",
   "metadata": {},
   "outputs": [
    {
     "data": {
      "text/plain": [
       "array([ 1,  4,  7, 10, 13, 17, 20, 23, 26, 30])"
      ]
     },
     "execution_count": 5,
     "metadata": {},
     "output_type": "execute_result"
    }
   ],
   "source": [
    "alpha = np.linspace(1, 30, 10, endpoint = True, dtype= \"int\")\n",
    "\n",
    "alpha"
   ]
  },
  {
   "cell_type": "code",
   "execution_count": 6,
   "id": "1953e9d7",
   "metadata": {},
   "outputs": [],
   "source": [
    "# knn_lst = np.linspace(2,6, 4 , dtype= 'int')\n",
    "# # knn_lst[0] = 2\n",
    "# knn_lst\n",
    "\n",
    "method = [1,2]"
   ]
  },
  {
   "cell_type": "code",
   "execution_count": 7,
   "id": "db5a7f2b",
   "metadata": {},
   "outputs": [
    {
     "name": "stdout",
     "output_type": "stream",
     "text": [
      "done with  1  in  39.567689180374146\n",
      "done with  2  in  43.223881244659424\n"
     ]
    }
   ],
   "source": [
    "mean_diff = 2.56\n",
    "bound_obj_lst = []\n",
    "\n",
    "if PICKLED: ## We just skip all the data creation if we are using save data. \n",
    "    print(\"USING PREVIOUS DATA NOT SIMULATING DATA \")\n",
    "else:\n",
    "    sample_size= 500\n",
    "    MC_num = 400\n",
    "    n0, n1 = sample_size, sample_size\n",
    "    for i in method:\n",
    "        start = time.time()\n",
    "        dim_bound_list = []\n",
    "        for a in alpha:\n",
    "            dimensions =8\n",
    "\n",
    "\n",
    "            mean1 = np.zeros(dimensions)\n",
    "            covariance1 = np.identity(dimensions)\n",
    "\n",
    "            mean2 = np.zeros(dimensions)\n",
    "\n",
    "            mean2[0] = mean_diff\n",
    "\n",
    "            covariance2= np.identity(dimensions)\n",
    "\n",
    "            mean1 = np.array(mean1)\n",
    "            mean2 = np.array(mean2)\n",
    "            params1  = [mean1, covariance1, n0]\n",
    "            params2  = [mean2, covariance2, n1]\n",
    "            if i ==1:\n",
    "                k= knn_num_calc(sample_size, dimensions)\n",
    "            if i ==2:\n",
    "                k = int(np.sqrt(sample_size))\n",
    "\n",
    "            tight_params = [a, k ]\n",
    "\n",
    "            bound_types = [\"tight\", \"Bhattacharyya\"]\n",
    "\n",
    "            bounds = bounds_class(\"mv_normal\", params1, params2, threads =2, bound_types =bound_types,  MC_num = MC_num, tight_params = tight_params )\n",
    "\n",
    "            dim_bound_list.append(bounds)\n",
    "        bound_obj_lst.append(dim_bound_list)\n",
    "\n",
    "        end = time.time()\n",
    "        print(\"done with \", i, \" in \",  end -start )\n",
    "\n"
   ]
  },
  {
   "cell_type": "markdown",
   "id": "732d2149",
   "metadata": {},
   "source": [
    "##### Pickling\n",
    "This is where the data either gets save or loaded"
   ]
  },
  {
   "cell_type": "code",
   "execution_count": 8,
   "id": "b4b61b24",
   "metadata": {
    "scrolled": true
   },
   "outputs": [
    {
     "name": "stdout",
     "output_type": "stream",
     "text": [
      "Objects saved to sim_data/knn_num_method.pkl\n"
     ]
    }
   ],
   "source": [
    "file_path = 'sim_data/knn_num_method.pkl' # DONT FORGET TO CHANGE ME IF YOU COPY AND PASTE\n",
    "\n",
    "\n",
    "if PICKLED  == False:\n",
    "    \n",
    "    objects_to_save = bound_obj_lst\n",
    "\n",
    "\n",
    "    with open(file_path, 'wb') as file:\n",
    "        # Use pickle.dump to serialize and write the list of objects to the file\n",
    "        pickle.dump(objects_to_save, file)\n",
    "    print(f'Objects saved to {file_path}')\n",
    "    \n",
    "\n",
    "elif PICKLED == True:\n",
    "    \n",
    "\n",
    "    # Open the file in binary read mode\n",
    "    with open(file_path, 'rb') as file:\n",
    "        # Use pickle.load to deserialize and load the list of objects from the file\n",
    "        loaded_objects = pickle.load(file)\n",
    "\n",
    "    print('Loaded object successfully')\n",
    "    \n",
    "    bound_obj_lst = loaded_objects"
   ]
  },
  {
   "cell_type": "markdown",
   "id": "45e978a3",
   "metadata": {},
   "source": [
    "### Using the data\n",
    "\n",
    "may or not be pickled. "
   ]
  },
  {
   "cell_type": "code",
   "execution_count": 9,
   "id": "3ca9c027",
   "metadata": {},
   "outputs": [],
   "source": [
    "\n",
    "\n",
    "tight_l = []\n",
    "tight_u = []\n",
    "\n",
    "for i in range(len(method)):\n",
    "    l1 = []\n",
    "    l2 = []\n",
    "    for j in range(len(alpha)):\n",
    "        l, u = bound_obj_lst[i][j].get_bounds_tight()\n",
    "        lower  = np.mean(l)\n",
    "        upper = np.mean(u)\n",
    "        \n",
    "        l1.append(lower)\n",
    "        l2.append(upper)\n",
    "    tight_l.append(l1)\n",
    "    tight_u.append(l2)\n",
    "    \n",
    "#         a, b = obj.get_bounds_tight()\n",
    "#         tight_l.append(np.mean(a))\n",
    "#         tight_u.append(np.mean(b))\n",
    "\n"
   ]
  },
  {
   "cell_type": "code",
   "execution_count": null,
   "id": "90a15a86",
   "metadata": {},
   "outputs": [],
   "source": []
  },
  {
   "cell_type": "code",
   "execution_count": 10,
   "id": "a718fd52",
   "metadata": {},
   "outputs": [],
   "source": [
    "lower, upper = [], []"
   ]
  },
  {
   "cell_type": "code",
   "execution_count": 11,
   "id": "aec6626a",
   "metadata": {},
   "outputs": [],
   "source": [
    "\n",
    "sample_size= 500\n",
    "dimension =1\n",
    "            \n",
    "n0, n1 = sample_size, sample_size\n",
    "\n",
    "mean0 = np.zeros(dimension)\n",
    "covariance0 = np.identity(dimension)\n",
    "\n",
    "\n",
    "mean1 = np.zeros(dimension)\n",
    "mean1[0] = mean_diff\n",
    "covariance1= np.identity(dimension)\n",
    "# mean1 = np.array(mean1)\n"
   ]
  },
  {
   "cell_type": "code",
   "execution_count": 12,
   "id": "08865d57",
   "metadata": {},
   "outputs": [],
   "source": [
    "from scipy.stats import multivariate_normal\n",
    "from modules.tight_knn_func import __calc_tight_bounds_via_knn_density\n",
    "\n",
    "for i in range(500):\n",
    "\n",
    "    data0 =  np.random.multivariate_normal(mean0, covariance0, n0)\n",
    "    data1 =  np.random.multivariate_normal(mean1, covariance1, n1)\n",
    "\n",
    "    X = np.concatenate([data0, data1])\n",
    "\n",
    "    y0 = multivariate_normal.pdf(X, mean0, cov= covariance0)\n",
    "    y1 = multivariate_normal.pdf(X, mean1, cov=covariance1)\n",
    "\n",
    "    a = 10\n",
    "    a, b = __calc_tight_bounds_via_knn_density(y0, y1, alpha = a)\n",
    "    lower.append(a), upper.append(b)"
   ]
  },
  {
   "cell_type": "code",
   "execution_count": 13,
   "id": "4347e9a2",
   "metadata": {},
   "outputs": [
    {
     "data": {
      "text/plain": [
       "(0.09810341200490194, 0.116805871545162)"
      ]
     },
     "execution_count": 13,
     "metadata": {},
     "output_type": "execute_result"
    }
   ],
   "source": [
    "np.mean(lower), np.mean(upper)"
   ]
  },
  {
   "cell_type": "code",
   "execution_count": null,
   "id": "72a593e4",
   "metadata": {},
   "outputs": [],
   "source": []
  },
  {
   "cell_type": "code",
   "execution_count": 14,
   "id": "d026caed",
   "metadata": {},
   "outputs": [
    {
     "data": {
      "text/plain": [
       "array([[0.00000000e+00, 6.41505515e-03, 1.02594389e-02],\n",
       "       [0.00000000e+00, 1.48028994e-02, 2.19067265e-02],\n",
       "       [0.00000000e+00, 6.56351305e-04, 4.89683846e-03],\n",
       "       ...,\n",
       "       [3.31587046e-03, 6.32387512e-03, 1.50952297e-02],\n",
       "       [2.61156765e-02, 8.17461321e-02, 8.30592165e-02],\n",
       "       [4.61581173e-01, 5.55143476e-01, 7.62897497e-01]])"
      ]
     },
     "execution_count": 14,
     "metadata": {},
     "output_type": "execute_result"
    }
   ],
   "source": [
    "from sklearn.neighbors import NearestNeighbors\n",
    "\n",
    "k = 3\n",
    "knn = NearestNeighbors(n_neighbors=k)\n",
    "knn.fit(data0)\n",
    "distances, indices = knn.kneighbors(X) # get distance to the  1,2,... kth nearest neighbor across the space x\n",
    "distances\n",
    "\n",
    "\n"
   ]
  },
  {
   "cell_type": "code",
   "execution_count": 15,
   "id": "d1146bc2",
   "metadata": {},
   "outputs": [
    {
     "name": "stdout",
     "output_type": "stream",
     "text": [
      "[[-0.22350357 -0.9472854 ]\n",
      " [-0.52457914 -0.72605411]\n",
      " [ 0.07832692  0.16094913]\n",
      " [-0.20383678  0.11918505]\n",
      " [-0.20281189 -0.77185905]\n",
      " [ 1.03353152  0.96690747]\n",
      " [ 0.48663482  0.90191095]\n",
      " [ 0.19687161 -1.03830256]\n",
      " [-0.63174315 -0.02081244]\n",
      " [ 0.06886999 -0.7696687 ]]\n"
     ]
    },
    {
     "data": {
      "text/plain": [
       "(array([[0.17899644, 0.23612392],\n",
       "        [0.04711134, 0.52265215]]),\n",
       " array([[2, 3],\n",
       "        [5, 6]]))"
      ]
     },
     "execution_count": 15,
     "metadata": {},
     "output_type": "execute_result"
    }
   ],
   "source": [
    "data0 =  np.random.multivariate_normal([0,0], [[1,0],[0,1]], 10)\n",
    "\n",
    "print(data0)\n",
    "k = 2\n",
    "knn = NearestNeighbors(n_neighbors=k)\n",
    "knn.fit(data0)\n",
    "distances, indices = knn.kneighbors([[0,0], [1,1]]) # get distance to the  1,2,... kth nearest neighbor across the space x\n",
    "distances, indices\n",
    "\n",
    "\n",
    "\n",
    "# len(distances)"
   ]
  },
  {
   "cell_type": "code",
   "execution_count": 16,
   "id": "e9b790de",
   "metadata": {},
   "outputs": [
    {
     "name": "stdout",
     "output_type": "stream",
     "text": [
      "BER 2d: 0.10027258671083486\n"
     ]
    }
   ],
   "source": [
    "exact = []\n",
    "\n",
    "for i in alpha:\n",
    "    dx = 0.001\n",
    "    x = np.arange(-7, 7 + dx, dx)\n",
    "\n",
    "    f0 = np.exp(-0.5 * (x - 0)**2) / np.sqrt(2 * np.pi)\n",
    "    f1 = np.exp(-0.5 * (x - mean_diff)**2) / np.sqrt(2 * np.pi)\n",
    "\n",
    "    fmin = np.minimum(f0, f1)\n",
    "\n",
    "    BER = 0.5 * np.sum(fmin * dx)\n",
    "    \n",
    "    exact.append(BER)\n",
    "\n",
    "print(\"BER 2d:\", BER)"
   ]
  },
  {
   "cell_type": "code",
   "execution_count": null,
   "id": "bff63f88",
   "metadata": {},
   "outputs": [],
   "source": []
  },
  {
   "cell_type": "code",
   "execution_count": 17,
   "id": "14ab2cf7",
   "metadata": {},
   "outputs": [
    {
     "data": {
      "text/plain": [
       "[1, 2]"
      ]
     },
     "execution_count": 17,
     "metadata": {},
     "output_type": "execute_result"
    }
   ],
   "source": [
    "method"
   ]
  },
  {
   "cell_type": "code",
   "execution_count": 18,
   "id": "89814843",
   "metadata": {},
   "outputs": [
    {
     "data": {
      "text/plain": [
       "(array([], dtype=int64),)"
      ]
     },
     "execution_count": 18,
     "metadata": {},
     "output_type": "execute_result"
    }
   ],
   "source": [
    "indices = np.nonzero(method==int(1))\n",
    "indices"
   ]
  },
  {
   "cell_type": "code",
   "execution_count": 19,
   "id": "b75e2195",
   "metadata": {},
   "outputs": [
    {
     "data": {
      "image/png": "[encoded data removed]",
      "text/plain": [
       "<Figure size 720x504 with 1 Axes>"
      ]
     },
     "metadata": {
      "needs_background": "light"
     },
     "output_type": "display_data"
    }
   ],
   "source": [
    "fs =17\n",
    "fig = plt.figure(figsize=(10, 7))\n",
    "ax = fig.add_subplot(111)\n",
    "\n",
    "# ax.set_xscale('log', base=10)\n",
    "# ax.set_yscale('log', base=10)\n",
    "\n",
    "\n",
    "\n",
    "ax.plot(alpha, exact, 'k', label='Bayes Error')\n",
    "\n",
    "\n",
    "custom = np.array(method)\n",
    "# custom = custom[:0]\n",
    "\n",
    "colors = ['b', 'g', 'r', 'c', 'm', 'y', 'orange']\n",
    "\n",
    "for j, c in enumerate(custom):\n",
    "#     print(c)\n",
    "    i = np.where(method==c)[0][0] #get index\n",
    "\n",
    "    color = colors[j]\n",
    "    style= str(color + \"--\")\n",
    "    if c ==1:\n",
    "        label_str = \"Formula\"\n",
    "    if c ==2:\n",
    "        label_str = \"sqrt\"\n",
    "    \n",
    "    ax.plot(alpha, tight_l[i], style, label=' G_a Knn_num : ' +label_str )\n",
    "    ax.plot(alpha, tight_u[i], style)\n",
    "    ax.scatter(alpha, tight_l[i], color  = color,  marker='*')\n",
    "    ax.scatter(alpha, tight_u[i], color = color, marker ='*' )\n",
    "\n",
    "ax.set_xlabel(\"Alpha Value  \", fontsize = fs)\n",
    "ax.set_ylabel(\"Bounds \", fontsize=fs)\n",
    "ax.set_title(\"Aribtrarily Tight Bound and Alpha Value\", fontsize = fs +4)\n",
    "ax.legend()\n",
    "# plt.savefig(\"alpha.png\",facecolor=(1,1,1,1))\n",
    "\n",
    "plt.show()\n"
   ]
  }
 ],
 "metadata": {
  "kernelspec": {
   "display_name": "Python 3 (ipykernel)",
   "language": "python",
   "name": "python3"
  },
  "language_info": {
   "codemirror_mode": {
    "name": "ipython",
    "version": 3
   },
   "file_extension": ".py",
   "mimetype": "text/x-python",
   "name": "python",
   "nbconvert_exporter": "python",
   "pygments_lexer": "ipython3",
   "version": "3.10.12"
  }
 },
 "nbformat": 4,
 "nbformat_minor": 5
}
