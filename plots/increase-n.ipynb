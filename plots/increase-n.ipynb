{
 "cells": [
  {
   "cell_type": "code",
   "execution_count": 1,
   "id": "09cad3b7",
   "metadata": {},
   "outputs": [],
   "source": [
    "import numpy as np\n",
    "import pandas as pd\n",
    "import matplotlib.pyplot as plt\n",
    "# from mpl_toolkits.mplot3d import Axes3D\n",
    "# from scipy.spatial import distance\n",
    "# from scipy.sparse.csgraph import minimum_spanning_tree\n",
    "import math\n",
    "import time\n",
    "\n",
    "import pickle"
   ]
  },
  {
   "cell_type": "markdown",
   "id": "3553c70a",
   "metadata": {},
   "source": [
    "## USING PREVIOUS DATA\n",
    "\n",
    "We want to be able to save thing \n",
    "\n",
    "IF PICKLED = True then we will previously simulated data using the pickle packge"
   ]
  },
  {
   "cell_type": "code",
   "execution_count": 2,
   "id": "5b4a80ad",
   "metadata": {},
   "outputs": [],
   "source": [
    "PICKLED = True"
   ]
  },
  {
   "cell_type": "markdown",
   "id": "6d9d78f6",
   "metadata": {},
   "source": [
    "Change directory"
   ]
  },
  {
   "cell_type": "code",
   "execution_count": 3,
   "id": "c97967ef",
   "metadata": {},
   "outputs": [
    {
     "name": "stdout",
     "output_type": "stream",
     "text": [
      "Current Directory: /mnt/c/users/rjmay/code/research_ms/plots\n",
      "Updated Directory: /mnt/c/users/rjmay/code/research_ms\n"
     ]
    }
   ],
   "source": [
    "import os\n",
    "\n",
    "# Get the current working directory\n",
    "current_directory = os.getcwd()\n",
    "print(\"Current Directory:\", current_directory)\n",
    "\n",
    "# Move to the parent directory\n",
    "parent_directory = os.path.dirname(current_directory)\n",
    "os.chdir(parent_directory)\n",
    "\n",
    "# Print the updated working directory\n",
    "updated_directory = os.getcwd()\n",
    "print(\"Updated Directory:\", updated_directory)"
   ]
  },
  {
   "cell_type": "code",
   "execution_count": null,
   "id": "aeba8fcb",
   "metadata": {},
   "outputs": [],
   "source": []
  },
  {
   "cell_type": "markdown",
   "id": "b55102b2",
   "metadata": {},
   "source": [
    "### Simulation stage"
   ]
  },
  {
   "cell_type": "code",
   "execution_count": 4,
   "id": "9a944aa0",
   "metadata": {},
   "outputs": [
    {
     "name": "stderr",
     "output_type": "stream",
     "text": [
      "/usr/lib/python3/dist-packages/scipy/__init__.py:146: UserWarning: A NumPy version >=1.17.3 and <1.25.0 is required for this version of SciPy (detected version 1.26.3\n",
      "  warnings.warn(f\"A NumPy version >={np_minversion} and <{np_maxversion}\"\n"
     ]
    }
   ],
   "source": [
    "from modules.multi_bounds_v2 import bounds_class\n",
    "from modules.tight_knn_func import knn_num_calc\n"
   ]
  },
  {
   "cell_type": "code",
   "execution_count": 5,
   "id": "de25f9c0",
   "metadata": {},
   "outputs": [
    {
     "data": {
      "text/plain": [
       "array([ 100,  145,  211,  307,  447,  650,  945, 1375, 2000])"
      ]
     },
     "execution_count": 5,
     "metadata": {},
     "output_type": "execute_result"
    }
   ],
   "source": [
    "sample_sizes = np.logspace(2, 3.3011, 9 , endpoint = True, dtype = int)\n",
    "\n",
    "sample_sizes"
   ]
  },
  {
   "cell_type": "code",
   "execution_count": 6,
   "id": "d52b7eaf",
   "metadata": {},
   "outputs": [],
   "source": [
    "mean_sep = 2.56\n",
    "# Set the mean and covariance matrix for each Gaussian distribution\n",
    "\n",
    "mean1 = [0, 0, 0 , 0 , 0, 0, 0 , 0]\n",
    "# covariance1 = np.ones((3,3))\n",
    "covariance1 = np.identity(8)\n",
    "# covariance1 = [[1, 0, 0],  [0, 1, 0], [0, 0, 0]\n",
    "\n",
    "mean2 = [mean_sep, 0, 0 , 0, 0, 0,0, 0 ]\n",
    "# mean2 = [math.sqrt(1/2), math.sqrt(1/2), 0]\n",
    "\n",
    "# covariance2 = np.ones((3,3))\n",
    "covariance2= np.identity(8)\n"
   ]
  },
  {
   "cell_type": "markdown",
   "id": "b8638125",
   "metadata": {},
   "source": [
    "##### Run the simulation"
   ]
  },
  {
   "cell_type": "code",
   "execution_count": 7,
   "id": "fa9bd974",
   "metadata": {},
   "outputs": [
    {
     "name": "stdout",
     "output_type": "stream",
     "text": [
      "USING PREVIOUS DATA NOT SIMULATING DATA \n"
     ]
    }
   ],
   "source": [
    "\n",
    "bound_obj_lst = []\n",
    "\n",
    "\n",
    "if PICKLED: ## We just skip all the data creation if we are using save data. \n",
    "    print(\"USING PREVIOUS DATA NOT SIMULATING DATA \")\n",
    "else:\n",
    "    MC_num = 500\n",
    "\n",
    "    for i in sample_sizes:\n",
    "\n",
    "        start = time.time()\n",
    "\n",
    "        n0, n1 = i, i\n",
    "        params1  = [mean1, covariance1, n0]\n",
    "        params2  = [mean2, covariance2, n1]\n",
    "        \n",
    "        \n",
    "        \n",
    "        k = knn_num_calc(n0, len(mean1))\n",
    "        \n",
    "\n",
    "        \n",
    "        \n",
    "        if  i < 750:\n",
    "            threads =2\n",
    "        else:\n",
    "            threads = 4\n",
    "\n",
    "        bounds = bounds_class(\"mv_normal\", params1, params2, threads =threads,  MC_num = MC_num, k_nn  =k )\n",
    "        \n",
    "        bound_obj_lst.append(bounds)\n",
    "        \n",
    "                \n",
    "        end = time.time()\n",
    "\n",
    "        \n",
    "        \n",
    "        print(\"done with \", i, \" in \",  end -start )\n"
   ]
  },
  {
   "cell_type": "markdown",
   "id": "9f949c3a",
   "metadata": {},
   "source": [
    "##### Pickling\n",
    "This is where the data either gets save or loaded"
   ]
  },
  {
   "cell_type": "code",
   "execution_count": 8,
   "id": "b29f5150",
   "metadata": {},
   "outputs": [
    {
     "name": "stdout",
     "output_type": "stream",
     "text": [
      "Loaded object successfully\n"
     ]
    }
   ],
   "source": [
    "file_path = 'sim_data/inc_n.pkl'\n",
    "\n",
    "\n",
    "if PICKLED  == False:\n",
    "    objects_to_save = bound_obj_lst\n",
    "\n",
    "    with open(file_path, 'wb') as file:\n",
    "        # Use pickle.dump to serialize and write the list of objects to the file\n",
    "        pickle.dump(objects_to_save, file)\n",
    "    print(f'Objects saved to {file_path}')\n",
    "    \n",
    "\n",
    "elif PICKLED == True:\n",
    "\n",
    "    # Open the file in binary read mode\n",
    "    with open(file_path, 'rb') as file:\n",
    "        # Use pickle.load to deserialize and load the list of objects from the file\n",
    "        loaded_objects = pickle.load(file)\n",
    "\n",
    "    print('Loaded object successfully')\n",
    "    \n",
    "    bound_obj_lst = loaded_objects"
   ]
  },
  {
   "cell_type": "code",
   "execution_count": 25,
   "id": "96bc3d3c",
   "metadata": {},
   "outputs": [],
   "source": [
    "MC_num = len(bound_obj_lst[0])\n",
    "\n",
    "# dir(bound_obj_lst[0])"
   ]
  },
  {
   "cell_type": "markdown",
   "id": "0e4e0e85",
   "metadata": {},
   "source": [
    "## Using simulated data "
   ]
  },
  {
   "cell_type": "code",
   "execution_count": 14,
   "id": "12dfa99f",
   "metadata": {},
   "outputs": [],
   "source": [
    "dp_l = []\n",
    "dp_u = []\n",
    "\n",
    "Bha_u =[]\n",
    "Bha_l =[]\n",
    "\n",
    "Bha_knn_u = []\n",
    "Bha_knn_l = []\n",
    "\n",
    "tight_l = []\n",
    "tight_u = []\n",
    "\n",
    "for obj in bound_obj_lst:\n",
    "    a,b = obj.get_bounds_dp()\n",
    "    dp_l.append(a)\n",
    "    dp_u.append(b)\n",
    "    \n",
    "    a,b = obj.get_bounds_Bha()\n",
    "    Bha_l.append(a)\n",
    "    Bha_u.append(b)\n",
    "\n",
    "    \n",
    "    a, b = obj.get_bounds_tight()\n",
    "    tight_l.append(a)\n",
    "    tight_u.append(b)\n",
    "    \n",
    "    a, b= obj.get_bounds_Bha_knn()\n",
    "    Bha_knn_l.append(a)\n",
    "    Bha_knn_u.append(b)\n",
    "    \n",
    "    "
   ]
  },
  {
   "cell_type": "markdown",
   "id": "24098299",
   "metadata": {},
   "source": [
    "### Calculate BER and MSE Function"
   ]
  },
  {
   "cell_type": "code",
   "execution_count": 15,
   "id": "2c4732a7",
   "metadata": {},
   "outputs": [
    {
     "name": "stdout",
     "output_type": "stream",
     "text": [
      "BER 2d: 0.10027258671145768\n"
     ]
    }
   ],
   "source": [
    "dx = 0.001\n",
    "x = np.arange(-5, 8 + dx, dx)\n",
    "\n",
    "f0 = np.exp(-0.5 * (x - 0)**2) / np.sqrt(2 * np.pi)\n",
    "f1 = np.exp(-0.5 * (x - mean_sep)**2) / np.sqrt(2 * np.pi)\n",
    "\n",
    "fmin = np.minimum(f0, f1)\n",
    "\n",
    "BER = 0.5 * np.sum(fmin * dx)\n",
    "\n",
    "print(\"BER 2d:\", BER)"
   ]
  },
  {
   "cell_type": "code",
   "execution_count": 16,
   "id": "02443c9c",
   "metadata": {},
   "outputs": [],
   "source": [
    "BER_lst = np.ones(MC_num) * BER\n",
    "\n",
    "\n",
    "def mse(l1, l2):## numpy lists\n",
    "    return ((l1 - l2)**2).mean(axis=0)"
   ]
  },
  {
   "cell_type": "markdown",
   "id": "8c9c967a",
   "metadata": {},
   "source": [
    "### Theoretical values"
   ]
  },
  {
   "cell_type": "code",
   "execution_count": 17,
   "id": "374acbf0",
   "metadata": {},
   "outputs": [],
   "source": [
    "from modules.Bhattacharyya_func import Bhattacharyya_bounds as Bhattacharyya_bounds_calc\n",
    "\n",
    "mean1 = np.array(mean1)\n",
    "mean2 = np.array(mean2)\n",
    "\n",
    "theory_bha = Bhattacharyya_bounds_calc([mean1, covariance1], [mean2, covariance2])\n",
    "\n",
    "\n",
    "\n",
    "MATLAB = [.0792, 0.1459]"
   ]
  },
  {
   "cell_type": "code",
   "execution_count": 18,
   "id": "1ad364a7",
   "metadata": {},
   "outputs": [],
   "source": [
    "cases = len(sample_sizes)\n",
    "\n",
    "## theoretical MSE\n",
    "bha_theoretical_l= np.ones(MC_num) * (theory_bha[0])\n",
    "bha_theoretical_u= np.ones(MC_num) * (theory_bha[1])\n",
    "\n",
    "\n",
    "dp_theoretical_l= np.ones(MC_num) * MATLAB[0]\n",
    "dp_theoretical_u= np.ones(MC_num) * MATLAB[1]\n"
   ]
  },
  {
   "cell_type": "code",
   "execution_count": 19,
   "id": "0824a9a4",
   "metadata": {},
   "outputs": [],
   "source": [
    "lower_mse_DP = []\n",
    "upper_mse_DP =[]\n",
    "\n",
    "lower_mse_Bha = []\n",
    "upper_mse_Bha =[]\n",
    "\n",
    "\n",
    "lower_mse_Bha_knn = []\n",
    "upper_mse_Bha_knn =[]\n",
    "\n",
    "# lower_MSE_tight =[]\n",
    "# upper_MSE_tight= []\n",
    "\n",
    "\n",
    "for i in range(len(bound_obj_lst)):\n",
    "    l_mse = mse(dp_theoretical_l, dp_l[i]) \n",
    "    lower_mse_DP.append(l_mse)\n",
    "    \n",
    "    u_mse = mse(dp_theoretical_u, dp_u[i]) \n",
    "    upper_mse_DP.append(u_mse)       \n",
    "\n",
    "    \n",
    "    l_mse = mse(bha_theoretical_l, Bha_l[i]) \n",
    "    lower_mse_Bha.append(l_mse)\n",
    "    \n",
    "    u_mse = mse(bha_theoretical_u, Bha_u[i])\n",
    "    upper_mse_Bha.append(u_mse) \n",
    "    \n",
    "    l_mse = mse(bha_theoretical_l, Bha_knn_l[i]) \n",
    "    lower_mse_Bha_knn.append(l_mse)\n",
    "    \n",
    "    u_mse = mse(bha_theoretical_u, Bha_knn_u[i])\n",
    "    upper_mse_Bha_knn.append(u_mse) \n",
    "    \n",
    "#     l_mse =mse(BER_lst, tight_l[i])\n",
    "#     lower_MSE_tight.append(l_mse)\n",
    "    \n",
    "#     u_mse =mse(BER_lst, tight_u[i])\n",
    "#     lower_MSE_tight.append(u_mse)"
   ]
  },
  {
   "cell_type": "markdown",
   "id": "fdb9f9b7",
   "metadata": {},
   "source": [
    "### Plotting"
   ]
  },
  {
   "cell_type": "code",
   "execution_count": 38,
   "id": "b75e2195",
   "metadata": {},
   "outputs": [
    {
     "data": {
      "image/png": "[encoded data removed]",
      "text/plain": [
       "<Figure size 1008x432 with 2 Axes>"
      ]
     },
     "metadata": {
      "needs_background": "light"
     },
     "output_type": "display_data"
    }
   ],
   "source": [
    "fs =17\n",
    "\n",
    "fig, axes = plt.subplots(nrows=1, ncols=2, figsize=(14, 6))\n",
    "st = fig.suptitle(\"Mean Squared Difference Between Calculated and Theoretical Value\", fontsize=fs+4)\n",
    "ax = axes[1]\n",
    "\n",
    "\n",
    "ax.set_xscale('log', base=10)\n",
    "ax.set_yscale('log', base=10)\n",
    "\n",
    "ax.plot(sample_sizes, lower_mse_Bha,'r:', label='Bha lower')\n",
    "ax.plot(sample_sizes, upper_mse_Bha,'r-', label='Bha upper')\n",
    "\n",
    "ax.scatter(sample_sizes, lower_mse_Bha, color = 'red', marker = 'd')\n",
    "ax.scatter(sample_sizes, upper_mse_Bha, color = 'red', marker = 'd')\n",
    "\n",
    "ax.plot(sample_sizes, lower_mse_Bha_knn, color = 'g', linestyle = \":\", marker = 'd')\n",
    "ax.plot(sample_sizes, upper_mse_Bha_knn, color = 'g', marker = 'd')\n",
    "\n",
    "ax.scatter(sample_sizes, lower_mse_Bha_knn, color = 'g', marker = 'd')\n",
    "ax.scatter(sample_sizes, upper_mse_Bha_knn, color = 'g', marker = 'd')\n",
    "\n",
    "\n",
    "ax.plot(sample_sizes, lower_mse_DP,  'b:', label='Dp lower')\n",
    "ax.plot(sample_sizes, upper_mse_DP,  'b-', label='Dp upper')\n",
    "\n",
    "\n",
    "ax.set_xlabel(\"Sample Size (Log Scale)  \", fontsize = fs)\n",
    "ax.set_ylabel(\"MS Difference (Log Scale) \", fontsize=fs)\n",
    "# ax.set_title(\"MSE Between  and Theoretical Value\", fontsize = fs +4)\n",
    "\n",
    "\n",
    "ax.scatter(sample_sizes, upper_mse_DP,  color='b', marker='d')\n",
    "ax.scatter(sample_sizes, lower_mse_DP,  color='b', marker='d')\n",
    "ax.legend()\n",
    "\n",
    "ax = axes[0]\n",
    "\n",
    "\n",
    "ax.plot(sample_sizes, lower_mse_Bha,'r:', label='Bha lower')\n",
    "ax.plot(sample_sizes, upper_mse_Bha,'r-', label='Bha upper')\n",
    "ax.scatter(sample_sizes, lower_mse_Bha, color = 'red', marker = 'd')\n",
    "ax.scatter(sample_sizes, upper_mse_Bha, color = 'red', marker = 'd')\n",
    "\n",
    "\n",
    "\n",
    "ax.plot(sample_sizes, lower_mse_Bha_knn, color = 'g', marker = 'd',linestyle=\":\",  label = \"Bha knn lower\")\n",
    "ax.plot(sample_sizes, upper_mse_Bha_knn, color = 'g', marker = 'd', label = \"Bha knn upper\")\n",
    "\n",
    "ax.scatter(sample_sizes, lower_mse_Bha_knn, color = 'g', marker = 'd')\n",
    "ax.scatter(sample_sizes, upper_mse_Bha_knn, color = 'g', marker = 'd')\n",
    "\n",
    "\n",
    "ax.plot(sample_sizes, lower_mse_DP,  'b:', label='Dp lower')\n",
    "ax.plot(sample_sizes, upper_mse_DP,  'b-', label='Dp upper')\n",
    "\n",
    "ax.scatter(sample_sizes, upper_mse_DP,  color='b', marker='d')\n",
    "ax.scatter(sample_sizes, lower_mse_DP,  color='b', marker='d')\n",
    "\n",
    "ax.set_xlabel(\"Sample Size\", fontsize = fs)\n",
    "ax.set_ylabel(\"MS Difference\", fontsize=fs)\n",
    "# ax.set_title(\"Mean Squared Difference Between and Theoretical Value\", fontsize = fs +4)\n",
    "\n",
    "ax.legend()\n",
    "\n",
    "# plt.savefig(\"log_test.png\",facecolor=(1,1,1,1))\n",
    "ax.set_xticks(sample_sizes)\n",
    "plt.show()\n"
   ]
  },
  {
   "cell_type": "code",
   "execution_count": 17,
   "id": "8c884046",
   "metadata": {},
   "outputs": [],
   "source": [
    "# validity_dp_l = np.zeros(len(sample_sizes))\n",
    "# validity_dp_u = np.zeros(len(sample_sizes))\n",
    "\n",
    "# validity_Bha_l = np.zeros(len(sample_sizes))\n",
    "# validity_Bha_u =  np.zeros(len(sample_sizes))\n",
    "\n",
    "# validity_tight_l = np.zeros(len(sample_sizes))\n",
    "# validity_tight_u =  np.zeros(len(sample_sizes))\n",
    "\n",
    "# for i in range(len(sample_sizes)):\n",
    "# #     Bha_l, Bha_u = Bha_lst[i].get_bounds()\n",
    "# #     dp_l, dp_u = dp_lst[i].get_bounds()\n",
    "#     for j in range(MC_num):\n",
    "#         if Bha_l[i][j] < BER:\n",
    "#             validity_Bha_l[i] += 1\n",
    "#         if Bha_u[i][j] > BER:\n",
    "#             validity_Bha_u[i] += 1\n",
    "    \n",
    "#         if dp_l[i][j] < BER:\n",
    "#             validity_dp_l[i] += 1\n",
    "#         if dp_u[i][j] > BER:\n",
    "#             validity_dp_u[i] += 1\n",
    "#         if tight_l[i][j] < BER:\n",
    "#             validity_tight_l[i] += 1\n",
    "#         if tight_u[i][j]> BER:\n",
    "#             validity_tight_u[i] += 1\n",
    "\n",
    "# print(validity_dp_l,  validity_dp_u, validity_Bha_l, validity_Bha_u, validity_tight_l, validity_tight_u )"
   ]
  },
  {
   "cell_type": "code",
   "execution_count": 40,
   "id": "c152fd4e",
   "metadata": {},
   "outputs": [
    {
     "data": {
      "text/html": [
       "<div>\n",
       "<style scoped>\n",
       "    .dataframe tbody tr th:only-of-type {\n",
       "        vertical-align: middle;\n",
       "    }\n",
       "\n",
       "    .dataframe tbody tr th {\n",
       "        vertical-align: top;\n",
       "    }\n",
       "\n",
       "    .dataframe thead th {\n",
       "        text-align: right;\n",
       "    }\n",
       "</style>\n",
       "<table border=\"1\" class=\"dataframe\">\n",
       "  <thead>\n",
       "    <tr style=\"text-align: right;\">\n",
       "      <th></th>\n",
       "      <th>Dp_lower</th>\n",
       "      <th>Dp_upper</th>\n",
       "      <th>Bha_lower</th>\n",
       "      <th>Bha_upper</th>\n",
       "      <th>Bha_knn_lower</th>\n",
       "      <th>Bha_knn_upper</th>\n",
       "      <th>tight_lower</th>\n",
       "      <th>tight_upper</th>\n",
       "      <th>Maha_upper</th>\n",
       "    </tr>\n",
       "  </thead>\n",
       "  <tbody>\n",
       "    <tr>\n",
       "      <th>100</th>\n",
       "      <td>0.500</td>\n",
       "      <td>0.998</td>\n",
       "      <td>0.996</td>\n",
       "      <td>1.0</td>\n",
       "      <td>0.682</td>\n",
       "      <td>1.0</td>\n",
       "      <td>0.010</td>\n",
       "      <td>0.996</td>\n",
       "      <td>1.0</td>\n",
       "    </tr>\n",
       "    <tr>\n",
       "      <th>145</th>\n",
       "      <td>0.502</td>\n",
       "      <td>0.998</td>\n",
       "      <td>1.000</td>\n",
       "      <td>1.0</td>\n",
       "      <td>0.776</td>\n",
       "      <td>1.0</td>\n",
       "      <td>0.002</td>\n",
       "      <td>0.998</td>\n",
       "      <td>1.0</td>\n",
       "    </tr>\n",
       "    <tr>\n",
       "      <th>211</th>\n",
       "      <td>0.592</td>\n",
       "      <td>1.000</td>\n",
       "      <td>1.000</td>\n",
       "      <td>1.0</td>\n",
       "      <td>0.664</td>\n",
       "      <td>1.0</td>\n",
       "      <td>0.002</td>\n",
       "      <td>1.000</td>\n",
       "      <td>1.0</td>\n",
       "    </tr>\n",
       "    <tr>\n",
       "      <th>307</th>\n",
       "      <td>0.624</td>\n",
       "      <td>1.000</td>\n",
       "      <td>1.000</td>\n",
       "      <td>1.0</td>\n",
       "      <td>0.640</td>\n",
       "      <td>1.0</td>\n",
       "      <td>0.000</td>\n",
       "      <td>1.000</td>\n",
       "      <td>1.0</td>\n",
       "    </tr>\n",
       "    <tr>\n",
       "      <th>447</th>\n",
       "      <td>0.740</td>\n",
       "      <td>1.000</td>\n",
       "      <td>1.000</td>\n",
       "      <td>1.0</td>\n",
       "      <td>0.698</td>\n",
       "      <td>1.0</td>\n",
       "      <td>0.000</td>\n",
       "      <td>1.000</td>\n",
       "      <td>1.0</td>\n",
       "    </tr>\n",
       "    <tr>\n",
       "      <th>650</th>\n",
       "      <td>0.834</td>\n",
       "      <td>1.000</td>\n",
       "      <td>1.000</td>\n",
       "      <td>1.0</td>\n",
       "      <td>0.766</td>\n",
       "      <td>1.0</td>\n",
       "      <td>0.000</td>\n",
       "      <td>1.000</td>\n",
       "      <td>1.0</td>\n",
       "    </tr>\n",
       "    <tr>\n",
       "      <th>945</th>\n",
       "      <td>0.898</td>\n",
       "      <td>1.000</td>\n",
       "      <td>1.000</td>\n",
       "      <td>1.0</td>\n",
       "      <td>0.814</td>\n",
       "      <td>1.0</td>\n",
       "      <td>0.000</td>\n",
       "      <td>1.000</td>\n",
       "      <td>1.0</td>\n",
       "    </tr>\n",
       "    <tr>\n",
       "      <th>1375</th>\n",
       "      <td>0.968</td>\n",
       "      <td>1.000</td>\n",
       "      <td>1.000</td>\n",
       "      <td>1.0</td>\n",
       "      <td>0.906</td>\n",
       "      <td>1.0</td>\n",
       "      <td>0.000</td>\n",
       "      <td>1.000</td>\n",
       "      <td>1.0</td>\n",
       "    </tr>\n",
       "    <tr>\n",
       "      <th>2000</th>\n",
       "      <td>0.996</td>\n",
       "      <td>1.000</td>\n",
       "      <td>1.000</td>\n",
       "      <td>1.0</td>\n",
       "      <td>0.986</td>\n",
       "      <td>1.0</td>\n",
       "      <td>0.000</td>\n",
       "      <td>1.000</td>\n",
       "      <td>1.0</td>\n",
       "    </tr>\n",
       "  </tbody>\n",
       "</table>\n",
       "</div>"
      ],
      "text/plain": [
       "      Dp_lower  Dp_upper  Bha_lower  Bha_upper  Bha_knn_lower  Bha_knn_upper  \\\n",
       "100      0.500     0.998      0.996        1.0          0.682            1.0   \n",
       "145      0.502     0.998      1.000        1.0          0.776            1.0   \n",
       "211      0.592     1.000      1.000        1.0          0.664            1.0   \n",
       "307      0.624     1.000      1.000        1.0          0.640            1.0   \n",
       "447      0.740     1.000      1.000        1.0          0.698            1.0   \n",
       "650      0.834     1.000      1.000        1.0          0.766            1.0   \n",
       "945      0.898     1.000      1.000        1.0          0.814            1.0   \n",
       "1375     0.968     1.000      1.000        1.0          0.906            1.0   \n",
       "2000     0.996     1.000      1.000        1.0          0.986            1.0   \n",
       "\n",
       "      tight_lower  tight_upper  Maha_upper  \n",
       "100         0.010        0.996         1.0  \n",
       "145         0.002        0.998         1.0  \n",
       "211         0.002        1.000         1.0  \n",
       "307         0.000        1.000         1.0  \n",
       "447         0.000        1.000         1.0  \n",
       "650         0.000        1.000         1.0  \n",
       "945         0.000        1.000         1.0  \n",
       "1375        0.000        1.000         1.0  \n",
       "2000        0.000        1.000         1.0  "
      ]
     },
     "execution_count": 40,
     "metadata": {},
     "output_type": "execute_result"
    }
   ],
   "source": [
    "lst = [obj.validity(BER) for obj in bound_obj_lst ]\n",
    "\n",
    "df_valid = pd.DataFrame(lst, index = sample_sizes)\n",
    "\n",
    "df_valid\n"
   ]
  },
  {
   "cell_type": "code",
   "execution_count": 42,
   "id": "34484dc1",
   "metadata": {},
   "outputs": [
    {
     "data": {
      "image/png": "[encoded data removed]",
      "text/plain": [
       "<Figure size 1008x432 with 2 Axes>"
      ]
     },
     "metadata": {
      "needs_background": "light"
     },
     "output_type": "display_data"
    }
   ],
   "source": [
    "fs =17\n",
    "\n",
    "fig, axes = plt.subplots(nrows=1, ncols=2, figsize=(14, 6))\n",
    "\n",
    "ax = axes[0]\n",
    "\n",
    "ax.set_xscale('log', base=10)\n",
    "# ax.set_yscale('log', base=10)\n",
    "\n",
    "ax.plot(df_valid[\"Dp_lower\"], 'b',  label='Dp  ')\n",
    "# ax.plot(sample_sizes, validity_dp_u/ MC_num, 'r', label='Upper Dp Validity ')\n",
    "\n",
    "ax.plot(df_valid[\"Bha_lower\"],'g', label='Bha  ')\n",
    "# ax.plot(sample_sizes, validity_Bha_u/ MC_num, 'orange', label='Upper Bha Validity ')\n",
    "\n",
    "ax.plot(df_valid[\"Bha_knn_lower\"],'magenta', label='Bha K-nn  ')\n",
    "# ax.plot(sample_sizes, validity_Bha_u/ MC_num, 'orange', label='Upper Bha Validity ')\n",
    "\n",
    "\n",
    "\n",
    "ax.plot(df_valid[\"tight_lower\"],'orange', label='Tight  ')\n",
    "\n",
    "\n",
    "# ax.plot(sample_sizes, validity_tight_u/ MC_num,  label='Upper Tight Validity ')\n",
    "# ax.set_xticks(sample_sizes)\n",
    "\n",
    "ax.set_xlabel(\"Sample Size (Log Scale)  \", fontsize = fs)\n",
    "ax.set_ylabel(\"Proportion Valid \", fontsize=fs)\n",
    "ax.set_title(\"Lower Bound Validity Proportions\" , fontsize = fs +4)\n",
    "ax.legend()\n",
    "\n",
    "\n",
    "ax = axes[1]\n",
    "\n",
    "\n",
    "ax.set_xscale('log', base=10)\n",
    "# ax.set_yscale('log', base=10)\n",
    "\n",
    "ax.plot(df_valid[\"Dp_upper\"], 'b',  label='Dp  ')\n",
    "\n",
    "ax.plot(df_valid[\"Bha_upper\"],'g', label='Bha  ')\n",
    "\n",
    "ax.plot(df_valid[\"Bha_knn_upper\"],'magenta', label='Bha K-nn ')\n",
    "\n",
    "ax.plot(df_valid[\"Maha_upper\"],'black', label='Maha ')\n",
    "\n",
    "\n",
    "\n",
    "ax.plot(df_valid[\"tight_upper\"],'orange', label='Tight  ')\n",
    "# ax.set_xticks(sample_sizes)\n",
    "ax.set_xlabel(\"Sample Size (Log Scale)  \", fontsize = fs)\n",
    "ax.set_ylabel(\"Proportion Valid \", fontsize=fs)\n",
    "ax.set_title(\"Upper Bound Validity Proportions\" , fontsize = fs +4)\n",
    "ax.legend()\n",
    "\n",
    "# plt.savefig(\"proportions_n.png\",facecolor=(1,1,1,1))\n",
    "plt.show()"
   ]
  },
  {
   "cell_type": "code",
   "execution_count": null,
   "id": "74c543e4",
   "metadata": {},
   "outputs": [],
   "source": []
  }
 ],
 "metadata": {
  "kernelspec": {
   "display_name": "Python 3 (ipykernel)",
   "language": "python",
   "name": "python3"
  },
  "language_info": {
   "codemirror_mode": {
    "name": "ipython",
    "version": 3
   },
   "file_extension": ".py",
   "mimetype": "text/x-python",
   "name": "python",
   "nbconvert_exporter": "python",
   "pygments_lexer": "ipython3",
   "version": "3.10.12"
  }
 },
 "nbformat": 4,
 "nbformat_minor": 5
}
