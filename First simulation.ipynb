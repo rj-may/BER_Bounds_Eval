{
 "cells": [
  {
   "cell_type": "code",
   "execution_count": 1,
   "id": "09cad3b7",
   "metadata": {},
   "outputs": [],
   "source": [
    "import numpy as np\n",
    "import matplotlib.pyplot as plt\n",
    "from mpl_toolkits.mplot3d import Axes3D\n",
    "from scipy.spatial import distance\n",
    "from scipy.sparse.csgraph import minimum_spanning_tree\n",
    "import math"
   ]
  },
  {
   "cell_type": "code",
   "execution_count": 2,
   "id": "d52b7eaf",
   "metadata": {},
   "outputs": [],
   "source": [
    "# Set the mean and covariance matrix for each Gaussian distribution\n",
    "\n",
    "\n",
    "mean1 = [0, 0, 0 ]\n",
    "# covariance1 = np.ones((3,3))\n",
    "covariance1 = np.identity(3)\n",
    "\n",
    "# mean2 = [1, 0, 0]\n",
    "mean2 = [math.sqrt(1/2), math.sqrt(1/2), 0]\n",
    "\n",
    "# covariance2 = np.ones((3,3))\n",
    "covariance2= np.identity(3)\n",
    "\n",
    "#choose the number of samples per group. \n",
    "samples = 150\n",
    "\n",
    "n0 = samples\n",
    "n1 = samples\n",
    "\n",
    "p, q = .5, .5"
   ]
  },
  {
   "cell_type": "code",
   "execution_count": 3,
   "id": "fdd78f57",
   "metadata": {},
   "outputs": [
    {
     "data": {
      "text/plain": [
       "array([[1., 0., 0.],\n",
       "       [0., 1., 0.],\n",
       "       [0., 0., 1.]])"
      ]
     },
     "execution_count": 3,
     "metadata": {},
     "output_type": "execute_result"
    }
   ],
   "source": [
    "np.identity(3)"
   ]
  },
  {
   "cell_type": "code",
   "execution_count": 4,
   "id": "0824a9a4",
   "metadata": {},
   "outputs": [],
   "source": [
    "def get_FR(data1, data2):\n",
    "    \n",
    "    dataset = np.concatenate([data1, data2])\n",
    "\n",
    "    FR_statistic =  0 \n",
    "\n",
    "    # Calculate pairwise distances\n",
    "    distances = distance.pdist(dataset)\n",
    "\n",
    "    # Create a square distance matrix\n",
    "    dist_matrix = distance.squareform(distances)\n",
    "\n",
    "    # Create a minimum spanning tree\n",
    "    mst = minimum_spanning_tree(dist_matrix)\n",
    "\n",
    "    # Extract edges from the minimum spanning tree\n",
    "    edges = np.array(np.where(mst.toarray() > 0)).T\n",
    "\n",
    "\n",
    "    for edge in edges:\n",
    "        if dataset[edge[0]] in data1 and dataset[edge[1]] in data1:\n",
    "            continue\n",
    "        elif dataset[edge[0]] in data2 and dataset[edge[1]] in data2:\n",
    "            continue\n",
    "        else:\n",
    "            FR_statistic  +=1\n",
    "            \n",
    "    return FR_statistic"
   ]
  },
  {
   "cell_type": "code",
   "execution_count": 5,
   "id": "d0ff721a",
   "metadata": {},
   "outputs": [],
   "source": [
    "def get_bounds(up):\n",
    "#     print(up)\n",
    "        \n",
    "    lower = 1/2 - 1/2 *math.sqrt(up) \n",
    "    upper = 1/2 - 1/2 * up \n",
    "    return lower, upper \n",
    "\n",
    "#     print(\"Baye's error rate is between\", 1/2 - val1, 1/2 -  1/2 * up )"
   ]
  },
  {
   "cell_type": "code",
   "execution_count": 6,
   "id": "de25f9c0",
   "metadata": {},
   "outputs": [
    {
     "name": "stdout",
     "output_type": "stream",
     "text": [
      "The Bounds\n",
      "0.28797061672654883\n",
      "0.40712\n"
     ]
    }
   ],
   "source": [
    "from statistics import mean\n",
    "\n",
    "bounds_l = []\n",
    "bounds_u = []\n",
    "for i in range(500):\n",
    "    # Generate random samples from the multivariate normal distributions\n",
    "    data1 = np.random.multivariate_normal(mean1, covariance1, n0)\n",
    "    data2 = np.random.multivariate_normal(mean2, covariance2, n1)\n",
    "\n",
    "    \n",
    "    FR = get_FR(data1, data2) #get the Frieman Rafsky statistic. \n",
    "\n",
    "    Dp = 1 - FR * (n0 + n1)/ (2 * n0 * n1)\n",
    "    \n",
    "    Up = Dp # we have choosen p =q\n",
    "    if Up <= 0:\n",
    "        print(FR, Up)\n",
    "        \n",
    "        \n",
    "    lower, upper = get_bounds(Up)\n",
    "    \n",
    "#     print(\"1, \", 1/2 - 1/2 * math.sqrt(Dp)  , FR/ (n0+ n1))\n",
    "#     print(\"2, \", lower, upper)\n",
    "    \n",
    "    bounds_l.append(lower)\n",
    "    bounds_u.append(upper)\n",
    "    \n",
    "\n",
    "print(\"The Bounds\")\n",
    "print(mean(bounds_l))\n",
    "print(mean(bounds_u))\n"
   ]
  }
 ],
 "metadata": {
  "kernelspec": {
   "display_name": "Python 3 (ipykernel)",
   "language": "python",
   "name": "python3"
  },
  "language_info": {
   "codemirror_mode": {
    "name": "ipython",
    "version": 3
   },
   "file_extension": ".py",
   "mimetype": "text/x-python",
   "name": "python",
   "nbconvert_exporter": "python",
   "pygments_lexer": "ipython3",
   "version": "3.10.12"
  }
 },
 "nbformat": 4,
 "nbformat_minor": 5
}
