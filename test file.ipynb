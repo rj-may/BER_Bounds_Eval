{
 "cells": [
  {
   "cell_type": "code",
   "execution_count": 1,
   "id": "09cad3b7",
   "metadata": {},
   "outputs": [
    {
     "name": "stderr",
     "output_type": "stream",
     "text": [
      "/usr/lib/python3/dist-packages/scipy/__init__.py:146: UserWarning: A NumPy version >=1.17.3 and <1.25.0 is required for this version of SciPy (detected version 1.26.3\n",
      "  warnings.warn(f\"A NumPy version >={np_minversion} and <{np_maxversion}\"\n"
     ]
    }
   ],
   "source": [
    "import numpy as np\n",
    "import pandas as pd\n",
    "import matplotlib.pyplot as plt\n",
    "from mpl_toolkits.mplot3d import Axes3D\n",
    "from scipy.spatial import distance\n",
    "from scipy.sparse.csgraph import minimum_spanning_tree\n",
    "import math\n"
   ]
  },
  {
   "cell_type": "code",
   "execution_count": 2,
   "id": "9a944aa0",
   "metadata": {},
   "outputs": [],
   "source": [
    "from modules.dp_func import get_bounds_dp\n",
    "\n"
   ]
  },
  {
   "cell_type": "code",
   "execution_count": 3,
   "id": "d52b7eaf",
   "metadata": {},
   "outputs": [],
   "source": [
    "# Set the mean and covariance matrix for each Gaussian distribution\n",
    "diff = 2.56\n",
    "\n",
    "dim = 3\n",
    "\n",
    "mean1 = np.zeros(dim)\n",
    "# covariance1 = np.ones((3,3))\n",
    "\n",
    "covariance1 = np.identity(dim)\n",
    "\n",
    "mean2 = np.zeros(dim)\n",
    "mean2[0] = diff\n",
    "\n",
    "\n",
    "covariance2= np.identity(dim)\n",
    "\n",
    "#choose the number of samples per group. \n",
    "samples = 1000\n",
    "\n",
    "n0 = samples\n",
    "n1 = samples\n",
    "\n",
    "# p, q = .5, .5"
   ]
  },
  {
   "cell_type": "code",
   "execution_count": null,
   "id": "d0ff721a",
   "metadata": {},
   "outputs": [],
   "source": []
  },
  {
   "cell_type": "code",
   "execution_count": null,
   "id": "e4c83efc",
   "metadata": {},
   "outputs": [],
   "source": []
  },
  {
   "cell_type": "code",
   "execution_count": 4,
   "id": "de25f9c0",
   "metadata": {},
   "outputs": [
    {
     "ename": "NameError",
     "evalue": "name 'get_FR' is not defined",
     "output_type": "error",
     "traceback": [
      "\u001b[0;31m---------------------------------------------------------------------------\u001b[0m",
      "\u001b[0;31mNameError\u001b[0m                                 Traceback (most recent call last)",
      "\u001b[0;32m/tmp/ipykernel_87479/3045734849.py\u001b[0m in \u001b[0;36m<module>\u001b[0;34m\u001b[0m\n\u001b[1;32m     10\u001b[0m \u001b[0;34m\u001b[0m\u001b[0m\n\u001b[1;32m     11\u001b[0m \u001b[0;34m\u001b[0m\u001b[0m\n\u001b[0;32m---> 12\u001b[0;31m     \u001b[0mFR\u001b[0m \u001b[0;34m=\u001b[0m \u001b[0mget_FR\u001b[0m\u001b[0;34m(\u001b[0m\u001b[0mdata1\u001b[0m\u001b[0;34m,\u001b[0m \u001b[0mdata2\u001b[0m\u001b[0;34m)\u001b[0m \u001b[0;31m#get the Frieman Rafsky statistic.\u001b[0m\u001b[0;34m\u001b[0m\u001b[0;34m\u001b[0m\u001b[0m\n\u001b[0m\u001b[1;32m     13\u001b[0m \u001b[0;34m\u001b[0m\u001b[0m\n\u001b[1;32m     14\u001b[0m     \u001b[0mDp\u001b[0m \u001b[0;34m=\u001b[0m \u001b[0;36m1\u001b[0m \u001b[0;34m-\u001b[0m \u001b[0mFR\u001b[0m \u001b[0;34m*\u001b[0m \u001b[0;34m(\u001b[0m\u001b[0mn0\u001b[0m \u001b[0;34m+\u001b[0m \u001b[0mn1\u001b[0m\u001b[0;34m)\u001b[0m\u001b[0;34m/\u001b[0m \u001b[0;34m(\u001b[0m\u001b[0;36m2\u001b[0m \u001b[0;34m*\u001b[0m \u001b[0mn0\u001b[0m \u001b[0;34m*\u001b[0m \u001b[0mn1\u001b[0m\u001b[0;34m)\u001b[0m\u001b[0;34m\u001b[0m\u001b[0;34m\u001b[0m\u001b[0m\n",
      "\u001b[0;31mNameError\u001b[0m: name 'get_FR' is not defined"
     ]
    }
   ],
   "source": [
    "\n",
    "bounds_l = []\n",
    "bounds_u = []\n",
    "\n",
    "\n",
    "inf_l = []\n",
    "inf_u = []\n",
    "\n",
    "\n",
    "MC_num = 200\n",
    "\n",
    "for i in range(MC_num):\n",
    "    # Generate random samples from the multivariate normal distributions\n",
    "    data1 = np.random.multivariate_normal(mean1, covariance1, n0)\n",
    "    data2 = np.random.multivariate_normal(mean2, covariance2, n1)\n",
    "\n",
    "    \n",
    "#     FR = __get_FR(data1, data2) #get the Frieman Rafsky statistic. \n",
    "#     Dp = 1 - FR * (n0 + n1)/ (2 * n0 * n1)\n",
    "#     Dp_lst.append(Dp)\n",
    "    a,b = get_bounds_dp(data1,data2)\n",
    "    bounds_l.append(a)\n",
    "    bounds_u.append(b)\n",
    "    \n",
    "\n",
    "    \n",
    "\n",
    "\n",
    "\n",
    "print(\"The Bounds\")\n",
    "\n",
    "\n",
    "\n",
    "\n",
    "lower = np.average(bounds_l)\n",
    "upper = np.average(bounds_u)\n",
    "print(lower)\n",
    "print(upper)\n",
    "\n",
    "infl = np.average(inf_l)\n",
    "infu = np.average(inf_u)\n",
    "print(infl)\n",
    "print(infu)"
   ]
  },
  {
   "cell_type": "code",
   "execution_count": null,
   "id": "37d8b6af",
   "metadata": {},
   "outputs": [],
   "source": [
    "print(min(bounds_l))\n",
    "print(max(bounds_l))\n",
    "\n",
    "\n",
    "print(min(bounds_u))\n",
    "print(max(bounds_u))"
   ]
  },
  {
   "cell_type": "code",
   "execution_count": null,
   "id": "645cbce2",
   "metadata": {},
   "outputs": [],
   "source": [
    "ub = stats.describe(bounds_u)"
   ]
  },
  {
   "cell_type": "code",
   "execution_count": null,
   "id": "b75e2195",
   "metadata": {},
   "outputs": [],
   "source": []
  },
  {
   "cell_type": "code",
   "execution_count": null,
   "id": "2c4732a7",
   "metadata": {},
   "outputs": [],
   "source": [
    "dx = 0.001\n",
    "x = np.arange(-5, 5 + dx, dx)\n",
    "\n",
    "f0 = np.exp(-0.5 * (x - 0)**2) / np.sqrt(2 * np.pi)\n",
    "f1 = np.exp(-0.5 * (x - 2.56)**2) / np.sqrt(2 * np.pi)\n",
    "\n",
    "fmin = np.minimum(f0, f1)\n",
    "\n",
    "BER = 0.5 * np.sum(fmin * dx)\n",
    "\n",
    "print(\"BER 2d:\", BER)"
   ]
  },
  {
   "cell_type": "code",
   "execution_count": null,
   "id": "02443c9c",
   "metadata": {},
   "outputs": [],
   "source": [
    "BER_lst = np.ones(MC_num) * BER\n",
    "\n",
    "\n",
    "mse_l = ((BER_lst - bounds_l)**2).mean(axis=0)\n",
    "\n",
    "mse_u =  ((BER_lst - bounds_u)**2).mean(axis=0)\n",
    "\n",
    "print(mse_l, mse_u)"
   ]
  },
  {
   "cell_type": "code",
   "execution_count": null,
   "id": "10c428cb",
   "metadata": {},
   "outputs": [],
   "source": []
  }
 ],
 "metadata": {
  "kernelspec": {
   "display_name": "Python 3 (ipykernel)",
   "language": "python",
   "name": "python3"
  },
  "language_info": {
   "codemirror_mode": {
    "name": "ipython",
    "version": 3
   },
   "file_extension": ".py",
   "mimetype": "text/x-python",
   "name": "python",
   "nbconvert_exporter": "python",
   "pygments_lexer": "ipython3",
   "version": "3.10.12"
  }
 },
 "nbformat": 4,
 "nbformat_minor": 5
}
