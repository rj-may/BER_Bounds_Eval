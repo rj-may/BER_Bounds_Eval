{
 "cells": [
  {
   "cell_type": "code",
   "execution_count": 1,
   "id": "09cad3b7",
   "metadata": {},
   "outputs": [
    {
     "name": "stderr",
     "output_type": "stream",
     "text": [
      "/usr/lib/python3/dist-packages/scipy/__init__.py:146: UserWarning: A NumPy version >=1.17.3 and <1.25.0 is required for this version of SciPy (detected version 1.26.3\n",
      "  warnings.warn(f\"A NumPy version >={np_minversion} and <{np_maxversion}\"\n"
     ]
    }
   ],
   "source": [
    "import numpy as np\n",
    "import pandas as pd\n",
    "import matplotlib.pyplot as plt\n",
    "# from mpl_toolkits.mplot3d import Axes3D\n",
    "# from scipy.spatial import distance\n",
    "# from scipy.sparse.csgraph import minimum_spanning_tree\n",
    "from scipy import stats\n",
    "import math\n",
    "\n",
    "from sklearn.neighbors import NearestNeighbors"
   ]
  },
  {
   "cell_type": "code",
   "execution_count": 2,
   "id": "9a944aa0",
   "metadata": {},
   "outputs": [],
   "source": [
    "from modules.dp_func import get_bounds_dp as get_bounds_dp\n",
    "\n",
    "from modules.tight_knn_func import get_tight_bounds_knn\n"
   ]
  },
  {
   "cell_type": "code",
   "execution_count": 3,
   "id": "d52b7eaf",
   "metadata": {},
   "outputs": [],
   "source": [
    "# Set the mean and covariance matrix for each Gaussian distribution\n",
    "\n",
    "\n",
    "mean1 = [0, 0, 0 , 0 , 0, 0, 0 , 0]\n",
    "# covariance1 = np.ones((3,3))\n",
    "covariance1 = np.identity(8)\n",
    "\n",
    "mean2 = [2.56, 0, 0 , 0, 0, 0,0, 0 ]\n",
    "\n",
    "# covariance2 = np.ones((3,3))\n",
    "covariance2= np.identity(8)\n",
    "\n",
    "#choose the number of samples per group. \n",
    "samples = 200\n",
    "\n",
    "n0 = samples\n",
    "n1 = samples\n",
    "\n",
    "# p, q = .5, .5"
   ]
  },
  {
   "cell_type": "markdown",
   "id": "99da0855",
   "metadata": {},
   "source": [
    "<!-- \\begin{align*}\n",
    "p_k(x)  =\\frac{k}{n} \\frac{1}{ \\frac{\\pi^{p/2}}{\\Gamma(p/2+1)}  \\|x-x_k \\|}.\n",
    "\\end{align*} -->\n",
    "\n",
    "\\begin{align*}\n",
    "p_k(x)  =\\frac{k}{n} \\frac{1}{ \\frac{\\pi^{p/2}}{\\Gamma(p/2+1)}  \\|x-x_k \\|^p}.\n",
    "\\end{align*}\n",
    "\n",
    "see here \n",
    "https://scikit-learn.org/stable/modules/neighbors.html#nei"
   ]
  },
  {
   "cell_type": "code",
   "execution_count": null,
   "id": "b681ead1",
   "metadata": {},
   "outputs": [],
   "source": []
  },
  {
   "cell_type": "code",
   "execution_count": 4,
   "id": "e4c83efc",
   "metadata": {},
   "outputs": [],
   "source": [
    "\n",
    "def knn_density_calc(distances_matrix, k, p, n): # p is the dimension \n",
    "    vec = np.zeros(len(distances_matrix))\n",
    "        \n",
    "    gam_p = math.gamma( p /2 + 1)\n",
    "    pi_power = (math.pi)**(p/ 2)\n",
    "    vol_mult = pi_power / gam_p\n",
    "\n",
    "    for i, dist_lst in enumerate(distances_matrix):\n",
    "        dist = dist_lst[k-1]\n",
    "        vol=  (dist**p) * vol_mult\n",
    "        vec[i] =  k /  ( n * vol  )\n",
    "    \n",
    "    return vec\n",
    "    "
   ]
  },
  {
   "cell_type": "markdown",
   "id": "fb8840e6",
   "metadata": {},
   "source": [
    "The cell below and the 2 below that work identically"
   ]
  },
  {
   "cell_type": "code",
   "execution_count": 5,
   "id": "3cfc5d5e",
   "metadata": {},
   "outputs": [],
   "source": [
    "# def kkn_density_bounds(density1, density2):\n",
    "#     a = 50\n",
    "#     gl_half = 1/a * np.log((1 + np.exp(-a)) / (np.exp(-a*1/2) + np.exp(-a*(1/2))))\n",
    "\n",
    "#     # fx calculation\n",
    "#     fx = 0.5 * (density1 + density2)  \n",
    "#     px = density1 / (density1 + density2)\n",
    "\n",
    "#     # integration\n",
    "#     glx = 1/a * np.log((1 + np.exp(-a)) / (np.exp(-a*px) + np.exp(-a*(1-px)))) * fx \n",
    "    \n",
    "#     gux = glx + (1 - 2 * gl_half) * 0.5 * np.sin(np.pi * px)* fx \n",
    "    \n",
    "#     return np.mean(glx), np.mean(gux), px\n"
   ]
  },
  {
   "cell_type": "code",
   "execution_count": 6,
   "id": "20502b29",
   "metadata": {},
   "outputs": [],
   "source": [
    "def g_L(p, alpha):\n",
    "    return 1/alpha * np.log(np.cosh(alpha/2) / np.cosh(alpha * (p - 1/2)))\n",
    "#     return 1/alpha * np.log((1 + np.exp(-alpha)) / (np.exp(-alpha * p) + np.exp(-alpha * (1 - p))))\n",
    "\n",
    "\n",
    "def g_C(p):\n",
    "    return ( 1/2 * np.sin( np.pi * p ) )\n",
    "\n",
    "def g_U(p, alpha,  g_L, g_C):\n",
    "    return g_L(p, alpha) + (1 - 2 * g_L(0.5, alpha)) * g_C(p)"
   ]
  },
  {
   "cell_type": "code",
   "execution_count": 7,
   "id": "aaca2c53",
   "metadata": {},
   "outputs": [],
   "source": [
    "\n",
    "def kkn_density_bounds(density1, density2):\n",
    "    # fx calculation\n",
    "    \n",
    "    fx = 0.5 * (density1 + density2)\n",
    "\n",
    "    px = density1 / (density1 + density2)\n",
    "    \n",
    "\n",
    "    alpha = 50\n",
    "    \n",
    "    glx = np.mean( g_L(px, alpha)    )\n",
    "    gux = np.mean( g_U(px, alpha, g_L, g_C)  )\n",
    "    \n",
    "    return glx, gux, px"
   ]
  },
  {
   "cell_type": "code",
   "execution_count": 8,
   "id": "de25f9c0",
   "metadata": {},
   "outputs": [],
   "source": [
    "\n",
    "bounds_l = []\n",
    "bounds_u = []\n",
    "\n",
    "knn_l = []\n",
    "knn_u = []\n",
    "\n",
    "MC_num = 200\n",
    "\n",
    "k = 10\n",
    "\n",
    "for i in range(MC_num):\n",
    "    # Generate random samples from the multivariate normal distributions\n",
    "    data1 = np.random.multivariate_normal(mean1, covariance1, n0)\n",
    "    data2 = np.random.multivariate_normal(mean2, covariance2, n1)\n",
    "\n",
    "\n",
    "    l, u = get_tight_bounds_knn(data1, data2)\n",
    "    \n",
    "    knn_l.append(l)\n",
    "    knn_u.append(u)\n",
    "    \n",
    "    \n",
    "    lower, upper = get_bounds_dp(data1, data2)\n",
    "\n",
    "    bounds_l.append(lower)\n",
    "    bounds_u.append(upper)\n",
    "    \n",
    "\n",
    "    \n"
   ]
  },
  {
   "cell_type": "code",
   "execution_count": 9,
   "id": "e0a9900f",
   "metadata": {},
   "outputs": [],
   "source": [
    "# fig = plt.figure(figsize=(10, 7))\n",
    "# ax = fig.add_subplot(111)\n",
    "\n",
    "# x_val = np.linspace(1, n0 +n1, n0+n1)\n",
    "# ax.plot(x_val,density1)\n",
    "\n",
    "# a = np.mean(density1[:n0])\n",
    "# b =  np.mean(density1[n0:])\n",
    "# print( a, b, (a - b)/a)"
   ]
  },
  {
   "cell_type": "code",
   "execution_count": 10,
   "id": "3e443bc3",
   "metadata": {},
   "outputs": [
    {
     "name": "stdout",
     "output_type": "stream",
     "text": [
      "DescribeResult(nobs=200, minmax=(0.11570189252367126, 0.19457942603366254), mean=0.1563159775733549, variance=0.00016418617274881943, skewness=-0.00990970456081027, kurtosis=0.23331414327703692) \n",
      "\n",
      "DescribeResult(nobs=200, minmax=(0.12013109622212471, 0.2017364989986315), mean=0.16216926879122626, variance=0.00017569244124778475, skewness=-0.011451768803776047, kurtosis=0.2341530148015436)\n"
     ]
    }
   ],
   "source": [
    "print(stats.describe(knn_l), \"\\n\")\n",
    "\n",
    "print(stats.describe(knn_u))"
   ]
  },
  {
   "cell_type": "code",
   "execution_count": 11,
   "id": "b75e2195",
   "metadata": {
    "scrolled": true
   },
   "outputs": [
    {
     "name": "stdout",
     "output_type": "stream",
     "text": [
      "DescribeResult(nobs=200, minmax=(0.06267860788660246, 0.14468323991120263), mean=0.09808769016336381, variance=0.00018617608219070672, skewness=0.1800403404337057, kurtosis=0.1745599711620387)\n",
      "DescribeResult(nobs=200, minmax=(0.1175, 0.2475), mean=0.1765625, variance=0.00047854506909547737, skewness=0.0720566463102384, kurtosis=0.06492360097246719)\n"
     ]
    }
   ],
   "source": [
    "print(stats.describe(bounds_l))\n",
    "print(stats.describe(bounds_u))"
   ]
  },
  {
   "cell_type": "code",
   "execution_count": 12,
   "id": "2c4732a7",
   "metadata": {},
   "outputs": [
    {
     "name": "stdout",
     "output_type": "stream",
     "text": [
      "BER 2d: 0.10027258671145799\n"
     ]
    }
   ],
   "source": [
    "dx = 0.001\n",
    "x = np.arange(-5, 10 + dx, dx)\n",
    "\n",
    "f0 = np.exp(-0.5 * (x - 0)**2) / np.sqrt(2 * np.pi)\n",
    "f1 = np.exp(-0.5 * (x - 2.56)**2) / np.sqrt(2 * np.pi)\n",
    "\n",
    "fmin = np.minimum(f0, f1)\n",
    "\n",
    "BER = 0.5 * np.sum(fmin * dx)\n",
    "\n",
    "print(\"BER 2d:\", BER)"
   ]
  },
  {
   "cell_type": "code",
   "execution_count": 13,
   "id": "02443c9c",
   "metadata": {},
   "outputs": [],
   "source": [
    "# BER_lst = np.ones(MC_num) * BER\n",
    "\n",
    "\n",
    "# mse_l = ((BER_lst - bounds_l)**2).mean(axis=0)\n",
    "\n",
    "# mse_u =  ((BER_lst - bounds_u)**2).mean(axis=0)\n",
    "\n",
    "# print(mse_l, mse_u)"
   ]
  },
  {
   "cell_type": "code",
   "execution_count": 14,
   "id": "a4a00527",
   "metadata": {},
   "outputs": [
    {
     "ename": "NameError",
     "evalue": "name 'px' is not defined",
     "output_type": "error",
     "traceback": [
      "\u001b[0;31m---------------------------------------------------------------------------\u001b[0m",
      "\u001b[0;31mNameError\u001b[0m                                 Traceback (most recent call last)",
      "\u001b[0;32m/tmp/ipykernel_9934/282550395.py\u001b[0m in \u001b[0;36m<module>\u001b[0;34m\u001b[0m\n\u001b[0;32m----> 1\u001b[0;31m \u001b[0msum\u001b[0m\u001b[0;34m(\u001b[0m\u001b[0mpx\u001b[0m\u001b[0;34m)\u001b[0m\u001b[0;34m\u001b[0m\u001b[0;34m\u001b[0m\u001b[0m\n\u001b[0m",
      "\u001b[0;31mNameError\u001b[0m: name 'px' is not defined"
     ]
    }
   ],
   "source": [
    "sum(px)"
   ]
  },
  {
   "cell_type": "code",
   "execution_count": null,
   "id": "10c428cb",
   "metadata": {
    "scrolled": true
   },
   "outputs": [],
   "source": [
    "fig = plt.figure(figsize=(7, 5))\n",
    "ax = fig.add_subplot(111)\n",
    "\n",
    "x_val = np.linspace(1, n0 +n1,n0+n1)\n",
    "ax.plot(x_val, px)\n",
    "\n",
    "plt.show()"
   ]
  }
 ],
 "metadata": {
  "kernelspec": {
   "display_name": "Python 3 (ipykernel)",
   "language": "python",
   "name": "python3"
  },
  "language_info": {
   "codemirror_mode": {
    "name": "ipython",
    "version": 3
   },
   "file_extension": ".py",
   "mimetype": "text/x-python",
   "name": "python",
   "nbconvert_exporter": "python",
   "pygments_lexer": "ipython3",
   "version": "3.10.12"
  }
 },
 "nbformat": 4,
 "nbformat_minor": 5
}
