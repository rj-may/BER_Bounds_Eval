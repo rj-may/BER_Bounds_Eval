{
 "cells": [
  {
   "cell_type": "code",
   "execution_count": 2,
   "id": "09cad3b7",
   "metadata": {},
   "outputs": [
    {
     "name": "stderr",
     "output_type": "stream",
     "text": [
      "/usr/lib/python3/dist-packages/scipy/__init__.py:146: UserWarning: A NumPy version >=1.17.3 and <1.25.0 is required for this version of SciPy (detected version 1.26.3\n",
      "  warnings.warn(f\"A NumPy version >={np_minversion} and <{np_maxversion}\"\n"
     ]
    }
   ],
   "source": [
    "import numpy as np\n",
    "import pandas as pd\n",
    "import matplotlib.pyplot as plt\n",
    "from mpl_toolkits.mplot3d import Axes3D\n",
    "from scipy.spatial import distance\n",
    "from scipy.sparse.csgraph import minimum_spanning_tree\n",
    "import math\n"
   ]
  },
  {
   "cell_type": "code",
   "execution_count": 3,
   "id": "9a944aa0",
   "metadata": {},
   "outputs": [],
   "source": [
    "from modules.dp_func import *\n",
    "\n"
   ]
  },
  {
   "cell_type": "code",
   "execution_count": 4,
   "id": "d52b7eaf",
   "metadata": {},
   "outputs": [],
   "source": [
    "# Set the mean and covariance matrix for each Gaussian distribution\n",
    "\n",
    "\n",
    "mean1 = [0, 0, 0 , 0 , 0, 0, 0 , 0]\n",
    "# covariance1 = np.ones((3,3))\n",
    "covariance1 = np.identity(8)\n",
    "# covariance1 = [[1, 0, 0],  [0, 1, 0], [0, 0, 0]\n",
    "\n",
    "mean2 = [2.56, 0, 0 , 0, 0, 0,0, 0 ]\n",
    "# mean2 = [math.sqrt(1/2), math.sqrt(1/2), 0]\n",
    "\n",
    "# covariance2 = np.ones((3,3))\n",
    "covariance2= np.identity(8)\n",
    "\n",
    "#choose the number of samples per group. \n",
    "samples = 200\n",
    "\n",
    "n0 = samples\n",
    "n1 = samples\n",
    "\n",
    "# p, q = .5, .5"
   ]
  },
  {
   "cell_type": "code",
   "execution_count": null,
   "id": "d0ff721a",
   "metadata": {},
   "outputs": [],
   "source": []
  },
  {
   "cell_type": "code",
   "execution_count": null,
   "id": "e4c83efc",
   "metadata": {},
   "outputs": [],
   "source": []
  },
  {
   "cell_type": "code",
   "execution_count": 5,
   "id": "de25f9c0",
   "metadata": {},
   "outputs": [
    {
     "name": "stdout",
     "output_type": "stream",
     "text": [
      "The Bounds\n",
      "0.0990919418310319\n",
      "0.17808500000000002\n"
     ]
    }
   ],
   "source": [
    "\n",
    "bounds_l = []\n",
    "bounds_u = []\n",
    "\n",
    "MC_num = 500\n",
    "\n",
    "for i in range(MC_num):\n",
    "    # Generate random samples from the multivariate normal distributions\n",
    "    data1 = np.random.multivariate_normal(mean1, covariance1, n0)\n",
    "    data2 = np.random.multivariate_normal(mean2, covariance2, n1)\n",
    "\n",
    "    \n",
    "    FR = get_FR(data1, data2) #get the Frieman Rafsky statistic. \n",
    "\n",
    "    Dp = 1 - FR * (n0 + n1)/ (2 * n0 * n1)\n",
    "    \n",
    "    Up = Dp # we have choosen p =q\n",
    "    if Up <= 0:\n",
    "        print(i, FR, Up)\n",
    "        analyze(data1, data2)\n",
    "        \n",
    "        \n",
    "    lower, upper = calc_bounds(Up)\n",
    "    \n",
    "#     print(\"1, \", 1/2 - 1/2 * math.sqrt(Dp)  , FR/ (n0+ n1))\n",
    "#     print(\"2, \", lower, upper)\n",
    "    \n",
    "    bounds_l.append(lower)\n",
    "    bounds_u.append(upper)\n",
    "    \n",
    "\n",
    "print(\"The Bounds\")\n",
    "\n",
    "lower = np.average(bounds_l)\n",
    "upper = np.average(bounds_u)\n",
    "print(lower)\n",
    "print(upper)"
   ]
  },
  {
   "cell_type": "code",
   "execution_count": 6,
   "id": "37d8b6af",
   "metadata": {},
   "outputs": [
    {
     "name": "stdout",
     "output_type": "stream",
     "text": [
      "0.06411010564593267\n",
      "0.15539878119774447\n",
      "0.12\n",
      "0.2625\n"
     ]
    }
   ],
   "source": [
    "print(min(bounds_l))\n",
    "print(max(bounds_l))\n",
    "\n",
    "\n",
    "print(min(bounds_u))\n",
    "print(max(bounds_u))"
   ]
  },
  {
   "cell_type": "code",
   "execution_count": 7,
   "id": "645cbce2",
   "metadata": {},
   "outputs": [],
   "source": [
    "ub = stats.describe(bounds_u)"
   ]
  },
  {
   "cell_type": "code",
   "execution_count": 8,
   "id": "b75e2195",
   "metadata": {},
   "outputs": [
    {
     "data": {
      "text/plain": [
       "DescribeResult(nobs=500, minmax=(0.12, 0.2625), mean=0.17808500000000002, variance=0.0005829361472945892, skewness=0.3676583925132904, kurtosis=0.04376503047446034)"
      ]
     },
     "execution_count": 8,
     "metadata": {},
     "output_type": "execute_result"
    }
   ],
   "source": []
  },
  {
   "cell_type": "code",
   "execution_count": 11,
   "id": "2c4732a7",
   "metadata": {},
   "outputs": [
    {
     "name": "stdout",
     "output_type": "stream",
     "text": [
      "BER 2d: 0.10027244449669406\n"
     ]
    }
   ],
   "source": [
    "dx = 0.001\n",
    "x = np.arange(-5, 5 + dx, dx)\n",
    "\n",
    "f0 = np.exp(-0.5 * (x - 0)**2) / np.sqrt(2 * np.pi)\n",
    "f1 = np.exp(-0.5 * (x - 2.56)**2) / np.sqrt(2 * np.pi)\n",
    "\n",
    "fmin = np.minimum(f0, f1)\n",
    "\n",
    "BER = 0.5 * np.sum(fmin * dx)\n",
    "\n",
    "print(\"BER 2d:\", BER)"
   ]
  },
  {
   "cell_type": "code",
   "execution_count": 12,
   "id": "02443c9c",
   "metadata": {},
   "outputs": [
    {
     "name": "stdout",
     "output_type": "stream",
     "text": [
      "0.0002316224817309382 0.006636564068955067\n"
     ]
    }
   ],
   "source": [
    "BER_lst = np.ones(MC_num) * BER\n",
    "\n",
    "\n",
    "mse_l = ((BER_lst - bounds_l)**2).mean(axis=0)\n",
    "\n",
    "mse_u =  ((BER_lst - bounds_u)**2).mean(axis=0)\n",
    "\n",
    "print(mse_l, mse_u)"
   ]
  },
  {
   "cell_type": "code",
   "execution_count": null,
   "id": "10c428cb",
   "metadata": {},
   "outputs": [],
   "source": []
  }
 ],
 "metadata": {
  "kernelspec": {
   "display_name": "Python 3 (ipykernel)",
   "language": "python",
   "name": "python3"
  },
  "language_info": {
   "codemirror_mode": {
    "name": "ipython",
    "version": 3
   },
   "file_extension": ".py",
   "mimetype": "text/x-python",
   "name": "python",
   "nbconvert_exporter": "python",
   "pygments_lexer": "ipython3",
   "version": "3.10.12"
  }
 },
 "nbformat": 4,
 "nbformat_minor": 5
}
