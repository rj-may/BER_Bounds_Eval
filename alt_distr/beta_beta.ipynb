{
 "cells": [
  {
   "cell_type": "code",
   "execution_count": 1,
   "id": "09cad3b7",
   "metadata": {},
   "outputs": [],
   "source": [
    "import numpy as np\n",
    "import pandas as pd\n",
    "import matplotlib.pyplot as plt\n",
    "\n",
    "import math\n",
    "import pickle\n",
    "import time\n",
    "\n"
   ]
  },
  {
   "cell_type": "markdown",
   "id": "0f0e714a",
   "metadata": {},
   "source": [
    "##### set parent directory"
   ]
  },
  {
   "cell_type": "code",
   "execution_count": 2,
   "id": "bcf27a8e",
   "metadata": {},
   "outputs": [
    {
     "name": "stdout",
     "output_type": "stream",
     "text": [
      "Current Directory: /mnt/c/users/rjmay/code/research_ms/alt_distr\n",
      "Updated Directory: /mnt/c/users/rjmay/code/research_ms\n"
     ]
    }
   ],
   "source": [
    "import os\n",
    "\n",
    "# Get the current working directory\n",
    "current_directory = os.getcwd()\n",
    "print(\"Current Directory:\", current_directory)\n",
    "\n",
    "# Move to the parent directory\n",
    "parent_directory = os.path.dirname(current_directory)\n",
    "os.chdir(parent_directory)\n",
    "\n",
    "# Print the updated working directory\n",
    "updated_directory = os.getcwd()\n",
    "print(\"Updated Directory:\", updated_directory)"
   ]
  },
  {
   "cell_type": "markdown",
   "id": "0fbc96fb",
   "metadata": {},
   "source": [
    "### Simulation stage"
   ]
  },
  {
   "cell_type": "code",
   "execution_count": 3,
   "id": "9a944aa0",
   "metadata": {},
   "outputs": [
    {
     "name": "stderr",
     "output_type": "stream",
     "text": [
      "/usr/lib/python3/dist-packages/scipy/__init__.py:146: UserWarning: A NumPy version >=1.17.3 and <1.25.0 is required for this version of SciPy (detected version 1.26.3\n",
      "  warnings.warn(f\"A NumPy version >={np_minversion} and <{np_maxversion}\"\n"
     ]
    }
   ],
   "source": [
    "from modules.multi_bounds_v3 import bounds_class\n",
    "from modules.Bhatt_knn_func import knn_num_calc\n",
    "from modules.data_gen import data_gen"
   ]
  },
  {
   "cell_type": "code",
   "execution_count": 4,
   "id": "fc351f5e",
   "metadata": {},
   "outputs": [],
   "source": [
    "PICKLED =True"
   ]
  },
  {
   "cell_type": "code",
   "execution_count": 7,
   "id": "e2ea56f4",
   "metadata": {},
   "outputs": [
    {
     "name": "stdout",
     "output_type": "stream",
     "text": [
      "Loaded object successfully\n"
     ]
    }
   ],
   "source": [
    "file_path = 'sim_data/beta_beta.pkl' # DONT FORGET TO CHANGE ME IF YOU COPY AND PASTE\n",
    "\n",
    "\n",
    "# if PICKLED  == False:\n",
    "    \n",
    "#     objects_to_save = bound_obj_lst\n",
    "\n",
    "\n",
    "#     with open(file_path, 'wb') as file:\n",
    "#         # Use pickle.dump to serialize and write the list of objects to the file\n",
    "#         pickle.dump(objects_to_save, file)\n",
    "#     print(f'Objects saved to {file_path}')\n",
    "    \n",
    "\n",
    "if PICKLED == True:\n",
    "    \n",
    "\n",
    "    # Open the file in binary read mode\n",
    "    with open(file_path, 'rb') as file:\n",
    "        # Use pickle.load to deserialize and load the list of objects from the file\n",
    "        loaded_objects = pickle.load(file)\n",
    "\n",
    "    print('Loaded object successfully')\n",
    "    \n",
    "    bound_obj_lst = loaded_objects"
   ]
  },
  {
   "cell_type": "markdown",
   "id": "45e978a3",
   "metadata": {},
   "source": [
    "### Using the data\n",
    "\n",
    "may or not be pickled. "
   ]
  },
  {
   "cell_type": "code",
   "execution_count": 8,
   "id": "118b827e",
   "metadata": {},
   "outputs": [],
   "source": [
    "dp_l = []\n",
    "dp_u = []\n",
    "\n",
    "Bha_u =[]\n",
    "Bha_l =[]\n",
    "\n",
    "Bha_knn_u = []\n",
    "Bha_knn_l = []\n",
    "\n",
    "inf_l = []\n",
    "inf_u = []\n",
    "\n",
    "enDive_l = []\n",
    "enDive_u = []\n",
    "\n",
    "\n",
    "for obj in bound_obj_lst:\n",
    "    a,b = obj.get_bounds_dp()\n",
    "    dp_l.append(a)\n",
    "    dp_u.append(b)\n",
    "    \n",
    "    a,b = obj.get_bounds_Bha()\n",
    "    Bha_l.append(a)\n",
    "    Bha_u.append(b)\n",
    "\n",
    "    \n",
    "#     a, b = obj.get_bounds_tight()\n",
    "#     tight_l.append(a)\n",
    "#     tight_u.append(b)\n",
    "    \n",
    "    a, b= obj.get_bounds_Bha_knn()\n",
    "    Bha_knn_l.append(a)\n",
    "    Bha_knn_u.append(b)\n",
    "    \n",
    "    a,b = obj.get_inf_bounds()\n",
    "    inf_l.append(a)\n",
    "    inf_u.append(b)\n",
    "    \n",
    "    a,b = obj.get_Bounds_enDive()\n",
    "    enDive_l.append(a)\n",
    "    enDive_u.append(b)\n",
    "    \n",
    "    "
   ]
  },
  {
   "cell_type": "markdown",
   "id": "43101d18",
   "metadata": {},
   "source": [
    "Calculate true values"
   ]
  },
  {
   "cell_type": "code",
   "execution_count": 3,
   "id": "ef50ebb2",
   "metadata": {},
   "outputs": [
    {
     "name": "stderr",
     "output_type": "stream",
     "text": [
      "/tmp/ipykernel_40653/21527459.py:26: RuntimeWarning: invalid value encountered in divide\n",
      "  func = (pf0 - qf1)**2 / (pf0 + qf1)\n"
     ]
    }
   ],
   "source": [
    "import numpy as np\n",
    "import matplotlib.pyplot as plt\n",
    "from scipy.stats import norm\n",
    "from scipy.stats import beta\n",
    "#### I have to code the true values and theoreticals. \n",
    "\n",
    "# Define dx and x range\n",
    "dx = 0.001\n",
    "x = np.arange(-10, 10 + dx, dx)\n",
    "\n",
    "# Define the normal distributions\n",
    "f0 = beta.pdf(x, a=2, b=5)\n",
    "f1 = beta.pdf(x, a=5, b=2)\n",
    "\n",
    "# Calculate the minimum of f0 and f1\n",
    "min_f0_f1 = np.minimum(f0, f1)\n",
    "# Calculate BER as 0.5 * sum(min(f0, f1) * dx)\n",
    "BER = 0.5 * np.sum(min_f0_f1 * dx)\n",
    "\n",
    "p = 0.5\n",
    "q = 0.5\n",
    "pf0 = p * f0\n",
    "qf1 = q * f1\n",
    "\n",
    "# Calculate the function\n",
    "func = (pf0 - qf1)**2 / (pf0 + qf1)\n",
    "\n",
    "# Calculate dp using numerical integration (sum and dx)\n",
    "dp = np.sum(func) * dx\n",
    "\n",
    "# Calculate upper and lower bounds\n",
    "upper = 0.5 - 0.5 * dp\n",
    "lower = 0.5 - 0.5 * np.sqrt(dp)\n",
    "\n",
    "theory_Dp = [lower, upper]\n",
    "\n",
    "func2 = np.sqrt(f0 * f1)\n",
    "# Calculate BC using numerical integration (sum and dx)\n",
    "BC = np.sum(func2) * dx\n",
    "\n",
    "lower = 0.5 - 0.5 * np.sqrt(1 - BC**2)\n",
    "upper = 0.5 * BC\n",
    "\n",
    "theory_bha = [lower, upper]\n"
   ]
  },
  {
   "cell_type": "code",
   "execution_count": 4,
   "id": "a32b39df",
   "metadata": {},
   "outputs": [
    {
     "data": {
      "text/plain": [
       "0.10937546875016925"
      ]
     },
     "execution_count": 4,
     "metadata": {},
     "output_type": "execute_result"
    }
   ],
   "source": [
    "BER"
   ]
  },
  {
   "cell_type": "markdown",
   "id": "5bbdc675",
   "metadata": {},
   "source": [
    "True value is     0.1094\n"
   ]
  },
  {
   "cell_type": "code",
   "execution_count": null,
   "id": "457818fd",
   "metadata": {},
   "outputs": [],
   "source": [
    "### this cell helps to fix bugs from not doing the data in here. \n",
    "MC_num = len(bound_obj_lst[0])\n",
    "\n",
    "BER_lst = np.ones(MC_num) * BER\n",
    "\n",
    "sample_sizes = np.logspace(2, 3.3011, 9 , endpoint = True, dtype = int)\n",
    "\n",
    "\n",
    "def mse(l1, l2):## numpy lists\n",
    "    return ((l1 - l2)**2).mean(axis=0)"
   ]
  },
  {
   "cell_type": "code",
   "execution_count": null,
   "id": "409c30ee",
   "metadata": {},
   "outputs": [],
   "source": [
    "# cases = len(sample_sizes)\n",
    "\n",
    "## theoretical MSE\n",
    "bha_theoretical_l= np.ones(MC_num) * (theory_bha[0])\n",
    "bha_theoretical_u= np.ones(MC_num) * (theory_bha[1])\n",
    "\n",
    "\n",
    "dp_theoretical_l= np.ones(MC_num) * theory_Dp[0]\n",
    "dp_theoretical_u= np.ones(MC_num) * theory_Dp[1]\n"
   ]
  },
  {
   "cell_type": "code",
   "execution_count": null,
   "id": "e283adfc",
   "metadata": {},
   "outputs": [],
   "source": [
    "lower_mse_DP = []\n",
    "upper_mse_DP =[]\n",
    "\n",
    "lower_mse_Bha = []\n",
    "upper_mse_Bha =[]\n",
    "\n",
    "\n",
    "lower_mse_Bha_knn = []\n",
    "upper_mse_Bha_knn =[]\n",
    "\n",
    "lower_mse_inf = []\n",
    "upper_mse_inf = []\n",
    "\n",
    "lower_mse_enDive = []\n",
    "upper_mse_enDive = []\n",
    "\n",
    "# lower_MSE_tight =[]\n",
    "# upper_MSE_tight= []\n",
    "\n",
    "\n",
    "for i in range(len(bound_obj_lst)):\n",
    "    l_mse = mse(dp_theoretical_l, dp_l[i]) \n",
    "    lower_mse_DP.append(l_mse)\n",
    "    \n",
    "    u_mse = mse(dp_theoretical_u, dp_u[i]) \n",
    "    upper_mse_DP.append(u_mse)       \n",
    "    \n",
    "    l_mse = mse(dp_theoretical_l, enDive_l[i]) \n",
    "    lower_mse_enDive.append(l_mse)\n",
    "    \n",
    "    u_mse = mse(dp_theoretical_u, enDive_u[i]) \n",
    "    upper_mse_enDive.append(u_mse)\n",
    "\n",
    "    \n",
    "    l_mse = mse(bha_theoretical_l, Bha_l[i]) \n",
    "    lower_mse_Bha.append(l_mse)\n",
    "    \n",
    "    u_mse = mse(bha_theoretical_u, Bha_u[i])\n",
    "    upper_mse_Bha.append(u_mse) \n",
    "    \n",
    "    l_mse = mse(bha_theoretical_l, Bha_knn_l[i]) \n",
    "    lower_mse_Bha_knn.append(l_mse)\n",
    "    \n",
    "    u_mse = mse(bha_theoretical_u, Bha_knn_u[i])\n",
    "    upper_mse_Bha_knn.append(u_mse) \n",
    "    \n",
    "    l_mse = mse(bha_theoretical_l, inf_l[i]) \n",
    "    lower_mse_inf.append(l_mse)\n",
    "    \n",
    "    u_mse = mse(bha_theoretical_u, inf_u[i])\n",
    "    upper_mse_inf.append(u_mse) \n",
    "    \n",
    "#     l_mse =mse(BER_lst, tight_l[i])\n",
    "#     lower_MSE_tight.append(l_mse)\n",
    "    \n",
    "#     u_mse =mse(BER_lst, tight_u[i])\n",
    "#     lower_MSE_tight.append(u_mse)"
   ]
  },
  {
   "cell_type": "markdown",
   "id": "c8fe6958",
   "metadata": {},
   "source": [
    "### Plotting"
   ]
  },
  {
   "cell_type": "code",
   "execution_count": null,
   "id": "ce7f37c1",
   "metadata": {},
   "outputs": [],
   "source": [
    "fs =17\n",
    "\n",
    "fig, axes = plt.subplots(nrows=1, ncols=2, figsize=(14, 6))\n",
    "st = fig.suptitle(\"Mean Squared Difference Between Calculated and Theoretical Value\", fontsize=fs+4)\n",
    "ax = axes[0]\n",
    "\n",
    "\n",
    "ax.set_xscale('log', base=10)\n",
    "ax.set_yscale('log', base=10)\n",
    "\n",
    "ax.plot(sample_sizes, lower_mse_Bha,'r:', label='Bha lower')\n",
    "ax.scatter(sample_sizes, lower_mse_Bha, color = 'red', marker = 'd')\n",
    "\n",
    "ax.plot(sample_sizes, lower_mse_Bha_knn, color = 'g',linestyle=\":\",  label = \"Bha knn lower\")\n",
    "ax.scatter(sample_sizes, lower_mse_Bha_knn, color = 'g', marker = 'd')\n",
    "\n",
    "\n",
    "ax.plot(sample_sizes, lower_mse_DP,  'b:', label='Dp lower')\n",
    "ax.scatter(sample_sizes, lower_mse_DP,  color='b', marker='d')\n",
    "\n",
    "ax.plot(sample_sizes, lower_mse_inf,  'c:', label='Influence lower')\n",
    "ax.scatter(sample_sizes, lower_mse_inf,  color='c', marker='d')\n",
    "\n",
    "ax.plot(sample_sizes, lower_mse_enDive,  'm:', label='enDive lower')\n",
    "ax.scatter(sample_sizes, lower_mse_enDive,  color='m', marker='d')\n",
    "\n",
    "ax.set_xlabel(\"Sample Size (Log Scale)  \", fontsize = fs)\n",
    "ax.set_ylabel(\"MS Difference (Log Scale) \", fontsize=fs)\n",
    "# ax.set_title(\"MSE Between  and Theoretical Value\", fontsize = fs +4)\n",
    "\n",
    "\n",
    "\n",
    "ax.legend()\n",
    "\n",
    "ax = axes[1]\n",
    "\n",
    "ax.set_xscale('log', base=10)\n",
    "ax.set_yscale('log', base=10)\n",
    "\n",
    "ax.plot(sample_sizes, upper_mse_Bha,'r-', label='Bha upper')\n",
    "ax.scatter(sample_sizes, upper_mse_Bha, color = 'red', marker = 'd')\n",
    "\n",
    "\n",
    "ax.plot(sample_sizes, upper_mse_Bha_knn, color = 'g',  label = \"Bha knn upper\")\n",
    "ax.scatter(sample_sizes, upper_mse_Bha_knn, color = 'g', marker = 'd')\n",
    "\n",
    "\n",
    "ax.plot(sample_sizes, upper_mse_DP,  'b-', label='Dp upper')\n",
    "ax.scatter(sample_sizes, upper_mse_DP,  color='b', marker='d')\n",
    "\n",
    "ax.plot(sample_sizes, upper_mse_inf,  'c-', label='Influence upper')\n",
    "ax.scatter(sample_sizes, upper_mse_inf,  color='c', marker='d')\n",
    "\n",
    "ax.plot(sample_sizes, upper_mse_enDive,  'm-', label='enDive upper')\n",
    "ax.scatter(sample_sizes, upper_mse_enDive,  color='m', marker='d')\n",
    "\n",
    "ax.set_xlabel(\"Sample Size\", fontsize = fs)\n",
    "ax.set_ylabel(\"MS Difference\", fontsize=fs)\n",
    "# ax.set_title(\"Mean Squared Difference Between and Theoretical Value\", fontsize = fs +4)\n",
    "\n",
    "ax.legend()\n",
    "\n",
    "# plt.savefig(\"log_test.png\",facecolor=(1,1,1,1))\n",
    "ax.set_xticks(sample_sizes)\n",
    "plt.show()\n"
   ]
  },
  {
   "cell_type": "markdown",
   "id": "67c5c1d4",
   "metadata": {},
   "source": [
    "Bhattacharyya, Bha Knn, influence same theoretically\n",
    "\n",
    "Dp, enDive"
   ]
  },
  {
   "cell_type": "code",
   "execution_count": null,
   "id": "62105efc",
   "metadata": {},
   "outputs": [],
   "source": [
    "BER"
   ]
  },
  {
   "cell_type": "code",
   "execution_count": null,
   "id": "2d75d3f6",
   "metadata": {},
   "outputs": [],
   "source": [
    "lst = [obj.validity(BER) for obj in bound_obj_lst ]\n",
    "\n",
    "df_valid = pd.DataFrame(lst, index = sample_sizes)\n",
    "\n",
    "df_valid\n"
   ]
  },
  {
   "cell_type": "code",
   "execution_count": null,
   "id": "fbc6c0af",
   "metadata": {},
   "outputs": [],
   "source": [
    "fs =17\n",
    "\n",
    "fig, axes = plt.subplots(nrows=1, ncols=2, figsize=(14, 6))\n",
    "\n",
    "ax = axes[0]\n",
    "\n",
    "ax.set_xscale('log', base=10)\n",
    "# ax.set_yscale('log', base=10)\n",
    "\n",
    "ax.plot(df_valid[\"Dp_lower\"], 'b',  label='Dp  ')\n",
    "# ax.plot(sample_sizes, validity_dp_u/ MC_num, 'r', label='Upper Dp Validity ')\n",
    "\n",
    "ax.plot(df_valid[\"Bha_lower\"],'g', label='Bha  ')\n",
    "# ax.plot(sample_sizes, validity_Bha_u/ MC_num, 'orange', label='Upper Bha Validity ')\n",
    "\n",
    "ax.plot(df_valid[\"Bha_knn_lower\"],'r', label='Bha K-nn  ')\n",
    "# ax.plot(sample_sizes, validity_Bha_u/ MC_num, 'orange', label='Upper Bha Validity ')\n",
    "\n",
    "ax.plot(df_valid[\"inf_lower\"],'orange', label='Influence')\n",
    "\n",
    "ax.plot(df_valid[\"enDive_lower\"],'m', label='enDive')\n",
    "\n",
    "\n",
    "# ax.plot(df_valid[\"tight_lower\"],'orange', label='Tight  ')\n",
    "\n",
    "\n",
    "# ax.plot(sample_sizes, validity_tight_u/ MC_num,  label='Upper Tight Validity ')\n",
    "# ax.set_xticks(sample_sizes)\n",
    "\n",
    "ax.set_xlabel(\"Sample Size (Log Scale)  \", fontsize = fs)\n",
    "ax.set_ylabel(\"Proportion Valid \", fontsize=fs)\n",
    "ax.set_title(\"Lower Bound Validity Proportions\" , fontsize = fs +4)\n",
    "ax.legend()\n",
    "\n",
    "\n",
    "ax = axes[1]\n",
    "\n",
    "\n",
    "ax.set_xscale('log', base=10)\n",
    "# ax.set_yscale('log', base=10)\n",
    "\n",
    "ax.plot(df_valid[\"Dp_upper\"], 'b',  label='Dp  ')\n",
    "\n",
    "ax.plot(df_valid[\"Bha_upper\"],'g', label='Bha  ')\n",
    "\n",
    "ax.plot(df_valid[\"Bha_knn_upper\"],'r', label='Bha K-nn ')\n",
    "\n",
    "# ax.plot(df_valid[\"Maha_upper\"],'black', label='Maha ')\n",
    "ax.plot(df_valid[\"inf_upper\"],'orange', label='Influence')\n",
    "\n",
    "ax.plot(df_valid[\"enDive_upper\"],'m', label='enDive')\n",
    "\n",
    "\n",
    "# ax.plot(df_valid[\"tight_upper\"],'orange', label='Tight  ')\n",
    "# ax.set_xticks(sample_sizes)\n",
    "ax.set_xlabel(\"Sample Size (Log Scale)  \", fontsize = fs)\n",
    "ax.set_ylabel(\"Proportion Valid \", fontsize=fs)\n",
    "ax.set_title(\"Upper Bound Validity Proportions\" , fontsize = fs +4)\n",
    "ax.legend()\n",
    "\n",
    "# plt.savefig(\"proportions_n.png\",facecolor=(1,1,1,1))\n",
    "plt.show()"
   ]
  }
 ],
 "metadata": {
  "kernelspec": {
   "display_name": "Python 3 (ipykernel)",
   "language": "python",
   "name": "python3"
  },
  "language_info": {
   "codemirror_mode": {
    "name": "ipython",
    "version": 3
   },
   "file_extension": ".py",
   "mimetype": "text/x-python",
   "name": "python",
   "nbconvert_exporter": "python",
   "pygments_lexer": "ipython3",
   "version": "3.10.12"
  }
 },
 "nbformat": 4,
 "nbformat_minor": 5
}
