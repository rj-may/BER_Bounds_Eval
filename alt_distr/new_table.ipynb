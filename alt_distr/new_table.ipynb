{
 "cells": [
  {
   "cell_type": "code",
   "execution_count": 1,
   "metadata": {},
   "outputs": [
    {
     "name": "stdout",
     "output_type": "stream",
     "text": [
      "Current Directory: /mnt/c/users/rjmay/code/research_ms/alt_distr\n",
      "Updated Directory: /mnt/c/users/rjmay/code/research_ms\n"
     ]
    }
   ],
   "source": [
    "import os\n",
    "\n",
    "# Get the current working directory\n",
    "current_directory = os.getcwd()\n",
    "print(\"Current Directory:\", current_directory)\n",
    "\n",
    "# Move to the parent directory\n",
    "parent_directory = os.path.dirname(current_directory)\n",
    "os.chdir(parent_directory)\n",
    "\n",
    "# Print the updated working directory\n",
    "updated_directory = os.getcwd()\n",
    "print(\"Updated Directory:\", updated_directory)"
   ]
  },
  {
   "cell_type": "code",
   "execution_count": 2,
   "metadata": {},
   "outputs": [],
   "source": [
    "# ! source \"../venv/bin/activate\""
   ]
  },
  {
   "cell_type": "code",
   "execution_count": 3,
   "metadata": {},
   "outputs": [],
   "source": [
    "import numpy as np\n",
    "import pandas as pd\n",
    "import matplotlib.pyplot as plt\n",
    "\n",
    "import math\n",
    "import pickle\n",
    "import time\n",
    "\n"
   ]
  },
  {
   "cell_type": "markdown",
   "metadata": {},
   "source": [
    "The best "
   ]
  },
  {
   "cell_type": "code",
   "execution_count": 4,
   "metadata": {},
   "outputs": [],
   "source": [
    "PICKLED =True\n",
    "\n",
    "dim_str  = \"15\""
   ]
  },
  {
   "cell_type": "code",
   "execution_count": 5,
   "metadata": {},
   "outputs": [
    {
     "name": "stdout",
     "output_type": "stream",
     "text": [
      "Loaded object successfully\n"
     ]
    }
   ],
   "source": [
    "file_path = 'sim_data/table_data' + dim_str+'.pkl' # DONT FORGET TO CHANGE ME IF YOU COPY AND PASTE\n",
    "\n",
    "    \n",
    "\n",
    "if PICKLED == True:\n",
    "\n",
    "\n",
    "    # Open the file in binary read mode\n",
    "    with open(file_path, 'rb') as file:\n",
    "        # Use pickle.load to deserialize and load the list of objects from the file\n",
    "        loaded_objects = pickle.load(file)\n",
    "\n",
    "    print('Loaded object successfully')\n",
    "    \n",
    "    dict_data = loaded_objects"
   ]
  },
  {
   "cell_type": "markdown",
   "metadata": {},
   "source": [
    "Setting things up "
   ]
  },
  {
   "cell_type": "code",
   "execution_count": 6,
   "metadata": {},
   "outputs": [
    {
     "name": "stdout",
     "output_type": "stream",
     "text": [
      "the third and 4th are backwards this is being corrected  in the following code \n"
     ]
    },
    {
     "data": {
      "text/plain": [
       "{'bound_objects': [[<modules.multi_bounds_parfor.bounds_class at 0x7f7a781143a0>,\n",
       "   <modules.multi_bounds_parfor.bounds_class at 0x7f7a4ffe54e0>,\n",
       "   <modules.multi_bounds_parfor.bounds_class at 0x7f7a4fe6abf0>,\n",
       "   <modules.multi_bounds_parfor.bounds_class at 0x7f7a4fd23fd0>],\n",
       "  [<modules.multi_bounds_parfor.bounds_class at 0x7f7a4fbe93f0>,\n",
       "   <modules.multi_bounds_parfor.bounds_class at 0x7f7a4fc9e6e0>,\n",
       "   <modules.multi_bounds_parfor.bounds_class at 0x7f7a4fb579d0>,\n",
       "   <modules.multi_bounds_parfor.bounds_class at 0x7f7a4fa14d00>]],\n",
       " 'sample_sizes': [100, 2000],\n",
       " 'dimension': 15}"
      ]
     },
     "execution_count": 6,
     "metadata": {},
     "output_type": "execute_result"
    }
   ],
   "source": [
    "names = [\"Gaussian mixture\", \"paired uniforms\",\"normal beta\",  \"uniform normal \"]\n",
    "\n",
    "print(\"the third and 4th are backwards this is being corrected  in the following code \")\n",
    "dict_data"
   ]
  },
  {
   "cell_type": "code",
   "execution_count": 7,
   "metadata": {},
   "outputs": [],
   "source": [
    "swap2 = 2\n",
    "swap3 = 3\n",
    "\n",
    "data_200= dict_data['bound_objects'][0]\n",
    "\n",
    "data_4000= dict_data['bound_objects'][1]\n",
    "\n",
    "data_200[swap3], data_200[swap2] =data_200[swap2] ,  data_200[swap3]\n",
    "\n",
    "data_4000[swap3], data_4000[swap2] =data_4000[swap2] ,  data_4000[swap3]"
   ]
  },
  {
   "cell_type": "code",
   "execution_count": 8,
   "metadata": {},
   "outputs": [],
   "source": [
    "BERS = [0.13868461929442688, 0.100, 0.0726617598018901, 0.15350691875939732]"
   ]
  },
  {
   "cell_type": "code",
   "execution_count": 9,
   "metadata": {},
   "outputs": [
    {
     "data": {
      "text/plain": [
       "'Gaussian mixture_200'"
      ]
     },
     "execution_count": 9,
     "metadata": {},
     "output_type": "execute_result"
    }
   ],
   "source": [
    "names[0] +\"_200\""
   ]
  },
  {
   "cell_type": "code",
   "execution_count": null,
   "metadata": {},
   "outputs": [],
   "source": []
  },
  {
   "cell_type": "code",
   "execution_count": 10,
   "metadata": {},
   "outputs": [],
   "source": [
    "\n",
    "df_data = []\n",
    "for j in range(len(data_200)):\n",
    "    temp = data_200[j].mse_bounds(BERS[j])\n",
    "    df_data.append(temp)\n",
    "\n",
    "\n",
    "df_200 = pd.DataFrame(df_data, index = [n + \" 200\" for n in names ])\n",
    "\n",
    "\n",
    "df_data = []\n",
    "for j in range(len(data_200)):\n",
    "    temp = data_200[j].mse_bounds(BERS[j])\n",
    "    df_data.append(temp)\n",
    "\n",
    "\n",
    "df_4000 = pd.DataFrame(df_data, index = [n + \" 4000\" for n in names])\n",
    "\n",
    "\n"
   ]
  },
  {
   "cell_type": "code",
   "execution_count": 15,
   "metadata": {},
   "outputs": [
    {
     "data": {
      "text/html": [
       "<div>\n",
       "<style scoped>\n",
       "    .dataframe tbody tr th:only-of-type {\n",
       "        vertical-align: middle;\n",
       "    }\n",
       "\n",
       "    .dataframe tbody tr th {\n",
       "        vertical-align: top;\n",
       "    }\n",
       "\n",
       "    .dataframe thead th {\n",
       "        text-align: right;\n",
       "    }\n",
       "</style>\n",
       "<table border=\"1\" class=\"dataframe\">\n",
       "  <thead>\n",
       "    <tr style=\"text-align: right;\">\n",
       "      <th></th>\n",
       "      <th>Bha_lower</th>\n",
       "      <th>Bha_upper</th>\n",
       "      <th>Bha_knn_lower</th>\n",
       "      <th>Bha_knn_upper</th>\n",
       "      <th>inf_lower</th>\n",
       "      <th>inf_upper</th>\n",
       "      <th>Dp_lower</th>\n",
       "      <th>Dp_upper</th>\n",
       "      <th>enDive_lower</th>\n",
       "      <th>enDive_upper</th>\n",
       "      <th>tight_lower</th>\n",
       "      <th>tight_upper</th>\n",
       "    </tr>\n",
       "  </thead>\n",
       "  <tbody>\n",
       "    <tr>\n",
       "      <th>Gaussian mixture 200</th>\n",
       "      <td>0.076</td>\n",
       "      <td>0.119</td>\n",
       "      <td>0.015</td>\n",
       "      <td>0.003</td>\n",
       "      <td>0.019</td>\n",
       "      <td>0.019</td>\n",
       "      <td>0.003</td>\n",
       "      <td>0.027</td>\n",
       "      <td>0.070</td>\n",
       "      <td>0.072</td>\n",
       "      <td>0.011</td>\n",
       "      <td>0.011</td>\n",
       "    </tr>\n",
       "    <tr>\n",
       "      <th>paired uniforms 200</th>\n",
       "      <td>0.002</td>\n",
       "      <td>0.016</td>\n",
       "      <td>0.008</td>\n",
       "      <td>0.002</td>\n",
       "      <td>0.010</td>\n",
       "      <td>0.009</td>\n",
       "      <td>0.015</td>\n",
       "      <td>0.058</td>\n",
       "      <td>0.058</td>\n",
       "      <td>0.064</td>\n",
       "      <td>0.005</td>\n",
       "      <td>0.005</td>\n",
       "    </tr>\n",
       "    <tr>\n",
       "      <th>normal beta 200</th>\n",
       "      <td>0.000</td>\n",
       "      <td>0.025</td>\n",
       "      <td>0.003</td>\n",
       "      <td>0.005</td>\n",
       "      <td>0.005</td>\n",
       "      <td>0.004</td>\n",
       "      <td>0.035</td>\n",
       "      <td>0.095</td>\n",
       "      <td>0.078</td>\n",
       "      <td>0.086</td>\n",
       "      <td>0.002</td>\n",
       "      <td>0.002</td>\n",
       "    </tr>\n",
       "    <tr>\n",
       "      <th>uniform normal  200</th>\n",
       "      <td>0.001</td>\n",
       "      <td>0.042</td>\n",
       "      <td>0.021</td>\n",
       "      <td>0.006</td>\n",
       "      <td>0.024</td>\n",
       "      <td>0.022</td>\n",
       "      <td>0.001</td>\n",
       "      <td>0.015</td>\n",
       "      <td>0.053</td>\n",
       "      <td>0.057</td>\n",
       "      <td>0.017</td>\n",
       "      <td>0.016</td>\n",
       "    </tr>\n",
       "    <tr>\n",
       "      <th>Gaussian mixture 4000</th>\n",
       "      <td>0.076</td>\n",
       "      <td>0.119</td>\n",
       "      <td>0.015</td>\n",
       "      <td>0.003</td>\n",
       "      <td>0.019</td>\n",
       "      <td>0.019</td>\n",
       "      <td>0.003</td>\n",
       "      <td>0.027</td>\n",
       "      <td>0.070</td>\n",
       "      <td>0.072</td>\n",
       "      <td>0.011</td>\n",
       "      <td>0.011</td>\n",
       "    </tr>\n",
       "    <tr>\n",
       "      <th>paired uniforms 4000</th>\n",
       "      <td>0.002</td>\n",
       "      <td>0.016</td>\n",
       "      <td>0.008</td>\n",
       "      <td>0.002</td>\n",
       "      <td>0.010</td>\n",
       "      <td>0.009</td>\n",
       "      <td>0.015</td>\n",
       "      <td>0.058</td>\n",
       "      <td>0.058</td>\n",
       "      <td>0.064</td>\n",
       "      <td>0.005</td>\n",
       "      <td>0.005</td>\n",
       "    </tr>\n",
       "    <tr>\n",
       "      <th>normal beta 4000</th>\n",
       "      <td>0.000</td>\n",
       "      <td>0.025</td>\n",
       "      <td>0.003</td>\n",
       "      <td>0.005</td>\n",
       "      <td>0.005</td>\n",
       "      <td>0.004</td>\n",
       "      <td>0.035</td>\n",
       "      <td>0.095</td>\n",
       "      <td>0.078</td>\n",
       "      <td>0.086</td>\n",
       "      <td>0.002</td>\n",
       "      <td>0.002</td>\n",
       "    </tr>\n",
       "    <tr>\n",
       "      <th>uniform normal  4000</th>\n",
       "      <td>0.001</td>\n",
       "      <td>0.042</td>\n",
       "      <td>0.021</td>\n",
       "      <td>0.006</td>\n",
       "      <td>0.024</td>\n",
       "      <td>0.022</td>\n",
       "      <td>0.001</td>\n",
       "      <td>0.015</td>\n",
       "      <td>0.053</td>\n",
       "      <td>0.057</td>\n",
       "      <td>0.017</td>\n",
       "      <td>0.016</td>\n",
       "    </tr>\n",
       "  </tbody>\n",
       "</table>\n",
       "</div>"
      ],
      "text/plain": [
       "                       Bha_lower  Bha_upper  Bha_knn_lower  Bha_knn_upper  \\\n",
       "Gaussian mixture 200       0.076      0.119          0.015          0.003   \n",
       "paired uniforms 200        0.002      0.016          0.008          0.002   \n",
       "normal beta 200            0.000      0.025          0.003          0.005   \n",
       "uniform normal  200        0.001      0.042          0.021          0.006   \n",
       "Gaussian mixture 4000      0.076      0.119          0.015          0.003   \n",
       "paired uniforms 4000       0.002      0.016          0.008          0.002   \n",
       "normal beta 4000           0.000      0.025          0.003          0.005   \n",
       "uniform normal  4000       0.001      0.042          0.021          0.006   \n",
       "\n",
       "                       inf_lower  inf_upper  Dp_lower  Dp_upper  enDive_lower  \\\n",
       "Gaussian mixture 200       0.019      0.019     0.003     0.027         0.070   \n",
       "paired uniforms 200        0.010      0.009     0.015     0.058         0.058   \n",
       "normal beta 200            0.005      0.004     0.035     0.095         0.078   \n",
       "uniform normal  200        0.024      0.022     0.001     0.015         0.053   \n",
       "Gaussian mixture 4000      0.019      0.019     0.003     0.027         0.070   \n",
       "paired uniforms 4000       0.010      0.009     0.015     0.058         0.058   \n",
       "normal beta 4000           0.005      0.004     0.035     0.095         0.078   \n",
       "uniform normal  4000       0.024      0.022     0.001     0.015         0.053   \n",
       "\n",
       "                       enDive_upper  tight_lower  tight_upper  \n",
       "Gaussian mixture 200          0.072        0.011        0.011  \n",
       "paired uniforms 200           0.064        0.005        0.005  \n",
       "normal beta 200               0.086        0.002        0.002  \n",
       "uniform normal  200           0.057        0.017        0.016  \n",
       "Gaussian mixture 4000         0.072        0.011        0.011  \n",
       "paired uniforms 4000          0.064        0.005        0.005  \n",
       "normal beta 4000              0.086        0.002        0.002  \n",
       "uniform normal  4000          0.057        0.017        0.016  "
      ]
     },
     "execution_count": 15,
     "metadata": {},
     "output_type": "execute_result"
    }
   ],
   "source": [
    "new_df = pd.concat([df_200, df_4000])\n",
    "\n",
    "\n",
    "# pd.options.display.float_format = '{:.2e}'.format\n",
    "pd.options.display.float_format = '{:.3f}'.format\n",
    "\n",
    "new_df"
   ]
  }
 ],
 "metadata": {
  "kernelspec": {
   "display_name": "Python 3",
   "language": "python",
   "name": "python3"
  },
  "language_info": {
   "codemirror_mode": {
    "name": "ipython",
    "version": 3
   },
   "file_extension": ".py",
   "mimetype": "text/x-python",
   "name": "python",
   "nbconvert_exporter": "python",
   "pygments_lexer": "ipython3",
   "version": "3.10.12"
  }
 },
 "nbformat": 4,
 "nbformat_minor": 2
}
