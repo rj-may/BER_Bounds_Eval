{
 "cells": [
  {
   "cell_type": "markdown",
   "id": "fdc9b6c8",
   "metadata": {},
   "source": [
    "This file determines which bounds (lower vs upper) proportionally. "
   ]
  },
  {
   "cell_type": "code",
   "execution_count": 1,
   "id": "8811b676",
   "metadata": {},
   "outputs": [
    {
     "name": "stdout",
     "output_type": "stream",
     "text": [
      "Current Directory: /mnt/c/Users/rjmay/code/research_ms/alt_distr\n",
      "Updated Directory: /mnt/c/Users/rjmay/code/research_ms\n"
     ]
    }
   ],
   "source": [
    "import os\n",
    "\n",
    "# Get the current working directory\n",
    "current_directory = os.getcwd()\n",
    "print(\"Current Directory:\", current_directory)\n",
    "\n",
    "# Move to the parent directory\n",
    "parent_directory = os.path.dirname(current_directory)\n",
    "os.chdir(parent_directory)\n",
    "\n",
    "# Print the updated working directory\n",
    "updated_directory = os.getcwd()\n",
    "print(\"Updated Directory:\", updated_directory)"
   ]
  },
  {
   "cell_type": "code",
   "execution_count": 2,
   "id": "a59c7d27",
   "metadata": {},
   "outputs": [],
   "source": [
    "! source ../venv/bin/activate"
   ]
  },
  {
   "cell_type": "code",
   "execution_count": 2,
   "id": "09cad3b7",
   "metadata": {},
   "outputs": [],
   "source": [
    "import numpy as np\n",
    "import pandas as pd\n",
    "import matplotlib.pyplot as plt\n",
    "\n",
    "import math\n",
    "import pickle\n",
    "import time\n",
    "\n",
    "from modules.constants import sample_sizes\n",
    "sample_sizes  = np.array(sample_sizes)*2"
   ]
  },
  {
   "cell_type": "code",
   "execution_count": 3,
   "id": "7584954e",
   "metadata": {},
   "outputs": [
    {
     "data": {
      "text/plain": [
       "array([  100,   160,   250,   400,   630,  1000,  1600,  2500,  4000,\n",
       "        6300, 10000])"
      ]
     },
     "execution_count": 3,
     "metadata": {},
     "output_type": "execute_result"
    }
   ],
   "source": [
    "sample_sizes"
   ]
  },
  {
   "cell_type": "code",
   "execution_count": 51,
   "id": "c986f9b9",
   "metadata": {},
   "outputs": [],
   "source": [
    "\n",
    "dim_str = \"15\" # TODO change me \n"
   ]
  },
  {
   "cell_type": "code",
   "execution_count": 52,
   "id": "7175596a",
   "metadata": {},
   "outputs": [],
   "source": [
    "# BER_values = {'beta_beta': 0.10937546875016925, 'paired_uniforms': .1, 'normal_beta': 0.0726617598018901,\n",
    "#                'uniform_normal': 0.15350691875939732}\n",
    "\n",
    "BER_values = {'gm': 0.13868461929442688, 'paired_uniforms': .1, 'normal_beta': 0.0726617598018901,\n",
    "               'uniform_normal': 0.15350691875939732}"
   ]
  },
  {
   "cell_type": "code",
   "execution_count": 53,
   "id": "b472571a",
   "metadata": {},
   "outputs": [
    {
     "name": "stdout",
     "output_type": "stream",
     "text": [
      "gm\n",
      "paired_uniforms\n",
      "normal_beta\n",
      "uniform_normal\n"
     ]
    }
   ],
   "source": [
    "for k in BER_values:\n",
    "    print((k))"
   ]
  },
  {
   "cell_type": "code",
   "execution_count": 54,
   "id": "60b2766b",
   "metadata": {},
   "outputs": [],
   "source": [
    "# wanted_columns = ['Dp', 'Bha',\n",
    "#        'Bha_knn', 'inf', 'enDive']\n",
    "\n",
    "wanted_columns = ['Dp_lower', 'Dp_upper', 'Bha_lower', 'Bha_upper', 'Bha_knn_lower',\n",
    "       'Bha_knn_upper', 'inf_lower', 'inf_upper',\n",
    "       'enDive_lower', 'enDive_upper',]"
   ]
  },
  {
   "cell_type": "markdown",
   "id": "0fbc96fb",
   "metadata": {},
   "source": [
    "### Simulation stage"
   ]
  },
  {
   "cell_type": "code",
   "execution_count": 55,
   "id": "9a944aa0",
   "metadata": {},
   "outputs": [],
   "source": [
    "# from modules.multi_bounds_v3 import bounds_class\n",
    "# # from modules.Bhatt_knn_func import knn_num_calc\n",
    "# from modules.data_gen import data_gen"
   ]
  },
  {
   "cell_type": "code",
   "execution_count": 56,
   "id": "665ab630",
   "metadata": {},
   "outputs": [
    {
     "name": "stdout",
     "output_type": "stream",
     "text": [
      "sim_data/gm15.pkl\tLoaded object successfully\n",
      "sim_data/paired_uniforms15.pkl\tLoaded object successfully\n",
      "sim_data/normal_beta15.pkl\tLoaded object successfully\n",
      "sim_data/uniform_normal15.pkl\tLoaded object successfully\n"
     ]
    }
   ],
   "source": [
    "all_obj = {}\n",
    "\n",
    "for k in BER_values:\n",
    "    file_path = 'sim_data/' + k + dim_str + '.pkl'\n",
    "    print(file_path, end = '\\t')\n",
    "    #Open the file in binary read mode\n",
    "    with open(file_path, 'rb') as file:\n",
    "        # Use pickle.load to deserialize and load the list of objects from the file\n",
    "        loaded_objects = pickle.load(file)\n",
    "\n",
    "    print('Loaded object successfully')\n",
    "    \n",
    "    all_obj[k] = loaded_objects\n",
    "\n"
   ]
  },
  {
   "cell_type": "code",
   "execution_count": 57,
   "id": "480f08c5",
   "metadata": {},
   "outputs": [
    {
     "data": {
      "text/plain": [
       "[[<modules.multi_bounds_parfor.bounds_class at 0x7f4d9e0550c0>,\n",
       "  <modules.multi_bounds_parfor.bounds_class at 0x7f4de45d3e50>,\n",
       "  <modules.multi_bounds_parfor.bounds_class at 0x7f4de72149a0>,\n",
       "  <modules.multi_bounds_parfor.bounds_class at 0x7f4de4879150>,\n",
       "  <modules.multi_bounds_parfor.bounds_class at 0x7f4de7049900>,\n",
       "  <modules.multi_bounds_parfor.bounds_class at 0x7f4de71860b0>,\n",
       "  <modules.multi_bounds_parfor.bounds_class at 0x7f4de23a6860>,\n",
       "  <modules.multi_bounds_parfor.bounds_class at 0x7f4ddfb47010>,\n",
       "  <modules.multi_bounds_parfor.bounds_class at 0x7f4ddfa137c0>,\n",
       "  <modules.multi_bounds_parfor.bounds_class at 0x7f4ddfaf7f70>,\n",
       "  <modules.multi_bounds_parfor.bounds_class at 0x7f4de1da4760>],\n",
       " [50, 80, 125, 200, 315, 500, 800, 1250, 2000, 3150, 5000]]"
      ]
     },
     "execution_count": 57,
     "metadata": {},
     "output_type": "execute_result"
    }
   ],
   "source": [
    "all_obj['gm']"
   ]
  },
  {
   "cell_type": "markdown",
   "id": "45e978a3",
   "metadata": {},
   "source": [
    "### Using the data\n",
    "\n"
   ]
  },
  {
   "cell_type": "code",
   "execution_count": 58,
   "id": "1a2b1f09",
   "metadata": {},
   "outputs": [],
   "source": [
    "# \n",
    "dpi = 250\n"
   ]
  },
  {
   "cell_type": "code",
   "execution_count": 59,
   "id": "7a4d2ee3",
   "metadata": {},
   "outputs": [],
   "source": [
    "validity_dict = {}\n",
    "\n",
    "for k in all_obj:\n",
    "    \n",
    "    \n",
    "    temp_bound_obj_lst  = all_obj[k][0]\n",
    "\n",
    "    lst = [obj.validity(BER_values[k]) for obj in temp_bound_obj_lst ]\n",
    "    df_valid = pd.DataFrame(lst, index = sample_sizes)\n",
    "\n",
    "    good_columns  = df_valid[wanted_columns]\n",
    "\n",
    "    short_df = pd.concat([good_columns.head(1).tail(1), good_columns.tail(1)])\n",
    "    \n",
    "    validity_dict[k] = short_df\n",
    "\n"
   ]
  },
  {
   "cell_type": "code",
   "execution_count": null,
   "id": "d2a5e4f4",
   "metadata": {},
   "outputs": [],
   "source": []
  },
  {
   "cell_type": "code",
   "execution_count": 60,
   "id": "ba18e7b7",
   "metadata": {},
   "outputs": [],
   "source": [
    "# final_df = pd.concat(\n",
    "#     [df.assign(Key=key) for key, df in validity_dict.items()],\n",
    "#     ignore_index=True\n",
    "# ) \n",
    "\n",
    "# final_df"
   ]
  },
  {
   "cell_type": "code",
   "execution_count": 61,
   "id": "d6d762eb",
   "metadata": {},
   "outputs": [
    {
     "data": {
      "text/plain": [
       "Index(['Dp_lower', 'Dp_upper', 'Bha_lower', 'Bha_upper', 'Bha_knn_lower',\n",
       "       'Bha_knn_upper', 'inf_lower', 'inf_upper', 'enDive_lower',\n",
       "       'enDive_upper', 'Key'],\n",
       "      dtype='object')"
      ]
     },
     "execution_count": 61,
     "metadata": {},
     "output_type": "execute_result"
    }
   ],
   "source": [
    "#  Assuming validity_dict is populated as per your previous code\n",
    "final_df_list = []\n",
    "\n",
    "for key, df in validity_dict.items():\n",
    "    # Create a new column combining the key and index\n",
    "    df = df.copy()  # Avoid modifying the original DataFrame\n",
    "    df['Key'] = [f'{key}_{idx}' for idx in df.index]\n",
    "    \n",
    "    # Append the DataFrame with the new Key column to the list\n",
    "    final_df_list.append(df)\n",
    "\n",
    "# Concatenate the list of DataFrames into one final DataFrame\n",
    "final_validity = pd.concat(final_df_list, ignore_index=True)\n",
    "\n",
    "# Display the final DataFrame\n",
    "final_validity\n",
    "\n",
    "\n",
    "final_validity.columns"
   ]
  },
  {
   "cell_type": "code",
   "execution_count": 62,
   "id": "9c46e73d",
   "metadata": {},
   "outputs": [],
   "source": [
    "\n",
    "\n",
    "order_columns = [\n",
    "     'Bha_lower', 'Bha_upper', 'Bha_knn_lower',\n",
    "       'Bha_knn_upper', 'inf_lower', 'inf_upper', 'Dp_lower', 'Dp_upper', 'enDive_lower',\n",
    "       'enDive_upper', 'Key'\n",
    "]"
   ]
  },
  {
   "cell_type": "code",
   "execution_count": 63,
   "id": "70b4152a",
   "metadata": {},
   "outputs": [
    {
     "data": {
      "text/html": [
       "<div>\n",
       "<style scoped>\n",
       "    .dataframe tbody tr th:only-of-type {\n",
       "        vertical-align: middle;\n",
       "    }\n",
       "\n",
       "    .dataframe tbody tr th {\n",
       "        vertical-align: top;\n",
       "    }\n",
       "\n",
       "    .dataframe thead th {\n",
       "        text-align: right;\n",
       "    }\n",
       "</style>\n",
       "<table border=\"1\" class=\"dataframe\">\n",
       "  <thead>\n",
       "    <tr style=\"text-align: right;\">\n",
       "      <th></th>\n",
       "      <th>Bha_lower</th>\n",
       "      <th>Bha_upper</th>\n",
       "      <th>Bha_knn_lower</th>\n",
       "      <th>Bha_knn_upper</th>\n",
       "      <th>inf_lower</th>\n",
       "      <th>inf_upper</th>\n",
       "      <th>Dp_lower</th>\n",
       "      <th>Dp_upper</th>\n",
       "      <th>enDive_lower</th>\n",
       "      <th>enDive_upper</th>\n",
       "    </tr>\n",
       "    <tr>\n",
       "      <th>Key</th>\n",
       "      <th></th>\n",
       "      <th></th>\n",
       "      <th></th>\n",
       "      <th></th>\n",
       "      <th></th>\n",
       "      <th></th>\n",
       "      <th></th>\n",
       "      <th></th>\n",
       "      <th></th>\n",
       "      <th></th>\n",
       "    </tr>\n",
       "  </thead>\n",
       "  <tbody>\n",
       "    <tr>\n",
       "      <th>gm_100</th>\n",
       "      <td>0.000</td>\n",
       "      <td>1.0</td>\n",
       "      <td>0.968</td>\n",
       "      <td>0.962</td>\n",
       "      <td>1.0</td>\n",
       "      <td>0.0</td>\n",
       "      <td>0.046</td>\n",
       "      <td>1.000</td>\n",
       "      <td>0.488</td>\n",
       "      <td>0.520</td>\n",
       "    </tr>\n",
       "    <tr>\n",
       "      <th>gm_10000</th>\n",
       "      <td>0.000</td>\n",
       "      <td>1.0</td>\n",
       "      <td>1.000</td>\n",
       "      <td>1.000</td>\n",
       "      <td>1.0</td>\n",
       "      <td>0.0</td>\n",
       "      <td>0.066</td>\n",
       "      <td>1.000</td>\n",
       "      <td>0.586</td>\n",
       "      <td>0.508</td>\n",
       "    </tr>\n",
       "    <tr>\n",
       "      <th>paired_uniforms_100</th>\n",
       "      <td>0.788</td>\n",
       "      <td>1.0</td>\n",
       "      <td>0.802</td>\n",
       "      <td>0.998</td>\n",
       "      <td>1.0</td>\n",
       "      <td>0.0</td>\n",
       "      <td>0.000</td>\n",
       "      <td>1.000</td>\n",
       "      <td>0.496</td>\n",
       "      <td>0.524</td>\n",
       "    </tr>\n",
       "    <tr>\n",
       "      <th>paired_uniforms_10000</th>\n",
       "      <td>1.000</td>\n",
       "      <td>1.0</td>\n",
       "      <td>0.798</td>\n",
       "      <td>1.000</td>\n",
       "      <td>1.0</td>\n",
       "      <td>0.0</td>\n",
       "      <td>0.000</td>\n",
       "      <td>1.000</td>\n",
       "      <td>0.612</td>\n",
       "      <td>0.652</td>\n",
       "    </tr>\n",
       "    <tr>\n",
       "      <th>normal_beta_100</th>\n",
       "      <td>0.230</td>\n",
       "      <td>1.0</td>\n",
       "      <td>0.238</td>\n",
       "      <td>1.000</td>\n",
       "      <td>1.0</td>\n",
       "      <td>0.0</td>\n",
       "      <td>0.000</td>\n",
       "      <td>1.000</td>\n",
       "      <td>0.476</td>\n",
       "      <td>0.550</td>\n",
       "    </tr>\n",
       "    <tr>\n",
       "      <th>normal_beta_10000</th>\n",
       "      <td>1.000</td>\n",
       "      <td>1.0</td>\n",
       "      <td>0.000</td>\n",
       "      <td>1.000</td>\n",
       "      <td>1.0</td>\n",
       "      <td>0.0</td>\n",
       "      <td>0.000</td>\n",
       "      <td>1.000</td>\n",
       "      <td>0.152</td>\n",
       "      <td>0.954</td>\n",
       "    </tr>\n",
       "    <tr>\n",
       "      <th>uniform_normal_100</th>\n",
       "      <td>0.224</td>\n",
       "      <td>1.0</td>\n",
       "      <td>1.000</td>\n",
       "      <td>0.836</td>\n",
       "      <td>1.0</td>\n",
       "      <td>0.0</td>\n",
       "      <td>0.370</td>\n",
       "      <td>0.998</td>\n",
       "      <td>0.512</td>\n",
       "      <td>0.518</td>\n",
       "    </tr>\n",
       "    <tr>\n",
       "      <th>uniform_normal_10000</th>\n",
       "      <td>1.000</td>\n",
       "      <td>1.0</td>\n",
       "      <td>1.000</td>\n",
       "      <td>1.000</td>\n",
       "      <td>1.0</td>\n",
       "      <td>0.0</td>\n",
       "      <td>1.000</td>\n",
       "      <td>1.000</td>\n",
       "      <td>0.794</td>\n",
       "      <td>0.532</td>\n",
       "    </tr>\n",
       "  </tbody>\n",
       "</table>\n",
       "</div>"
      ],
      "text/plain": [
       "                       Bha_lower  Bha_upper  Bha_knn_lower  Bha_knn_upper  \\\n",
       "Key                                                                         \n",
       "gm_100                     0.000        1.0          0.968          0.962   \n",
       "gm_10000                   0.000        1.0          1.000          1.000   \n",
       "paired_uniforms_100        0.788        1.0          0.802          0.998   \n",
       "paired_uniforms_10000      1.000        1.0          0.798          1.000   \n",
       "normal_beta_100            0.230        1.0          0.238          1.000   \n",
       "normal_beta_10000          1.000        1.0          0.000          1.000   \n",
       "uniform_normal_100         0.224        1.0          1.000          0.836   \n",
       "uniform_normal_10000       1.000        1.0          1.000          1.000   \n",
       "\n",
       "                       inf_lower  inf_upper  Dp_lower  Dp_upper  enDive_lower  \\\n",
       "Key                                                                             \n",
       "gm_100                       1.0        0.0     0.046     1.000         0.488   \n",
       "gm_10000                     1.0        0.0     0.066     1.000         0.586   \n",
       "paired_uniforms_100          1.0        0.0     0.000     1.000         0.496   \n",
       "paired_uniforms_10000        1.0        0.0     0.000     1.000         0.612   \n",
       "normal_beta_100              1.0        0.0     0.000     1.000         0.476   \n",
       "normal_beta_10000            1.0        0.0     0.000     1.000         0.152   \n",
       "uniform_normal_100           1.0        0.0     0.370     0.998         0.512   \n",
       "uniform_normal_10000         1.0        0.0     1.000     1.000         0.794   \n",
       "\n",
       "                       enDive_upper  \n",
       "Key                                  \n",
       "gm_100                        0.520  \n",
       "gm_10000                      0.508  \n",
       "paired_uniforms_100           0.524  \n",
       "paired_uniforms_10000         0.652  \n",
       "normal_beta_100               0.550  \n",
       "normal_beta_10000             0.954  \n",
       "uniform_normal_100            0.518  \n",
       "uniform_normal_10000          0.532  "
      ]
     },
     "execution_count": 63,
     "metadata": {},
     "output_type": "execute_result"
    }
   ],
   "source": [
    "combined_sorted = final_validity[order_columns]\n",
    "\n",
    "combined_sorted.index = combined_sorted.Key\n",
    "\n",
    "combined_sorted= combined_sorted.drop(columns=['Key'])\n",
    "\n",
    "\n",
    "combined_sorted.round(3)"
   ]
  }
 ],
 "metadata": {
  "kernelspec": {
   "display_name": "Python 3",
   "language": "python",
   "name": "python3"
  },
  "language_info": {
   "codemirror_mode": {
    "name": "ipython",
    "version": 3
   },
   "file_extension": ".py",
   "mimetype": "text/x-python",
   "name": "python",
   "nbconvert_exporter": "python",
   "pygments_lexer": "ipython3",
   "version": "3.10.12"
  }
 },
 "nbformat": 4,
 "nbformat_minor": 5
}
