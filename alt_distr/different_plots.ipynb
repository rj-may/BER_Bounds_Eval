{
 "cells": [
  {
   "cell_type": "code",
   "execution_count": 1,
   "id": "486c2feb",
   "metadata": {},
   "outputs": [],
   "source": [
    "import numpy as np\n",
    "import pandas as pd\n",
    "import matplotlib.pyplot as plt\n",
    "\n",
    "import math\n",
    "import pickle\n",
    "import time\n",
    "\n"
   ]
  },
  {
   "cell_type": "code",
   "execution_count": 2,
   "id": "30cf4e62",
   "metadata": {},
   "outputs": [],
   "source": [
    "f0_lst  = []\n",
    "f1_lst = []\n",
    "BER_lst = []\n",
    "x_lst = []\n",
    "label_lst = []"
   ]
  },
  {
   "cell_type": "code",
   "execution_count": 3,
   "id": "40b7ed7f",
   "metadata": {},
   "outputs": [
    {
     "data": {
      "text/plain": [
       "0.10937546875016925"
      ]
     },
     "execution_count": 3,
     "metadata": {},
     "output_type": "execute_result"
    }
   ],
   "source": [
    "import numpy as np\n",
    "import matplotlib.pyplot as plt\n",
    "from scipy.stats import norm\n",
    "from scipy.stats import beta\n",
    "#### I have to code the true values and theoreticals. \n",
    "\n",
    "# Define dx and x range\n",
    "dx = 0.001\n",
    "x = np.arange(-10, 10 + dx, dx)\n",
    "\n",
    "# Define the normal distributions\n",
    "f0 = beta.pdf(x, a=2, b=5)\n",
    "f1 = beta.pdf(x, a=5, b=2)\n",
    "\n",
    "# Calculate the minimum of f0 and f1\n",
    "min_f0_f1 = np.minimum(f0, f1)\n",
    "# Calculate BER as 0.5 * sum(min(f0, f1) * dx)\n",
    "BER = 0.5 * np.nansum(min_f0_f1 * dx)\n",
    "\n",
    "f0_lst.append(f0)\n",
    "f1_lst.append(f1)\n",
    "BER_lst.append(BER)\n",
    "x_lst.append(x)\n",
    "label_lst.append(['B(2,5)', 'B(5,2)'])\n",
    "\n",
    "\n",
    "BER\n",
    "\n"
   ]
  },
  {
   "cell_type": "code",
   "execution_count": null,
   "id": "4cae822e",
   "metadata": {},
   "outputs": [],
   "source": []
  },
  {
   "cell_type": "code",
   "execution_count": 4,
   "id": "6c354a81",
   "metadata": {},
   "outputs": [
    {
     "data": {
      "image/png": "[encoded data removed]",
      "text/plain": [
       "<Figure size 432x288 with 1 Axes>"
      ]
     },
     "metadata": {
      "needs_background": "light"
     },
     "output_type": "display_data"
    }
   ],
   "source": [
    "plt.plot(x, f0)\n",
    "plt.plot(x, f1)\n",
    "plt.title(\"Unique Dimension\")\n",
    "plt.xlabel(\"X\")\n",
    "plt.ylabel(\"Density\")\n",
    "plt.show()"
   ]
  },
  {
   "cell_type": "code",
   "execution_count": 5,
   "id": "3c685d31",
   "metadata": {},
   "outputs": [
    {
     "data": {
      "text/plain": [
       "0.10000000000000003"
      ]
     },
     "execution_count": 5,
     "metadata": {},
     "output_type": "execute_result"
    }
   ],
   "source": [
    "import numpy as np\n",
    "# import matplotlib.pyplot as plt\n",
    "# from scipy.stats import norm\n",
    "from scipy.stats import uniform\n",
    "#### I have to code the true values and theoreticals. \n",
    "\n",
    "# Define dx and x range\n",
    "dx = 0.001\n",
    "x = np.arange(-5, 5 + dx, dx)\n",
    "\n",
    "# Define the two uniform distributions\n",
    "pd0 = uniform(loc=0, scale=1)  # lower=0, upper=1\n",
    "pd1 = uniform(loc=0.8, scale=1)  # lower=0.8, upper=1.8\n",
    "\n",
    "# Compute the pdfs for both distributions over the x range\n",
    "f0 = pd0.pdf(x)\n",
    "f1 = pd1.pdf(x)\n",
    "# Calculate the minimum of f0 and f1\n",
    "min_f0_f1 = np.minimum(f0, f1)\n",
    "# Calculate BER as 0.5 * sum(min(f0, f1) * dx)\n",
    "BER = 0.5 * np.nansum(min_f0_f1 * dx)\n",
    "x_lst.append(x)\n",
    "\n",
    "\n",
    "f0_lst.append(f0)\n",
    "f1_lst.append(f1)\n",
    "BER_lst.append(BER)\n",
    "label_lst.append(['U(0,1)', 'U(.8,1.8)'])\n",
    "\n",
    "\n",
    "BER\n"
   ]
  },
  {
   "cell_type": "code",
   "execution_count": 6,
   "id": "3f6f5df6",
   "metadata": {},
   "outputs": [
    {
     "data": {
      "image/png": "[encoded data removed]",
      "text/plain": [
       "<Figure size 432x288 with 1 Axes>"
      ]
     },
     "metadata": {
      "needs_background": "light"
     },
     "output_type": "display_data"
    }
   ],
   "source": [
    "plt.plot(x, f0)\n",
    "plt.plot(x, f1)\n",
    "plt.title(\"Unique Dimension\")\n",
    "plt.xlabel(\"X\")\n",
    "plt.ylabel(\"Density\")\n",
    "plt.show()"
   ]
  },
  {
   "cell_type": "code",
   "execution_count": 7,
   "id": "60d59761",
   "metadata": {},
   "outputs": [
    {
     "data": {
      "text/plain": [
       "0.0726617598018901"
      ]
     },
     "execution_count": 7,
     "metadata": {},
     "output_type": "execute_result"
    }
   ],
   "source": [
    "\n",
    "from scipy.stats import norm\n",
    "from scipy.stats import beta\n",
    "#### I have to code the true values and theoreticals. \n",
    "\n",
    "# Define dx and x range\n",
    "dx = 0.001\n",
    "x = np.arange(-10, 10 + dx, dx)\n",
    "\n",
    "# Define the normal distributions\n",
    "f0 = norm.pdf(x, loc=0, scale=1)\n",
    "f1 = beta.pdf(x, a=20, b=20)\n",
    "\n",
    "# Calculate the minimum of f0 and f1\n",
    "min_f0_f1 = np.minimum(f0, f1)\n",
    "# Calculate BER as 0.5 * sum(min(f0, f1) * dx)\n",
    "BER = 0.5 * np.sum(min_f0_f1 * dx)\n",
    "\n",
    "f0_lst.append(f0)\n",
    "f1_lst.append(f1)\n",
    "BER_lst.append(BER)\n",
    "x_lst.append(x)\n",
    "label_lst.append(['N(0,1)', 'B(20,20)'])\n",
    "\n",
    "\n",
    "BER\n"
   ]
  },
  {
   "cell_type": "code",
   "execution_count": 8,
   "id": "23663dec",
   "metadata": {},
   "outputs": [
    {
     "data": {
      "image/png": "[encoded data removed]",
      "text/plain": [
       "<Figure size 432x288 with 1 Axes>"
      ]
     },
     "metadata": {
      "needs_background": "light"
     },
     "output_type": "display_data"
    }
   ],
   "source": [
    "plt.plot(x, f0)\n",
    "plt.plot(x, f1)\n",
    "plt.title(\"Unique Dimension\")\n",
    "plt.xlabel(\"X\")\n",
    "plt.ylabel(\"Density\")\n",
    "plt.show()"
   ]
  },
  {
   "cell_type": "code",
   "execution_count": 9,
   "id": "620c8957",
   "metadata": {},
   "outputs": [
    {
     "data": {
      "text/plain": [
       "0.15350691875939732"
      ]
     },
     "execution_count": 9,
     "metadata": {},
     "output_type": "execute_result"
    }
   ],
   "source": [
    "import numpy as np\n",
    "# import matplotlib.pyplot as plt\n",
    "from scipy.stats import norm\n",
    "from scipy.stats import uniform\n",
    "#### I have to code the true values and theoreticals. \n",
    "\n",
    "# Define dx and x range\n",
    "dx = 0.001\n",
    "x = np.arange(-10, 10 + dx, dx)\n",
    "\n",
    "# Define the normal distributions\n",
    "f0 = norm.pdf(x, loc=0, scale=1) ## this might be wonk\n",
    "pd1 = uniform(loc=0.5, scale=2.5)  #0 to 3\n",
    "f1 = pd1.pdf(x)\n",
    "\n",
    "# Calculate the minimum of f0 and f1\n",
    "min_f0_f1 = np.minimum(f0, f1)\n",
    "# Calculate BER as 0.5 * sum(min(f0, f1) * dx)\n",
    "BER = 0.5 * np.nansum(min_f0_f1 * dx)\n",
    "\n",
    "f0_lst.append(f0)\n",
    "f1_lst.append(f1)\n",
    "BER_lst.append(BER)\n",
    "x_lst.append(x)\n",
    "label_lst.append(['N(0,1)', 'U(0.5,3)'])\n",
    "\n",
    "\n",
    "BER\n"
   ]
  },
  {
   "cell_type": "code",
   "execution_count": 10,
   "id": "faa21341",
   "metadata": {},
   "outputs": [
    {
     "data": {
      "image/png": "[encoded data removed]",
      "text/plain": [
       "<Figure size 432x288 with 1 Axes>"
      ]
     },
     "metadata": {
      "needs_background": "light"
     },
     "output_type": "display_data"
    }
   ],
   "source": [
    "plt.plot(x, f0)\n",
    "plt.plot(x, f1)\n",
    "plt.title(\"Unique Dimension\")\n",
    "plt.xlabel(\"X\")\n",
    "plt.ylabel(\"Density\")\n",
    "plt.show()"
   ]
  },
  {
   "cell_type": "code",
   "execution_count": 11,
   "id": "cd89e306",
   "metadata": {},
   "outputs": [
    {
     "data": {
      "text/plain": [
       "'B(5,2)'"
      ]
     },
     "execution_count": 11,
     "metadata": {},
     "output_type": "execute_result"
    }
   ],
   "source": [
    "a, b = label_lst[0]\n",
    "\n",
    "b"
   ]
  },
  {
   "cell_type": "code",
   "execution_count": 12,
   "id": "738cab6d",
   "metadata": {},
   "outputs": [],
   "source": [
    "def dp_func(f0, f1, rnd= 2):\n",
    "    p = 0.5\n",
    "    q = 0.5\n",
    "    pf0 = p * f0\n",
    "    qf1 = q * f1\n",
    "    # Calculate the function\n",
    "    func = (pf0 - qf1)**2 / (pf0 + qf1)\n",
    "\n",
    "    # Calculate dp using numerical integration (sum and dx)\n",
    "    dp = np.nansum(func) * dx\n",
    "\n",
    "    # Calculate upper and lower bounds\n",
    "    upper = 0.5 - 0.5 * dp\n",
    "    lower = 0.5 - 0.5 * np.sqrt(dp)\n",
    "    \n",
    "    print(lower, upper)\n",
    "    \n",
    "    lower= round(lower, rnd)\n",
    "    upper = round(upper, rnd)\n",
    "\n",
    "    \n",
    "    theory_Dp = [lower, upper]\n",
    "    return theory_Dp\n",
    "\n",
    "def bha_func(f0, f1, rnd=2):\n",
    "    func2 = np.sqrt(f0 * f1)\n",
    "    # Calculate BC using numerical integration (sum and dx)\n",
    "    BC = np.nansum(func2) * dx\n",
    "\n",
    "    lower = 0.5 - 0.5 * np.sqrt(1 - BC**2)\n",
    "    upper = 0.5 * BC\n",
    "\n",
    "    print(lower, upper)\n",
    "\n",
    "    lower= round(lower, rnd)\n",
    "    upper = round(upper, rnd)\n",
    "\n",
    "    \n",
    "    \n",
    "    theory_bha = [lower, upper]\n",
    "    return theory_bha\n"
   ]
  },
  {
   "cell_type": "code",
   "execution_count": 13,
   "id": "7f4e9762",
   "metadata": {
    "scrolled": false
   },
   "outputs": [
    {
     "name": "stdout",
     "output_type": "stream",
     "text": [
      "0.10937546875016925\n",
      "0.08624246330070995 0.15760940164907128\n",
      "0.05609086943364505 0.23009711819104303\n",
      "\n",
      "\n",
      "0.10000000000000003\n",
      "0.05278640450004207 0.09999999999999998\n",
      "0.010102051443364402 0.1\n",
      "\n",
      "\n",
      "0.0726617598018901\n",
      "0.06292977858379983 0.11793924310238751\n",
      "0.03485867139797694 0.18342176650099296\n",
      "\n",
      "\n",
      "0.15350691875939732\n",
      "0.11498553211861606 0.20352771904402955\n",
      "0.06364160974787597 0.2441134065482169\n",
      "\n",
      "\n"
     ]
    },
    {
     "name": "stderr",
     "output_type": "stream",
     "text": [
      "/tmp/ipykernel_18755/71031870.py:7: RuntimeWarning: invalid value encountered in divide\n",
      "  func = (pf0 - qf1)**2 / (pf0 + qf1)\n",
      "/tmp/ipykernel_18755/71031870.py:7: RuntimeWarning: invalid value encountered in divide\n",
      "  func = (pf0 - qf1)**2 / (pf0 + qf1)\n"
     ]
    },
    {
     "data": {
      "image/png": "[encoded data removed]",
      "text/plain": [
       "<Figure size 1008x288 with 4 Axes>"
      ]
     },
     "metadata": {
      "needs_background": "light"
     },
     "output_type": "display_data"
    }
   ],
   "source": [
    "fs = 10\n",
    "\n",
    "# Define the ranges of x for the four subplots\n",
    "x_ranges = [(-3, 3),  (-3,3 ),(-4, 4), (-5, 5)]\n",
    "\n",
    "fig, axs = plt.subplots(nrows =1, ncols=4, figsize=(14, 4), layout= 'tight')\n",
    "\n",
    "# Iterate over the subplots and plot the corresponding data\n",
    "for i, ax in enumerate(axs.flat):\n",
    "    \n",
    "    x_min, x_max = x_ranges[i]\n",
    "    l1, l2 = label_lst[i]\n",
    "    \n",
    "    \n",
    "    BER = BER_lst[i]\n",
    "    f0 = f0_lst[i]\n",
    "    f1 = f1_lst[i]\n",
    "    x=  x_lst[i]\n",
    "    \n",
    "    print(BER)\n",
    "    Dp_l, Dp_u = dp_func(f0,f1)\n",
    "    Bha_l, Bha_u = bha_func(f0,f1)\n",
    "    print(\"\\n\")\n",
    "\n",
    "    \n",
    "    ax.plot(x, f0, label  = l1)\n",
    "    ax.plot(x, f1, label = l2)\n",
    "\n",
    "    ax.set_xlim((x_min, x_max))\n",
    "#     ax.set_ylim((0,3))\n",
    "\n",
    "    ax.set_title(f\"True BER: {round(BER, 3)}\", fontsize = fs+1)\n",
    "    \n",
    "    ### the text I want to add\n",
    "#     ax.set_title(f\"BER: {round(BER, 2)} Bha:[{Bha_l}, {Bha_u}] Dp: [{Dp_l},, {Dp_u}]\", fontsize = fs)\n",
    "    ax.text(0.5, -0.3, f\"Bha: [{Bha_l}, {Bha_u}]    Dp: [{Dp_l}, {Dp_u}]\", \n",
    "            transform=ax.transAxes, fontsize=fs, ha='center')\n",
    "   \n",
    "    ax.set_xlabel(\"X\", fontsize = fs)\n",
    "    ax.set_ylabel(\"Density\", fontsize= fs)\n",
    "    \n",
    "    ax.legend(loc= \"upper left\")\n",
    "\n",
    "# Add letters to reference the plots\n",
    "letters = ['A)', 'B)', 'C)', 'D)']\n",
    "for i, ax in enumerate(axs.flat):\n",
    "    ax.text(0.85, 0.9, letters[i], transform=ax.transAxes, fontsize=fs+2, va='bottom')\n",
    "    \n",
    "fig.suptitle(\"Four Different Test Cases \", fontsize=fs+4)\n",
    "\n",
    "file_name = r\"images/four_cases.png\"\n",
    "plt.savefig(file_name,facecolor=(1,1,1,1),  bbox_inches='tight', dpi= 300)\n",
    "plt.show()"
   ]
  }
 ],
 "metadata": {
  "kernelspec": {
   "display_name": "Python 3 (ipykernel)",
   "language": "python",
   "name": "python3"
  },
  "language_info": {
   "codemirror_mode": {
    "name": "ipython",
    "version": 3
   },
   "file_extension": ".py",
   "mimetype": "text/x-python",
   "name": "python",
   "nbconvert_exporter": "python",
   "pygments_lexer": "ipython3",
   "version": "3.10.12"
  }
 },
 "nbformat": 4,
 "nbformat_minor": 5
}
