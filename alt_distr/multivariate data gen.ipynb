{
 "cells": [
  {
   "cell_type": "code",
   "execution_count": 2,
   "id": "5881065a",
   "metadata": {},
   "outputs": [
    {
     "name": "stdout",
     "output_type": "stream",
     "text": [
      "Current Directory: /mnt/c/users/rjmay/code/research_ms/alt_distr\n",
      "Updated Directory: /mnt/c/users/rjmay/code/research_ms\n"
     ]
    }
   ],
   "source": [
    "import os\n",
    "\n",
    "# Get the current working directory\n",
    "current_directory = os.getcwd()\n",
    "print(\"Current Directory:\", current_directory)\n",
    "\n",
    "# Move to the parent directory\n",
    "parent_directory = os.path.dirname(current_directory)\n",
    "os.chdir(parent_directory)\n",
    "\n",
    "# Print the updated working directory\n",
    "updated_directory = os.getcwd()\n",
    "print(\"Updated Directory:\", updated_directory)"
   ]
  },
  {
   "cell_type": "code",
   "execution_count": 7,
   "id": "134a0d62",
   "metadata": {},
   "outputs": [],
   "source": [
    "from modules.data_gen_mv import data_gen_multivariate\n",
    "\n",
    "import numpy as np"
   ]
  },
  {
   "cell_type": "code",
   "execution_count": 8,
   "id": "d52cbb44",
   "metadata": {},
   "outputs": [],
   "source": [
    "dim = 3\n"
   ]
  },
  {
   "cell_type": "code",
   "execution_count": 12,
   "id": "92250fb6",
   "metadata": {},
   "outputs": [],
   "source": [
    "func0 = np.random.multivariate_normal\n",
    "func1 = np.random.multivariate_normal\n",
    "\n",
    "mean1 = np.zeros(dim)\n",
    "covariance1 = np.identity(dim)\n",
    "mean2 = np.zeros(dim)\n",
    "mean2[0] = 2.56\n",
    "covariance2= np.identity(dim)\n",
    "\n",
    "\n",
    "\n",
    "\n",
    "\n",
    "params1  = {'mean': mean1, 'cov': covariance1}\n",
    "params2  = {'mean': mean2, 'cov': covariance2}\n",
    "\n",
    "generator = data_gen_multivariate(func0, func1,  params1, params2 )"
   ]
  },
  {
   "cell_type": "code",
   "execution_count": 17,
   "id": "296ec0b8",
   "metadata": {},
   "outputs": [
    {
     "data": {
      "text/plain": [
       "(100, 3)"
      ]
     },
     "execution_count": 17,
     "metadata": {},
     "output_type": "execute_result"
    }
   ],
   "source": [
    "generator.sample(100)[0].shape"
   ]
  }
 ],
 "metadata": {
  "kernelspec": {
   "display_name": "Python 3 (ipykernel)",
   "language": "python",
   "name": "python3"
  },
  "language_info": {
   "codemirror_mode": {
    "name": "ipython",
    "version": 3
   },
   "file_extension": ".py",
   "mimetype": "text/x-python",
   "name": "python",
   "nbconvert_exporter": "python",
   "pygments_lexer": "ipython3",
   "version": "3.10.12"
  }
 },
 "nbformat": 4,
 "nbformat_minor": 5
}
