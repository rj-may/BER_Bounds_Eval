{
 "cells": [
  {
   "cell_type": "code",
   "execution_count": null,
   "metadata": {},
   "outputs": [
    {
     "name": "stderr",
     "output_type": "stream",
     "text": [
      "The system cannot find the path specified.\n",
      "'.\\activate' is not recognized as an internal or external command,\n",
      "operable program or batch file.\n"
     ]
    }
   ],
   "source": [
    "# # ! source ../venv/bin/activate\n",
    "# !cd ..\\venv\\Scripts\n",
    "# !.\\activate"
   ]
  },
  {
   "cell_type": "code",
   "execution_count": 3,
   "metadata": {},
   "outputs": [],
   "source": [
    "from modules.bounds_calculator import bounds_calculator"
   ]
  },
  {
   "cell_type": "code",
   "execution_count": null,
   "metadata": {},
   "outputs": [],
   "source": []
  },
  {
   "cell_type": "markdown",
   "metadata": {},
   "source": [
    "Demonstration of using the bound files.\n"
   ]
  },
  {
   "cell_type": "code",
   "execution_count": 4,
   "metadata": {},
   "outputs": [],
   "source": [
    "\n",
    "import numpy as np\n",
    "from scipy.stats import norm\n"
   ]
  },
  {
   "cell_type": "code",
   "execution_count": 5,
   "metadata": {},
   "outputs": [
    {
     "ename": "ModuleNotFoundError",
     "evalue": "No module named 'matplotlib'",
     "output_type": "error",
     "traceback": [
      "\u001b[31m---------------------------------------------------------------------------\u001b[39m",
      "\u001b[31mModuleNotFoundError\u001b[39m                       Traceback (most recent call last)",
      "\u001b[36mCell\u001b[39m\u001b[36m \u001b[39m\u001b[32mIn[5]\u001b[39m\u001b[32m, line 17\u001b[39m\n\u001b[32m     13\u001b[39m data0 = np.random.multivariate_normal(mean1, covariance1, samples)\n\u001b[32m     14\u001b[39m data1 = np.random.multivariate_normal(mean2, covariance2, samples)\n\u001b[32m---> \u001b[39m\u001b[32m17\u001b[39m \u001b[38;5;28;01mimport\u001b[39;00m\u001b[38;5;250m \u001b[39m\u001b[34;01mmatplotlib\u001b[39;00m\u001b[34;01m.\u001b[39;00m\u001b[34;01mpyplot\u001b[39;00m\u001b[38;5;250m \u001b[39m\u001b[38;5;28;01mas\u001b[39;00m\u001b[38;5;250m \u001b[39m\u001b[34;01mplt\u001b[39;00m\n\u001b[32m     20\u001b[39m fig, ax = plt.subplots(nrows=\u001b[32m1\u001b[39m, ncols=\u001b[32m1\u001b[39m, figsize=(\u001b[32m10\u001b[39m, \u001b[32m7\u001b[39m))\n\u001b[32m     22\u001b[39m ax.scatter(data0[:, \u001b[32m0\u001b[39m], data0[:, \u001b[32m1\u001b[39m])\n",
      "\u001b[31mModuleNotFoundError\u001b[39m: No module named 'matplotlib'"
     ]
    }
   ],
   "source": [
    "\n",
    "\n",
    "\n",
    "dim = 3\n",
    "\n",
    "diff = 2.56\n",
    "\n",
    "mean1 = np.zeros(dim)\n",
    "covariance1 = np.identity(dim)\n",
    "mean2 = np.zeros(dim)\n",
    "mean2[0] = diff # set the difference between the two means\n",
    "covariance2= np.identity(dim)\n",
    "        \n",
    "samples =500\n",
    "\n",
    "data0 = np.random.multivariate_normal(mean1, covariance1, samples)\n",
    "data1 = np.random.multivariate_normal(mean2, covariance2, samples)\n",
    "\n",
    "\n",
    "import matplotlib.pyplot as plt\n",
    "\n",
    "\n",
    "fig, ax = plt.subplots(nrows=1, ncols=1, figsize=(10, 7))\n",
    "\n",
    "ax.scatter(data0[:, 0], data0[:, 1])\n",
    "ax.scatter(data1[:, 0], data1[:, 1])\n",
    "\n",
    "\n",
    "\n",
    "plt.show()\n",
    "\n",
    "from scipy.stats import norm\n",
    "\n",
    "dx = 0.001\n",
    "x = np.arange(-10, 10 + dx, dx)\n",
    "# Define the normal distributions\n",
    "f0 = norm.pdf(x, loc=diff, scale =1)\n",
    "f1 = norm.pdf(x, loc=0, scale =1)\n",
    "# Calculate the minimum of f0 and f1\n",
    "min_f0_f1 = np.minimum(f0, f1)\n",
    "# Calculate BER as 0.5 * sum(min(f0, f1) * dx)\n",
    "BER = 0.5 * np.nansum(min_f0_f1 * dx)\n",
    "print(\"True BER is \", BER)"
   ]
  },
  {
   "cell_type": "markdown",
   "metadata": {},
   "source": [
    "Running the bounds"
   ]
  },
  {
   "cell_type": "code",
   "execution_count": 5,
   "metadata": {},
   "outputs": [],
   "source": [
    "\n",
    "import matlab.engine\n",
    "# eng = matlab.engine.start_matlab()"
   ]
  },
  {
   "cell_type": "code",
   "execution_count": 6,
   "metadata": {},
   "outputs": [],
   "source": [
    "# bounds_calculator(data0, data1, MATLAB = eng)\n",
    "\n",
    "# bounds_calculator(data0, data1)\n",
    "\n",
    "from oct2py import Oct2Py\n",
    "\n",
    "oc = Oct2Py()\n",
    "\n",
    "oc.eval(\"pkg load geometry\")  # Must load this first\n",
    "oc.eval(\"pkg load statistics\")  # Must load this first\n",
    "\n"
   ]
  },
  {
   "cell_type": "markdown",
   "metadata": {},
   "source": [
    "## using the timer\n",
    "\n",
    "This the time to compute the bounds. "
   ]
  },
  {
   "cell_type": "code",
   "execution_count": 8,
   "metadata": {},
   "outputs": [
    {
     "name": "stdout",
     "output_type": "stream",
     "text": [
      "here\n"
     ]
    },
    {
     "ename": "Oct2PyError",
     "evalue": "octave not found, please see README",
     "output_type": "error",
     "traceback": [
      "\u001b[31m---------------------------------------------------------------------------\u001b[39m",
      "\u001b[31mOct2PyError\u001b[39m                               Traceback (most recent call last)",
      "\u001b[36mCell\u001b[39m\u001b[36m \u001b[39m\u001b[32mIn[8]\u001b[39m\u001b[32m, line 1\u001b[39m\n\u001b[32m----> \u001b[39m\u001b[32m1\u001b[39m results = \u001b[43mbounds_calculator\u001b[49m\u001b[43m(\u001b[49m\u001b[43mdata0\u001b[49m\u001b[43m,\u001b[49m\u001b[43m \u001b[49m\u001b[43mdata1\u001b[49m\u001b[43m,\u001b[49m\u001b[43m \u001b[49m\u001b[43mMATLAB\u001b[49m\u001b[43m \u001b[49m\u001b[43m=\u001b[49m\u001b[43m \u001b[49m\u001b[38;5;28;43;01mNone\u001b[39;49;00m\u001b[43m,\u001b[49m\u001b[43m \u001b[49m\u001b[43mTimer\u001b[49m\u001b[43m \u001b[49m\u001b[43m=\u001b[49m\u001b[43m \u001b[49m\u001b[38;5;28;43;01mFalse\u001b[39;49;00m\u001b[43m)\u001b[49m\n\u001b[32m      3\u001b[39m results\n",
      "\u001b[36mFile \u001b[39m\u001b[32mc:\\Users\\rjmay\\Code\\research_ms\\modules\\bounds_calculator.py:108\u001b[39m, in \u001b[36mbounds_calculator\u001b[39m\u001b[34m(data0, data1, k_nn, alpha_tight, kernel, MATLAB, Timer, scikitlearn)\u001b[39m\n\u001b[32m    102\u001b[39m \u001b[38;5;28mprint\u001b[39m(\u001b[33m\"\u001b[39m\u001b[33mhere\u001b[39m\u001b[33m\"\u001b[39m)\n\u001b[32m    104\u001b[39m \u001b[38;5;66;03m# eng =  MATLAB\u001b[39;00m\n\u001b[32m    105\u001b[39m \n\u001b[32m    106\u001b[39m \u001b[38;5;66;03m# eng.addpath('modules', nargout=0)\u001b[39;00m\n\u001b[32m--> \u001b[39m\u001b[32m108\u001b[39m oc = \u001b[43mOct2Py\u001b[49m\u001b[43m(\u001b[49m\u001b[43m)\u001b[49m\n\u001b[32m    109\u001b[39m oc.addpath(\u001b[33m'\u001b[39m\u001b[33mmodules\u001b[39m\u001b[33m'\u001b[39m)  \u001b[38;5;66;03m# Equivalent to eng.addpath\u001b[39;00m\n\u001b[32m    110\u001b[39m oc.eval(\u001b[33m\"\u001b[39m\u001b[33mpkg load statistics\u001b[39m\u001b[33m\"\u001b[39m)\n",
      "\u001b[36mFile \u001b[39m\u001b[32m~\\AppData\\Local\\Packages\\PythonSoftwareFoundation.Python.3.11_qbz5n2kfra8p0\\LocalCache\\local-packages\\Python311\\site-packages\\oct2py\\core.py:92\u001b[39m, in \u001b[36mOct2Py.__init__\u001b[39m\u001b[34m(self, logger, timeout, oned_as, temp_dir, convert_to_float, backend, keep_matlab_shapes)\u001b[39m\n\u001b[32m     90\u001b[39m \u001b[38;5;28mself\u001b[39m._user_classes = {}\n\u001b[32m     91\u001b[39m \u001b[38;5;28mself\u001b[39m._function_ptrs = {}\n\u001b[32m---> \u001b[39m\u001b[32m92\u001b[39m \u001b[38;5;28;43mself\u001b[39;49m\u001b[43m.\u001b[49m\u001b[43mrestart\u001b[49m\u001b[43m(\u001b[49m\u001b[43m)\u001b[49m\n",
      "\u001b[36mFile \u001b[39m\u001b[32m~\\AppData\\Local\\Packages\\PythonSoftwareFoundation.Python.3.11_qbz5n2kfra8p0\\LocalCache\\local-packages\\Python311\\site-packages\\oct2py\\core.py:578\u001b[39m, in \u001b[36mOct2Py.restart\u001b[39m\u001b[34m(self)\u001b[39m\n\u001b[32m    576\u001b[39m     \u001b[38;5;28mself\u001b[39m._engine = OctaveEngine(stdin_handler=\u001b[38;5;28mself\u001b[39m._handle_stdin, logger=\u001b[38;5;28mself\u001b[39m.logger)\n\u001b[32m    577\u001b[39m \u001b[38;5;28;01mexcept\u001b[39;00m \u001b[38;5;167;01mException\u001b[39;00m \u001b[38;5;28;01mas\u001b[39;00m e:\n\u001b[32m--> \u001b[39m\u001b[32m578\u001b[39m     \u001b[38;5;28;01mraise\u001b[39;00m Oct2PyError(\u001b[38;5;28mstr\u001b[39m(e)) \u001b[38;5;28;01mfrom\u001b[39;00m\u001b[38;5;250m \u001b[39m\u001b[38;5;28;01mNone\u001b[39;00m\n\u001b[32m    580\u001b[39m \u001b[38;5;66;03m# Add local Octave scripts.\u001b[39;00m\n\u001b[32m    581\u001b[39m \u001b[38;5;28mself\u001b[39m._engine.eval(\u001b[33m'\u001b[39m\u001b[33maddpath(\u001b[39m\u001b[33m\"\u001b[39m\u001b[38;5;132;01m%s\u001b[39;00m\u001b[33m\"\u001b[39m\u001b[33m);\u001b[39m\u001b[33m'\u001b[39m % HERE.replace(osp.sep, \u001b[33m\"\u001b[39m\u001b[33m/\u001b[39m\u001b[33m\"\u001b[39m))\n",
      "\u001b[31mOct2PyError\u001b[39m: octave not found, please see README"
     ]
    }
   ],
   "source": [
    "results = bounds_calculator(data0, data1, MATLAB = None, Timer = False)\n",
    "\n",
    "results"
   ]
  },
  {
   "cell_type": "code",
   "execution_count": 8,
   "metadata": {},
   "outputs": [
    {
     "ename": "NameError",
     "evalue": "name 'eng' is not defined",
     "output_type": "error",
     "traceback": [
      "\u001b[0;31m---------------------------------------------------------------------------\u001b[0m",
      "\u001b[0;31mNameError\u001b[0m                                 Traceback (most recent call last)",
      "\u001b[0;32m/tmp/ipykernel_20000/192827112.py\u001b[0m in \u001b[0;36m<module>\u001b[0;34m\u001b[0m\n\u001b[0;32m----> 1\u001b[0;31m \u001b[0meng\u001b[0m\u001b[0;34m.\u001b[0m\u001b[0mquit\u001b[0m\u001b[0;34m(\u001b[0m\u001b[0;34m)\u001b[0m\u001b[0;34m\u001b[0m\u001b[0;34m\u001b[0m\u001b[0m\n\u001b[0m",
      "\u001b[0;31mNameError\u001b[0m: name 'eng' is not defined"
     ]
    }
   ],
   "source": [
    "eng.quit()"
   ]
  }
 ],
 "metadata": {
  "kernelspec": {
   "display_name": "Python 3",
   "language": "python",
   "name": "python3"
  },
  "language_info": {
   "codemirror_mode": {
    "name": "ipython",
    "version": 3
   },
   "file_extension": ".py",
   "mimetype": "text/x-python",
   "name": "python",
   "nbconvert_exporter": "python",
   "pygments_lexer": "ipython3",
   "version": "3.11.9"
  }
 },
 "nbformat": 4,
 "nbformat_minor": 2
}
