{
 "cells": [
  {
   "cell_type": "code",
   "execution_count": 1,
   "id": "09cad3b7",
   "metadata": {},
   "outputs": [
    {
     "name": "stderr",
     "output_type": "stream",
     "text": [
      "/usr/lib/python3/dist-packages/scipy/__init__.py:146: UserWarning: A NumPy version >=1.17.3 and <1.25.0 is required for this version of SciPy (detected version 1.26.3\n",
      "  warnings.warn(f\"A NumPy version >={np_minversion} and <{np_maxversion}\"\n"
     ]
    }
   ],
   "source": [
    "import numpy as np\n",
    "import pandas as pd\n",
    "import matplotlib.pyplot as plt\n",
    "from mpl_toolkits.mplot3d import Axes3D\n",
    "from scipy.spatial import distance\n",
    "from scipy.sparse.csgraph import minimum_spanning_tree\n",
    "import math\n"
   ]
  },
  {
   "cell_type": "code",
   "execution_count": 2,
   "id": "9a944aa0",
   "metadata": {},
   "outputs": [],
   "source": [
    "from modules.dp_bounds import dp_bounds\n",
    "\n"
   ]
  },
  {
   "cell_type": "code",
   "execution_count": 3,
   "id": "de25f9c0",
   "metadata": {},
   "outputs": [
    {
     "data": {
      "text/plain": [
       "array([ 100,  164,  271,  446,  735, 1211, 1995])"
      ]
     },
     "execution_count": 3,
     "metadata": {},
     "output_type": "execute_result"
    }
   ],
   "source": [
    "sample_sizes = np.logspace(2, 3.3, 7 , endpoint = True, dtype = int)\n",
    "\n",
    "sample_sizes"
   ]
  },
  {
   "cell_type": "code",
   "execution_count": 4,
   "id": "d52b7eaf",
   "metadata": {},
   "outputs": [],
   "source": [
    "# Set the mean and covariance matrix for each Gaussian distribution\n",
    "\n",
    "mean1 = [0, 0, 0 , 0 , 0, 0, 0 , 0]\n",
    "# covariance1 = np.ones((3,3))\n",
    "covariance1 = np.identity(8)\n",
    "# covariance1 = [[1, 0, 0],  [0, 1, 0], [0, 0, 0]\n",
    "\n",
    "mean2 = [2.56, 0, 0 , 0, 0, 0,0, 0 ]\n",
    "# mean2 = [math.sqrt(1/2), math.sqrt(1/2), 0]\n",
    "\n",
    "# covariance2 = np.ones((3,3))\n",
    "covariance2= np.identity(8)\n",
    "\n",
    "\n",
    "MC_num = 500\n"
   ]
  },
  {
   "cell_type": "code",
   "execution_count": 5,
   "id": "fa9bd974",
   "metadata": {},
   "outputs": [
    {
     "name": "stdout",
     "output_type": "stream",
     "text": [
      "done with  100\n",
      "done with  164\n",
      "done with  271\n",
      "done with  446\n",
      "done with  735\n",
      "done with  1211\n",
      "done with  1995\n"
     ]
    }
   ],
   "source": [
    "dp_lst = []\n",
    "for i in sample_sizes:\n",
    "    n0, n1 = i, i\n",
    "    params1  = [mean1, covariance1, n0]\n",
    "    params2  = [mean2, covariance2, n1]\n",
    "    \n",
    "    dp_class = dp_bounds('mv_normal', params1, params2, MC_num,handle_errors= True)\n",
    "    dp_lst.append(dp_class)\n",
    "    print(\"done with \", i)\n"
   ]
  },
  {
   "cell_type": "code",
   "execution_count": 8,
   "id": "2c4732a7",
   "metadata": {},
   "outputs": [
    {
     "name": "stdout",
     "output_type": "stream",
     "text": [
      "BER 2d: 0.10027244449669406\n"
     ]
    }
   ],
   "source": [
    "dx = 0.001\n",
    "x = np.arange(-5, 5 + dx, dx)\n",
    "\n",
    "f0 = np.exp(-0.5 * (x - 0)**2) / np.sqrt(2 * np.pi)\n",
    "f1 = np.exp(-0.5 * (x - 2.56)**2) / np.sqrt(2 * np.pi)\n",
    "\n",
    "fmin = np.minimum(f0, f1)\n",
    "\n",
    "BER = 0.5 * np.sum(fmin * dx)\n",
    "\n",
    "print(\"BER 2d:\", BER)"
   ]
  },
  {
   "cell_type": "code",
   "execution_count": 9,
   "id": "02443c9c",
   "metadata": {},
   "outputs": [],
   "source": [
    "BER_lst = np.ones(MC_num) * BER\n",
    "\n",
    "\n",
    "def mse(l1, l2):## numpy lists\n",
    "    return ((l1 - l2)**2).mean(axis=0)"
   ]
  },
  {
   "cell_type": "code",
   "execution_count": 11,
   "id": "0824a9a4",
   "metadata": {},
   "outputs": [],
   "source": [
    "lower_mse = []\n",
    "upper_mse =[]\n",
    "for obj in dp_lst:\n",
    "    l_mse = mse(BER_lst, obj.get_bounds()[0]) \n",
    "    lower_mse.append(l_mse)\n",
    "    \n",
    "    u_mse = mse(BER_lst, obj.get_bounds()[1])\n",
    "    upper_mse.append(u_mse)       \n"
   ]
  },
  {
   "cell_type": "code",
   "execution_count": 38,
   "id": "b75e2195",
   "metadata": {},
   "outputs": [
    {
     "data": {
      "image/png": "[encoded data removed]",
      "text/plain": [
       "<Figure size 720x504 with 1 Axes>"
      ]
     },
     "metadata": {
      "needs_background": "light"
     },
     "output_type": "display_data"
    }
   ],
   "source": [
    "fs =17\n",
    "fig = plt.figure(figsize=(10, 7))\n",
    "ax = fig.add_subplot(111)\n",
    "\n",
    "ax.set_xscale('log', base=10)\n",
    "# ax.set_yscale('log', base=10)\n",
    "\n",
    "ax.plot(sample_sizes, lower_mse, label='Lower Bound')\n",
    "ax.plot(sample_sizes, upper_mse, label='Upper Bound')\n",
    "\n",
    "ax.set_xlabel(\"Sample Size  (Log Scale)\", fontsize = fs)\n",
    "ax.set_ylabel(\"MSE , (Log Scale)\", fontsize=fs)\n",
    "ax.set_title(\"MSE of Bounds for 8 Dimensional Data Set\", fontsize = fs +4)\n",
    "ax.legend()\n",
    "# plt.savefig(\"test.png\",facecolor=(1,1,1,1))\n",
    "\n",
    "plt.show()\n"
   ]
  }
 ],
 "metadata": {
  "kernelspec": {
   "display_name": "Python 3 (ipykernel)",
   "language": "python",
   "name": "python3"
  },
  "language_info": {
   "codemirror_mode": {
    "name": "ipython",
    "version": 3
   },
   "file_extension": ".py",
   "mimetype": "text/x-python",
   "name": "python",
   "nbconvert_exporter": "python",
   "pygments_lexer": "ipython3",
   "version": "3.10.12"
  }
 },
 "nbformat": 4,
 "nbformat_minor": 5
}
