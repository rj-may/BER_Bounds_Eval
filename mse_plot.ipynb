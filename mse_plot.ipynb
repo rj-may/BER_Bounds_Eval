{
 "cells": [
  {
   "cell_type": "code",
   "execution_count": 1,
   "id": "09cad3b7",
   "metadata": {},
   "outputs": [
    {
     "name": "stderr",
     "output_type": "stream",
     "text": [
      "/usr/lib/python3/dist-packages/scipy/__init__.py:146: UserWarning: A NumPy version >=1.17.3 and <1.25.0 is required for this version of SciPy (detected version 1.26.3\n",
      "  warnings.warn(f\"A NumPy version >={np_minversion} and <{np_maxversion}\"\n"
     ]
    }
   ],
   "source": [
    "import numpy as np\n",
    "import pandas as pd\n",
    "import matplotlib.pyplot as plt\n",
    "from mpl_toolkits.mplot3d import Axes3D\n",
    "from scipy.spatial import distance\n",
    "from scipy.sparse.csgraph import minimum_spanning_tree\n",
    "import math\n",
    "import time\n"
   ]
  },
  {
   "cell_type": "code",
   "execution_count": 2,
   "id": "9a944aa0",
   "metadata": {},
   "outputs": [],
   "source": [
    "from modules.dp_bounds_threaded import dp_bounds\n",
    "# from modules.dp_bounds import dp_bounds\n",
    "\n",
    "from modules.Bhattacharyya_bounds import Bhattacharyya_bounds\n",
    "\n"
   ]
  },
  {
   "cell_type": "code",
   "execution_count": 3,
   "id": "de25f9c0",
   "metadata": {},
   "outputs": [
    {
     "data": {
      "text/plain": [
       "array([ 100,  164,  271,  446,  735, 1211, 1995])"
      ]
     },
     "execution_count": 3,
     "metadata": {},
     "output_type": "execute_result"
    }
   ],
   "source": [
    "sample_sizes = np.logspace(2, 3.3, 7 , endpoint = True, dtype = int)\n",
    "\n",
    "sample_sizes"
   ]
  },
  {
   "cell_type": "code",
   "execution_count": 4,
   "id": "d52b7eaf",
   "metadata": {},
   "outputs": [],
   "source": [
    "# Set the mean and covariance matrix for each Gaussian distribution\n",
    "\n",
    "mean1 = [0, 0, 0 , 0 , 0, 0, 0 , 0]\n",
    "# covariance1 = np.ones((3,3))\n",
    "covariance1 = np.identity(8)\n",
    "# covariance1 = [[1, 0, 0],  [0, 1, 0], [0, 0, 0]\n",
    "\n",
    "mean2 = [2.56, 0, 0 , 0, 0, 0,0, 0 ]\n",
    "# mean2 = [math.sqrt(1/2), math.sqrt(1/2), 0]\n",
    "\n",
    "# covariance2 = np.ones((3,3))\n",
    "covariance2= np.identity(8)\n",
    "\n",
    "\n",
    "MC_num = 400\n"
   ]
  },
  {
   "cell_type": "code",
   "execution_count": 5,
   "id": "fa9bd974",
   "metadata": {},
   "outputs": [
    {
     "name": "stdout",
     "output_type": "stream",
     "text": [
      "done with  100  in  1.9738047122955322\n",
      "done with  164  in  4.954161882400513\n",
      "done with  271  in  15.73765778541565\n",
      "done with  446  in  45.377026081085205\n",
      "done with  735  in  136.40802550315857\n"
     ]
    },
    {
     "ename": "KeyboardInterrupt",
     "evalue": "",
     "output_type": "error",
     "traceback": [
      "\u001b[0;31m---------------------------------------------------------------------------\u001b[0m",
      "\u001b[0;31mKeyboardInterrupt\u001b[0m                         Traceback (most recent call last)",
      "\u001b[0;32m/tmp/ipykernel_14625/503576383.py\u001b[0m in \u001b[0;36m<module>\u001b[0;34m\u001b[0m\n\u001b[1;32m     15\u001b[0m \u001b[0;34m\u001b[0m\u001b[0m\n\u001b[1;32m     16\u001b[0m \u001b[0;31m#     dp_class = dp_bounds('mv_normal', params1, params2, MC_num, threads = 2, handle_errors= 'worst')\u001b[0m\u001b[0;34m\u001b[0m\u001b[0;34m\u001b[0m\u001b[0m\n\u001b[0;32m---> 17\u001b[0;31m     \u001b[0mdp_class\u001b[0m \u001b[0;34m=\u001b[0m \u001b[0mdp_bounds\u001b[0m\u001b[0;34m(\u001b[0m\u001b[0;34m'mv_normal'\u001b[0m\u001b[0;34m,\u001b[0m \u001b[0mparams1\u001b[0m\u001b[0;34m,\u001b[0m \u001b[0mparams2\u001b[0m\u001b[0;34m,\u001b[0m \u001b[0mMC_num\u001b[0m\u001b[0;34m,\u001b[0m \u001b[0mhandle_errors\u001b[0m\u001b[0;34m=\u001b[0m \u001b[0;34m'worst'\u001b[0m\u001b[0;34m)\u001b[0m\u001b[0;34m\u001b[0m\u001b[0;34m\u001b[0m\u001b[0m\n\u001b[0m\u001b[1;32m     18\u001b[0m \u001b[0;34m\u001b[0m\u001b[0m\n\u001b[1;32m     19\u001b[0m     \u001b[0mBha_class\u001b[0m \u001b[0;34m=\u001b[0m \u001b[0mBhattacharyya_bounds\u001b[0m\u001b[0;34m(\u001b[0m\u001b[0;34m'mv_normal'\u001b[0m\u001b[0;34m,\u001b[0m \u001b[0mparams1\u001b[0m\u001b[0;34m,\u001b[0m \u001b[0mparams2\u001b[0m\u001b[0;34m,\u001b[0m \u001b[0mMC_num\u001b[0m\u001b[0;34m)\u001b[0m\u001b[0;34m\u001b[0m\u001b[0;34m\u001b[0m\u001b[0m\n",
      "\u001b[0;32m/mnt/c/users/rjmay/code/research_ms/modules/dp_bounds.py\u001b[0m in \u001b[0;36m__init__\u001b[0;34m(self, dist_type, params0, params1, MC_Num, handle_errors, suppress_message)\u001b[0m\n\u001b[1;32m     36\u001b[0m             \u001b[0mprint\u001b[0m\u001b[0;34m(\u001b[0m\u001b[0;34m\"Not a programmed distribution \"\u001b[0m \u001b[0;34m)\u001b[0m\u001b[0;34m\u001b[0m\u001b[0;34m\u001b[0m\u001b[0m\n\u001b[1;32m     37\u001b[0m \u001b[0;34m\u001b[0m\u001b[0m\n\u001b[0;32m---> 38\u001b[0;31m         \u001b[0mself\u001b[0m\u001b[0;34m.\u001b[0m\u001b[0m__lower_bounds\u001b[0m\u001b[0;34m,\u001b[0m \u001b[0mself\u001b[0m\u001b[0;34m.\u001b[0m\u001b[0m__upper_bounds\u001b[0m\u001b[0;34m,\u001b[0m \u001b[0mself\u001b[0m\u001b[0;34m.\u001b[0m\u001b[0m__lower_stats\u001b[0m\u001b[0;34m,\u001b[0m \u001b[0mself\u001b[0m\u001b[0;34m.\u001b[0m\u001b[0m__upper_stats\u001b[0m \u001b[0;34m=\u001b[0m  \u001b[0mself\u001b[0m\u001b[0;34m.\u001b[0m\u001b[0m__simulate\u001b[0m\u001b[0;34m(\u001b[0m\u001b[0mself\u001b[0m\u001b[0;34m.\u001b[0m\u001b[0m__MC_num\u001b[0m\u001b[0;34m)\u001b[0m\u001b[0;34m\u001b[0m\u001b[0;34m\u001b[0m\u001b[0m\n\u001b[0m\u001b[1;32m     39\u001b[0m \u001b[0;34m\u001b[0m\u001b[0m\n\u001b[1;32m     40\u001b[0m \u001b[0;34m\u001b[0m\u001b[0m\n",
      "\u001b[0;32m/mnt/c/users/rjmay/code/research_ms/modules/dp_bounds.py\u001b[0m in \u001b[0;36m__simulate\u001b[0;34m(self, MC_iter)\u001b[0m\n\u001b[1;32m    127\u001b[0m             \u001b[0mdata1\u001b[0m \u001b[0;34m=\u001b[0m  \u001b[0mnp\u001b[0m\u001b[0;34m.\u001b[0m\u001b[0mrandom\u001b[0m\u001b[0;34m.\u001b[0m\u001b[0mmultivariate_normal\u001b[0m\u001b[0;34m(\u001b[0m\u001b[0mmean1\u001b[0m\u001b[0;34m,\u001b[0m \u001b[0mcovariance1\u001b[0m\u001b[0;34m,\u001b[0m \u001b[0mn1\u001b[0m\u001b[0;34m)\u001b[0m\u001b[0;34m\u001b[0m\u001b[0;34m\u001b[0m\u001b[0m\n\u001b[1;32m    128\u001b[0m \u001b[0;34m\u001b[0m\u001b[0m\n\u001b[0;32m--> 129\u001b[0;31m             \u001b[0mFR\u001b[0m  \u001b[0;34m=\u001b[0m \u001b[0mself\u001b[0m\u001b[0;34m.\u001b[0m\u001b[0m__get_FR\u001b[0m\u001b[0;34m(\u001b[0m\u001b[0mdata0\u001b[0m\u001b[0;34m,\u001b[0m \u001b[0mdata1\u001b[0m\u001b[0;34m)\u001b[0m\u001b[0;34m\u001b[0m\u001b[0;34m\u001b[0m\u001b[0m\n\u001b[0m\u001b[1;32m    130\u001b[0m \u001b[0;34m\u001b[0m\u001b[0m\n\u001b[1;32m    131\u001b[0m             \u001b[0mDp\u001b[0m  \u001b[0;34m=\u001b[0m \u001b[0;36m1\u001b[0m \u001b[0;34m-\u001b[0m \u001b[0mFR\u001b[0m \u001b[0;34m*\u001b[0m \u001b[0;34m(\u001b[0m\u001b[0mn0\u001b[0m \u001b[0;34m+\u001b[0m \u001b[0mn1\u001b[0m\u001b[0;34m)\u001b[0m\u001b[0;34m/\u001b[0m \u001b[0;34m(\u001b[0m\u001b[0;36m2\u001b[0m \u001b[0;34m*\u001b[0m \u001b[0mn0\u001b[0m \u001b[0;34m*\u001b[0m \u001b[0mn1\u001b[0m\u001b[0;34m)\u001b[0m\u001b[0;34m\u001b[0m\u001b[0;34m\u001b[0m\u001b[0m\n",
      "\u001b[0;32m/mnt/c/users/rjmay/code/research_ms/modules/dp_bounds.py\u001b[0m in \u001b[0;36m__get_FR\u001b[0;34m(self, data1, data2, plot)\u001b[0m\n\u001b[1;32m     77\u001b[0m         \u001b[0mdist_matrix\u001b[0m \u001b[0;34m=\u001b[0m \u001b[0mdistance\u001b[0m\u001b[0;34m.\u001b[0m\u001b[0msquareform\u001b[0m\u001b[0;34m(\u001b[0m\u001b[0mdistances\u001b[0m\u001b[0;34m)\u001b[0m\u001b[0;34m\u001b[0m\u001b[0;34m\u001b[0m\u001b[0m\n\u001b[1;32m     78\u001b[0m         \u001b[0;31m# Create a minimum spanning tree\u001b[0m\u001b[0;34m\u001b[0m\u001b[0;34m\u001b[0m\u001b[0m\n\u001b[0;32m---> 79\u001b[0;31m         \u001b[0mmst\u001b[0m \u001b[0;34m=\u001b[0m \u001b[0mminimum_spanning_tree\u001b[0m\u001b[0;34m(\u001b[0m\u001b[0mdist_matrix\u001b[0m\u001b[0;34m)\u001b[0m\u001b[0;34m\u001b[0m\u001b[0;34m\u001b[0m\u001b[0m\n\u001b[0m\u001b[1;32m     80\u001b[0m         \u001b[0;31m# Extract edges from the minimum spanning tree\u001b[0m\u001b[0;34m\u001b[0m\u001b[0;34m\u001b[0m\u001b[0m\n\u001b[1;32m     81\u001b[0m         \u001b[0medges\u001b[0m \u001b[0;34m=\u001b[0m \u001b[0mnp\u001b[0m\u001b[0;34m.\u001b[0m\u001b[0marray\u001b[0m\u001b[0;34m(\u001b[0m\u001b[0mnp\u001b[0m\u001b[0;34m.\u001b[0m\u001b[0mwhere\u001b[0m\u001b[0;34m(\u001b[0m\u001b[0mmst\u001b[0m\u001b[0;34m.\u001b[0m\u001b[0mtoarray\u001b[0m\u001b[0;34m(\u001b[0m\u001b[0;34m)\u001b[0m \u001b[0;34m>\u001b[0m \u001b[0;36m0\u001b[0m\u001b[0;34m)\u001b[0m\u001b[0;34m)\u001b[0m\u001b[0;34m.\u001b[0m\u001b[0mT\u001b[0m\u001b[0;34m\u001b[0m\u001b[0;34m\u001b[0m\u001b[0m\n",
      "\u001b[0;32m_min_spanning_tree.pyx\u001b[0m in \u001b[0;36mscipy.sparse.csgraph._min_spanning_tree.minimum_spanning_tree\u001b[0;34m()\u001b[0m\n",
      "\u001b[0;32m~/.sage/local/lib/python3.10/site-packages/numpy/core/fromnumeric.py\u001b[0m in \u001b[0;36margsort\u001b[0;34m(a, axis, kind, order)\u001b[0m\n\u001b[1;32m   1131\u001b[0m \u001b[0;34m\u001b[0m\u001b[0m\n\u001b[1;32m   1132\u001b[0m     \"\"\"\n\u001b[0;32m-> 1133\u001b[0;31m     \u001b[0;32mreturn\u001b[0m \u001b[0m_wrapfunc\u001b[0m\u001b[0;34m(\u001b[0m\u001b[0ma\u001b[0m\u001b[0;34m,\u001b[0m \u001b[0;34m'argsort'\u001b[0m\u001b[0;34m,\u001b[0m \u001b[0maxis\u001b[0m\u001b[0;34m=\u001b[0m\u001b[0maxis\u001b[0m\u001b[0;34m,\u001b[0m \u001b[0mkind\u001b[0m\u001b[0;34m=\u001b[0m\u001b[0mkind\u001b[0m\u001b[0;34m,\u001b[0m \u001b[0morder\u001b[0m\u001b[0;34m=\u001b[0m\u001b[0morder\u001b[0m\u001b[0;34m)\u001b[0m\u001b[0;34m\u001b[0m\u001b[0;34m\u001b[0m\u001b[0m\n\u001b[0m\u001b[1;32m   1134\u001b[0m \u001b[0;34m\u001b[0m\u001b[0m\n\u001b[1;32m   1135\u001b[0m \u001b[0;34m\u001b[0m\u001b[0m\n",
      "\u001b[0;32m~/.sage/local/lib/python3.10/site-packages/numpy/core/fromnumeric.py\u001b[0m in \u001b[0;36m_wrapfunc\u001b[0;34m(obj, method, *args, **kwds)\u001b[0m\n\u001b[1;32m     57\u001b[0m \u001b[0;34m\u001b[0m\u001b[0m\n\u001b[1;32m     58\u001b[0m     \u001b[0;32mtry\u001b[0m\u001b[0;34m:\u001b[0m\u001b[0;34m\u001b[0m\u001b[0;34m\u001b[0m\u001b[0m\n\u001b[0;32m---> 59\u001b[0;31m         \u001b[0;32mreturn\u001b[0m \u001b[0mbound\u001b[0m\u001b[0;34m(\u001b[0m\u001b[0;34m*\u001b[0m\u001b[0margs\u001b[0m\u001b[0;34m,\u001b[0m \u001b[0;34m**\u001b[0m\u001b[0mkwds\u001b[0m\u001b[0;34m)\u001b[0m\u001b[0;34m\u001b[0m\u001b[0;34m\u001b[0m\u001b[0m\n\u001b[0m\u001b[1;32m     60\u001b[0m     \u001b[0;32mexcept\u001b[0m \u001b[0mTypeError\u001b[0m\u001b[0;34m:\u001b[0m\u001b[0;34m\u001b[0m\u001b[0;34m\u001b[0m\u001b[0m\n\u001b[1;32m     61\u001b[0m         \u001b[0;31m# A TypeError occurs if the object does have such a method in its\u001b[0m\u001b[0;34m\u001b[0m\u001b[0;34m\u001b[0m\u001b[0m\n",
      "\u001b[0;31mKeyboardInterrupt\u001b[0m: "
     ]
    }
   ],
   "source": [
    "\n",
    "dp_lst = []\n",
    "\n",
    "Bha_lst = []\n",
    "\n",
    "\n",
    "start = time.time()\n",
    "\n",
    "\n",
    "for i in sample_sizes:\n",
    "    start = time.time()\n",
    "\n",
    "    n0, n1 = i, i\n",
    "    params1  = [mean1, covariance1, n0]\n",
    "    params2  = [mean2, covariance2, n1]\n",
    "    \n",
    "    dp_class = dp_bounds('mv_normal', params1, params2, MC_num, threads = 2, handle_errors= 'worst')\n",
    "#     dp_class = dp_bounds('mv_normal', params1, params2, MC_num, handle_errors= 'worst')\n",
    "\n",
    "    Bha_class = Bhattacharyya_bounds('mv_normal', params1, params2, MC_num)\n",
    "\n",
    "    dp_lst.append(dp_class)\n",
    "    Bha_lst.append(Bha_class)\n",
    "    end = time.time()\n",
    "    print(\"done with \", i, \" in \",  end -start )\n"
   ]
  },
  {
   "cell_type": "code",
   "execution_count": null,
   "id": "2c4732a7",
   "metadata": {},
   "outputs": [],
   "source": [
    "dx = 0.001\n",
    "x = np.arange(-5, 5 + dx, dx)\n",
    "\n",
    "f0 = np.exp(-0.5 * (x - 0)**2) / np.sqrt(2 * np.pi)\n",
    "f1 = np.exp(-0.5 * (x - 2.56)**2) / np.sqrt(2 * np.pi)\n",
    "\n",
    "fmin = np.minimum(f0, f1)\n",
    "\n",
    "BER = 0.5 * np.sum(fmin * dx)\n",
    "\n",
    "print(\"BER 2d:\", BER)"
   ]
  },
  {
   "cell_type": "code",
   "execution_count": null,
   "id": "02443c9c",
   "metadata": {},
   "outputs": [],
   "source": [
    "BER_lst = np.ones(MC_num) * BER\n",
    "\n",
    "\n",
    "def mse(l1, l2):## numpy lists\n",
    "    return ((l1 - l2)**2).mean(axis=0)"
   ]
  },
  {
   "cell_type": "code",
   "execution_count": null,
   "id": "0824a9a4",
   "metadata": {},
   "outputs": [],
   "source": [
    "lower_mse_DP = []\n",
    "upper_mse_DP =[]\n",
    "\n",
    "lower_mse_Bha = []\n",
    "upper_mse_Bha =[]\n",
    "\n",
    "\n",
    "for obj in dp_lst:\n",
    "    l_mse = mse(BER_lst, obj.get_bounds()[0]) \n",
    "    lower_mse_DP.append(l_mse)\n",
    "    \n",
    "    u_mse = mse(BER_lst, obj.get_bounds()[1])\n",
    "    upper_mse_DP.append(u_mse)       \n",
    "\n",
    "    \n",
    "for obj in Bha_lst:\n",
    "    l_mse = mse(BER_lst, obj.get_bounds()[0]) \n",
    "    lower_mse_Bha.append(l_mse)\n",
    "    \n",
    "    u_mse = mse(BER_lst, obj.get_bounds()[1])\n",
    "    upper_mse_Bha.append(u_mse)       \n"
   ]
  },
  {
   "cell_type": "code",
   "execution_count": null,
   "id": "374acbf0",
   "metadata": {},
   "outputs": [],
   "source": [
    "Bha_lst"
   ]
  },
  {
   "cell_type": "code",
   "execution_count": null,
   "id": "b75e2195",
   "metadata": {},
   "outputs": [],
   "source": [
    "fs =17\n",
    "fig = plt.figure(figsize=(10, 7))\n",
    "ax = fig.add_subplot(111)\n",
    "\n",
    "ax.set_xscale('log', base=10)\n",
    "ax.set_yscale('log', base=10)\n",
    "\n",
    "ax.plot(sample_sizes, lower_mse_DP, label='Lower Bound Dp')\n",
    "ax.plot(sample_sizes, lower_mse_Bha, label='Lower Bound Bha')\n",
    "\n",
    "\n",
    "ax.set_xlabel(\"Sample Size (Log Scale)  \", fontsize = fs)\n",
    "ax.set_ylabel(\"MSE (Log Scale) \", fontsize=fs)\n",
    "ax.set_title(\"MSE of Lower Bounds for 8 Dimensional Data Set\", fontsize = fs +4)\n",
    "ax.legend()\n",
    "# plt.savefig(\"log_test.png\",facecolor=(1,1,1,1))\n",
    "# ax.set_xticks(sample_sizes)\n",
    "plt.show()\n"
   ]
  },
  {
   "cell_type": "code",
   "execution_count": null,
   "id": "a01cb5ab",
   "metadata": {},
   "outputs": [],
   "source": [
    "fs =17\n",
    "fig = plt.figure(figsize=(10, 7))\n",
    "ax = fig.add_subplot(111)\n",
    "\n",
    "ax.set_xscale('log', base=10)\n",
    "ax.set_yscale('log', base=10)\n",
    "\n",
    "ax.plot(sample_sizes, upper_mse_DP, label='Upper Bound Dp')\n",
    "ax.plot(sample_sizes, upper_mse_Bha, label='UPper Bound Bha')\n",
    "\n",
    "\n",
    "ax.set_xlabel(\"Sample Size (Log Scale)  \", fontsize = fs)\n",
    "ax.set_ylabel(\"MSE (Log Scale) \", fontsize=fs)\n",
    "ax.set_title(\"MSE of Upper Bounds for 8 Dimensional Data Set\", fontsize = fs +4)\n",
    "ax.legend()\n",
    "# plt.savefig(\"log_test.png\",facecolor=(1,1,1,1))\n",
    "# ax.set_xticks(sample_sizes)\n",
    "plt.show()"
   ]
  },
  {
   "cell_type": "code",
   "execution_count": null,
   "id": "2399bf7a",
   "metadata": {},
   "outputs": [],
   "source": [
    "import matplotlib.pyplot as plt\n",
    "\n",
    "fs = 17\n",
    "fig, axes = plt.subplots(nrows=2, ncols=1, figsize=(10,8))\n",
    "\n",
    "# Plot for Upper Bounds\n",
    "axes[0].set_xscale('log', base=10)\n",
    "axes[0].set_yscale('log', base=10)\n",
    "axes[0].plot(sample_sizes, upper_mse_DP, label='Upper Bound Dp')\n",
    "axes[0].plot(sample_sizes, upper_mse_Bha, label='Upper Bound Bha')\n",
    "axes[0].set_xlabel(\"Sample Size (Log Scale)\", fontsize=fs)\n",
    "axes[0].set_ylabel(\"MSE (Log Scale)\", fontsize=fs)\n",
    "axes[0].set_title(\"MSE of Upper Bounds for 8 Dimensional Data Set\", fontsize=fs + 4)\n",
    "axes[0].legend()\n",
    "\n",
    "# Plot for Lower Bounds\n",
    "axes[1].set_xscale('log', base=10)\n",
    "axes[1].set_yscale('log', base=10)\n",
    "axes[1].plot(sample_sizes, lower_mse_DP, label='Lower Bound Dp')\n",
    "axes[1].plot(sample_sizes, lower_mse_Bha, label='Lower Bound Bha')\n",
    "axes[1].set_xlabel(\"Sample Size (Log Scale)\", fontsize=fs)\n",
    "axes[1].set_ylabel(\"MSE (Log Scale)\", fontsize=fs)\n",
    "axes[1].set_title(\"MSE of Lower Bounds for 8 Dimensional Data Set\", fontsize=fs + 4)\n",
    "axes[1].legend()\n",
    "plt.tight_layout()\n",
    "\n",
    "plt.savefig(\"Both_bounds.png\",facecolor=(1,1,1,1))\n",
    "\n",
    "\n",
    "plt.show()"
   ]
  }
 ],
 "metadata": {
  "kernelspec": {
   "display_name": "Python 3 (ipykernel)",
   "language": "python",
   "name": "python3"
  },
  "language_info": {
   "codemirror_mode": {
    "name": "ipython",
    "version": 3
   },
   "file_extension": ".py",
   "mimetype": "text/x-python",
   "name": "python",
   "nbconvert_exporter": "python",
   "pygments_lexer": "ipython3",
   "version": "3.10.12"
  }
 },
 "nbformat": 4,
 "nbformat_minor": 5
}
